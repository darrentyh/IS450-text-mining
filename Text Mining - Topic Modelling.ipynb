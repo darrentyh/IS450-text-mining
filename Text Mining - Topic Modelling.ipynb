{
 "cells": [
  {
   "cell_type": "code",
   "execution_count": 137,
   "metadata": {},
   "outputs": [],
   "source": [
    "import pandas as pd\n",
    "import re\n",
    "import numpy as np\n",
    "import matplotlib.pyplot as plt\n",
    "%matplotlib inline\n",
    "import seaborn as sns\n",
    "import gensim\n",
    "import string \n",
    "import math\n",
    "import nltk\n",
    "\n",
    "from sklearn.model_selection import train_test_split\n",
    "from sklearn.feature_extraction.text import CountVectorizer,TfidfVectorizer\n",
    "from nltk.stem import WordNetLemmatizer\n",
    "from nltk.tokenize import sent_tokenize, word_tokenize\n",
    "from nltk.corpus import stopwords\n",
    "from gensim import corpora, models  \n",
    "from pprint import pprint\n",
    "from collections import Counter\n",
    "from datetime import datetime"
   ]
  },
  {
   "cell_type": "code",
   "execution_count": 138,
   "metadata": {},
   "outputs": [],
   "source": [
    "df = pd.read_csv(\"./winemag-data-130k-v2.csv/winemag-data-130k-v2.csv\")"
   ]
  },
  {
   "cell_type": "code",
   "execution_count": 139,
   "metadata": {},
   "outputs": [
    {
     "output_type": "execute_result",
     "data": {
      "text/plain": [
       "  country  \\\n",
       "0   Italy   \n",
       "\n",
       "                                                                                                                                                                    description  \\\n",
       "0  Aromas include tropical fruit, broom, brimstone and dried herb. The palate isn't overly expressive, offering unripened apple, citrus and dried sage alongside brisk acidity.   \n",
       "\n",
       "    designation  points  price           province region_1 region_2  \\\n",
       "0  Vulkà Bianco      87    NaN  Sicily & Sardinia     Etna      NaN   \n",
       "\n",
       "     taster_name taster_twitter_handle                              title  \\\n",
       "0  Kerin O’Keefe          @kerinokeefe  Nicosia 2013 Vulkà Bianco  (Etna)   \n",
       "\n",
       "       variety   winery  \n",
       "0  White Blend  Nicosia  "
      ],
      "text/html": "<div>\n<style scoped>\n    .dataframe tbody tr th:only-of-type {\n        vertical-align: middle;\n    }\n\n    .dataframe tbody tr th {\n        vertical-align: top;\n    }\n\n    .dataframe thead th {\n        text-align: right;\n    }\n</style>\n<table border=\"1\" class=\"dataframe\">\n  <thead>\n    <tr style=\"text-align: right;\">\n      <th></th>\n      <th>country</th>\n      <th>description</th>\n      <th>designation</th>\n      <th>points</th>\n      <th>price</th>\n      <th>province</th>\n      <th>region_1</th>\n      <th>region_2</th>\n      <th>taster_name</th>\n      <th>taster_twitter_handle</th>\n      <th>title</th>\n      <th>variety</th>\n      <th>winery</th>\n    </tr>\n  </thead>\n  <tbody>\n    <tr>\n      <th>0</th>\n      <td>Italy</td>\n      <td>Aromas include tropical fruit, broom, brimstone and dried herb. The palate isn't overly expressive, offering unripened apple, citrus and dried sage alongside brisk acidity.</td>\n      <td>Vulkà Bianco</td>\n      <td>87</td>\n      <td>NaN</td>\n      <td>Sicily &amp; Sardinia</td>\n      <td>Etna</td>\n      <td>NaN</td>\n      <td>Kerin O’Keefe</td>\n      <td>@kerinokeefe</td>\n      <td>Nicosia 2013 Vulkà Bianco  (Etna)</td>\n      <td>White Blend</td>\n      <td>Nicosia</td>\n    </tr>\n  </tbody>\n</table>\n</div>"
     },
     "metadata": {},
     "execution_count": 139
    }
   ],
   "source": [
    "df.head(1)"
   ]
  },
  {
   "cell_type": "code",
   "execution_count": 140,
   "metadata": {},
   "outputs": [
    {
     "output_type": "execute_result",
     "data": {
      "text/plain": [
       "(129971, 13)"
      ]
     },
     "metadata": {},
     "execution_count": 140
    }
   ],
   "source": [
    "df.shape"
   ]
  },
  {
   "cell_type": "code",
   "execution_count": 141,
   "metadata": {},
   "outputs": [
    {
     "output_type": "execute_result",
     "data": {
      "text/plain": [
       "country                      43\n",
       "description              119955\n",
       "designation               37976\n",
       "points                       21\n",
       "price                       390\n",
       "province                    425\n",
       "region_1                   1229\n",
       "region_2                     17\n",
       "taster_name                  19\n",
       "taster_twitter_handle        15\n",
       "title                    118840\n",
       "variety                     707\n",
       "winery                    16757\n",
       "dtype: int64"
      ]
     },
     "metadata": {},
     "execution_count": 141
    }
   ],
   "source": [
    "df.nunique()"
   ]
  },
  {
   "cell_type": "code",
   "execution_count": 142,
   "metadata": {},
   "outputs": [
    {
     "output_type": "execute_result",
     "data": {
      "text/plain": [
       "array([ 87,  86,  85,  88,  92,  91,  90,  89,  83,  82,  81,  80, 100,\n",
       "        98,  97,  96,  95,  93,  94,  84,  99], dtype=int64)"
      ]
     },
     "metadata": {},
     "execution_count": 142
    }
   ],
   "source": [
    "# Points range between 80 to 100\n",
    "df['points'].unique()"
   ]
  },
  {
   "source": [
    "# Feature Engineering\n",
    "\n",
    "1. Binning the column \"Points\" - Split into 4 bins\n",
    "2. Convert \"points\" into target variables of 1,2,3,4"
   ],
   "cell_type": "markdown",
   "metadata": {}
  },
  {
   "cell_type": "code",
   "execution_count": 143,
   "metadata": {},
   "outputs": [],
   "source": [
    "# Binning the column \"Points\" - Split into 4 bins\n",
    "\n",
    "cut_labels_4 = ['average', 'good', 'very good', 'excellent']\n",
    "cut_bins = [80, 85, 90, 95, 100]\n",
    "df['ratings'] = pd.cut(df['points'], bins=cut_bins, labels=cut_labels_4)"
   ]
  },
  {
   "cell_type": "code",
   "execution_count": 144,
   "metadata": {},
   "outputs": [],
   "source": [
    "# Function to convert to 0 and 1\n",
    "def label(x):\n",
    "    if x == 'average':\n",
    "        return 1\n",
    "    elif x == 'good':\n",
    "        return 2\n",
    "    elif x == 'very good':\n",
    "        return 3\n",
    "    else:\n",
    "        return 4\n",
    "\n",
    "# Apply the values throughout\n",
    "df['ratings_label'] = df['ratings'].apply(lambda x: label(x))"
   ]
  },
  {
   "cell_type": "code",
   "execution_count": 145,
   "metadata": {},
   "outputs": [
    {
     "output_type": "execute_result",
     "data": {
      "text/plain": [
       "        country  \\\n",
       "83379        US   \n",
       "63568  Portugal   \n",
       "4124         US   \n",
       "\n",
       "                                                                                                                                                                                                                                                  description  \\\n",
       "83379             Pretty and polished, an elegant, lighter style Pinot Noir to drink now with rich pork, lamb and beef dishes or grilled salmon. It's silky and satiny, with pleasant wild strawberry, cherry, red currant, licorice, cola and cedar flavors.   \n",
       "63568  The Santar estate is a showpiece in the Dão, producing ageworthy wines. This impressive, rich and juicy wine has structure, dark tannins and powerful black plum fruits. It's full of bold flavors and ready to age a few more years. Drink from 2017.   \n",
       "4124                               A very agreeable, satisfying blend of ripe fruit and firm texture makes this full-bodied wine a winner. It has enough concentration to drench the palate with blackberries and linger on the finish with cinnamon accents.   \n",
       "\n",
       "             designation  points  price    province              region_1  \\\n",
       "83379                NaN      87   35.0  California  Russian River Valley   \n",
       "63568    Conde de Santar      93    NaN         Dão                   NaN   \n",
       "4124   Greenville Summit      90   48.0  California      Livermore Valley   \n",
       "\n",
       "            region_2 taster_name taster_twitter_handle  \\\n",
       "83379         Sonoma         NaN                   NaN   \n",
       "63568            NaN  Roger Voss            @vossroger   \n",
       "4124   Central Coast  Jim Gordon      @gordone_cellars   \n",
       "\n",
       "                                                                       title  \\\n",
       "83379            J Vineyards & Winery 2008 Pinot Noir (Russian River Valley)   \n",
       "63568                                 Dão Sul 2009 Conde de Santar Red (Dão)   \n",
       "4124   En Garde 2013 Greenville Summit Cabernet Sauvignon (Livermore Valley)   \n",
       "\n",
       "                  variety                winery    ratings ratings_label  \n",
       "83379          Pinot Noir  J Vineyards & Winery       good             2  \n",
       "63568      Portuguese Red               Dão Sul  very good             3  \n",
       "4124   Cabernet Sauvignon              En Garde       good             2  "
      ],
      "text/html": "<div>\n<style scoped>\n    .dataframe tbody tr th:only-of-type {\n        vertical-align: middle;\n    }\n\n    .dataframe tbody tr th {\n        vertical-align: top;\n    }\n\n    .dataframe thead th {\n        text-align: right;\n    }\n</style>\n<table border=\"1\" class=\"dataframe\">\n  <thead>\n    <tr style=\"text-align: right;\">\n      <th></th>\n      <th>country</th>\n      <th>description</th>\n      <th>designation</th>\n      <th>points</th>\n      <th>price</th>\n      <th>province</th>\n      <th>region_1</th>\n      <th>region_2</th>\n      <th>taster_name</th>\n      <th>taster_twitter_handle</th>\n      <th>title</th>\n      <th>variety</th>\n      <th>winery</th>\n      <th>ratings</th>\n      <th>ratings_label</th>\n    </tr>\n  </thead>\n  <tbody>\n    <tr>\n      <th>83379</th>\n      <td>US</td>\n      <td>Pretty and polished, an elegant, lighter style Pinot Noir to drink now with rich pork, lamb and beef dishes or grilled salmon. It's silky and satiny, with pleasant wild strawberry, cherry, red currant, licorice, cola and cedar flavors.</td>\n      <td>NaN</td>\n      <td>87</td>\n      <td>35.0</td>\n      <td>California</td>\n      <td>Russian River Valley</td>\n      <td>Sonoma</td>\n      <td>NaN</td>\n      <td>NaN</td>\n      <td>J Vineyards &amp; Winery 2008 Pinot Noir (Russian River Valley)</td>\n      <td>Pinot Noir</td>\n      <td>J Vineyards &amp; Winery</td>\n      <td>good</td>\n      <td>2</td>\n    </tr>\n    <tr>\n      <th>63568</th>\n      <td>Portugal</td>\n      <td>The Santar estate is a showpiece in the Dão, producing ageworthy wines. This impressive, rich and juicy wine has structure, dark tannins and powerful black plum fruits. It's full of bold flavors and ready to age a few more years. Drink from 2017.</td>\n      <td>Conde de Santar</td>\n      <td>93</td>\n      <td>NaN</td>\n      <td>Dão</td>\n      <td>NaN</td>\n      <td>NaN</td>\n      <td>Roger Voss</td>\n      <td>@vossroger</td>\n      <td>Dão Sul 2009 Conde de Santar Red (Dão)</td>\n      <td>Portuguese Red</td>\n      <td>Dão Sul</td>\n      <td>very good</td>\n      <td>3</td>\n    </tr>\n    <tr>\n      <th>4124</th>\n      <td>US</td>\n      <td>A very agreeable, satisfying blend of ripe fruit and firm texture makes this full-bodied wine a winner. It has enough concentration to drench the palate with blackberries and linger on the finish with cinnamon accents.</td>\n      <td>Greenville Summit</td>\n      <td>90</td>\n      <td>48.0</td>\n      <td>California</td>\n      <td>Livermore Valley</td>\n      <td>Central Coast</td>\n      <td>Jim Gordon</td>\n      <td>@gordone_cellars</td>\n      <td>En Garde 2013 Greenville Summit Cabernet Sauvignon (Livermore Valley)</td>\n      <td>Cabernet Sauvignon</td>\n      <td>En Garde</td>\n      <td>good</td>\n      <td>2</td>\n    </tr>\n  </tbody>\n</table>\n</div>"
     },
     "metadata": {},
     "execution_count": 145
    }
   ],
   "source": [
    "df.sample(3)"
   ]
  },
  {
   "cell_type": "code",
   "execution_count": 146,
   "metadata": {},
   "outputs": [
    {
     "output_type": "execute_result",
     "data": {
      "text/plain": [
       "good         74376\n",
       "very good    32754\n",
       "average      21563\n",
       "excellent      881\n",
       "Name: ratings, dtype: int64"
      ]
     },
     "metadata": {},
     "execution_count": 146
    }
   ],
   "source": [
    "# Most wine falls under the good category, points range between (85-90)\n",
    "df['ratings'].value_counts()"
   ]
  },
  {
   "source": [
    "# Data Preprocessing"
   ],
   "cell_type": "markdown",
   "metadata": {}
  },
  {
   "source": [
    "Stopword Removal Preparation"
   ],
   "cell_type": "markdown",
   "metadata": {}
  },
  {
   "cell_type": "code",
   "execution_count": 147,
   "metadata": {},
   "outputs": [
    {
     "output_type": "stream",
     "name": "stdout",
     "text": [
      "Most common 100 words:  [('wine', 56151), ('flavors', 41815), ('aromas', 35267), ('fruit', 30011), ('drink', 26845), ('palate', 26193), ('black', 25235), ('ripe', 21520), ('acidity', 19611), ('tannins', 18284), ('red', 17731), ('cherry', 16892), ('notes', 15049), ('fresh', 13021), ('finish', 12716), ('offers', 12648), ('rich', 12496), ('spice', 11904), ('white', 11677), ('berry', 11449), ('shows', 11449), ('blend', 11346), ('nose', 9881), ('dark', 9874), ('plum', 9808), ('dry', 9662), ('crisp', 9624), ('oak', 9527), ('apple', 9442), ('sweet', 9439), ('cabernet', 9319), ('light', 9249), ('citrus', 8914), ('soft', 8913), ('full', 8817), ('bright', 8667), ('well', 8526), ('good', 8373), ('green', 8282), ('touch', 8278), ('blackberry', 8238), ('juicy', 7999), ('dried', 7839), ('fruits', 7812), ('vanilla', 7275), ('lemon', 7142), ('texture', 6842), ('firm', 6823), ('pepper', 6320), ('fruity', 6306), ('raspberry', 6239), ('pinot', 6203), ('also', 6150), ('made', 6113), ('hint', 5949), ('like', 5868), ('balanced', 5854), ('bit', 5742), ('give', 5725), ('peach', 5697), ('pear', 5631), ('still', 5573), ('opens', 5436), ('alongside', 5380), ('spicy', 5341), ('along', 5286), ('chocolate', 5081), ('slightly', 5055), ('hints', 4994), ('herbal', 4987), ('fine', 4966), ('lead', 4953), ('mineral', 4935), ('ready', 4902), ('great', 4892), ('wood', 4892), ('tart', 4862), ('concentrated', 4838), ('sauvignon', 4818), ('smooth', 4774), ('yet', 4631), ('orange', 4599), ('creamy', 4538), ('one', 4477), ('tannic', 4419), ('note', 4409), ('structure', 4384), ('savory', 4370), ('feels', 4225), ('new', 4205), ('delivers', 4178), ('character', 4167), ('herb', 4070), ('yellow', 4065), ('dense', 3936), ('almost', 3856), ('earthy', 3846), ('wild', 3825), ('little', 3817), ('currant', 3784)] \n\ndict_keys(['wine', 'flavors', 'aromas', 'fruit', 'drink', 'palate', 'black', 'ripe', 'acidity', 'tannins', 'red', 'cherry', 'notes', 'fresh', 'finish', 'offers', 'rich', 'spice', 'white', 'berry', 'shows', 'blend', 'nose', 'dark', 'plum', 'dry', 'crisp', 'oak', 'apple', 'sweet', 'cabernet', 'light', 'citrus', 'soft', 'full', 'bright', 'well', 'good', 'green', 'touch', 'blackberry', 'juicy', 'dried', 'fruits', 'vanilla', 'lemon', 'texture', 'firm', 'pepper', 'fruity', 'raspberry', 'pinot', 'also', 'made', 'hint', 'like', 'balanced', 'bit', 'give', 'peach', 'pear', 'still', 'opens', 'alongside', 'spicy', 'along', 'chocolate', 'slightly', 'hints', 'herbal', 'fine', 'lead', 'mineral', 'ready', 'great', 'wood', 'tart', 'concentrated', 'sauvignon', 'smooth', 'yet', 'orange', 'creamy', 'one', 'tannic', 'note', 'structure', 'savory', 'feels', 'new', 'delivers', 'character', 'herb', 'yellow', 'dense', 'almost', 'earthy', 'wild', 'little', 'currant'])\n"
     ]
    }
   ],
   "source": [
    "# Instantiate the set of stopwords\n",
    "stopword_list = stopwords.words('english')\n",
    "\n",
    "# storing the processed reviews into a list\n",
    "description_values_list = df['description'].values.tolist()\n",
    "\n",
    "complete_word_list = []\n",
    "\n",
    "# for each word in the reviews which are alphanumberic and not present in the stopword list instantiated, store them in complete_word_list\n",
    "  \n",
    "for doc in description_values_list:\n",
    "    for each_word in doc.split(\" \"):\n",
    "        word_lowercase = each_word.lower()\n",
    "        if word_lowercase.isalpha() and word_lowercase not in stopword_list:\n",
    "            complete_word_list.append(each_word.lower())\n",
    "\n",
    "# Pass the words_list  to instance of Counter class. \n",
    "word_counter = Counter(complete_word_list) \n",
    "# print(word_counter, \"\\n\")\n",
    "\n",
    "# most_common() produces k frequently encountered \n",
    "# The results will show the common words identified and their respective counts. \n",
    "top_100_occur_words = word_counter.most_common(100) \n",
    "print(\"Most common 100 words: \", top_100_occur_words, \"\\n\")\n",
    "\n",
    "def Convert(tup, dict): \n",
    "    for a, b in tup: \n",
    "        dict.setdefault(a, []).append(b) \n",
    "    return dict\n",
    "\n",
    "word_counter_dict = {}\n",
    "words = Convert(top_100_occur_words, word_counter_dict)\n",
    "print(words.keys())\n",
    "\n",
    "# Top 100 common words identified\n",
    "# ['wine', 'flavors', 'aromas', 'fruit', 'drink', 'palate', 'black', 'ripe', 'acidity', 'tannins', 'red', 'cherry', 'notes', 'fresh', 'finish', 'offers', 'rich', 'spice', 'white', 'berry', 'shows', 'blend', 'nose', 'dark', 'plum', 'dry', 'crisp', 'oak', 'apple', 'sweet', 'cabernet', 'light', 'citrus', 'soft', 'full', 'bright', 'well', 'good', 'green', 'touch', 'blackberry', 'juicy', 'dried', 'fruits', 'vanilla', 'lemon', 'texture', 'firm', 'pepper', 'fruity', 'raspberry', 'pinot', 'also', 'made', 'hint', 'like', 'balanced', 'bit', 'give', 'peach', 'pear', 'still', 'opens', 'alongside', 'spicy', 'along', 'chocolate', 'slightly', 'hints', 'herbal', 'fine', 'lead', 'mineral', 'ready', 'great', 'wood', 'tart', 'concentrated', 'sauvignon', 'smooth', 'yet', 'orange', 'creamy', 'one', 'tannic', 'note', 'structure', 'savory', 'feels', 'new', 'delivers', 'character', 'herb', 'yellow', 'dense', 'almost', 'earthy', 'wild', 'little', 'currant']\n",
    "\n",
    "# From the top 100 words we identified words which we will add into the stopword list\n",
    "common_word_list = ['wine', 'drink', 'shows', 'also', 'made', 'like', 'bit', 'give', 'opens', 'alongside', 'along', 'ready',  'yet', 'one', 'feels', 'almost']\n",
    "\n",
    "# Extend the existing stopword list with common words identified\n",
    "stopword_list.extend(common_word_list)"
   ]
  },
  {
   "source": [
    "Data Prepreocessing (STEPS)\n",
    "\n",
    "1. Convert text to lowercase\n",
    "2. Tokenize sentences\n",
    "3. Removal of stopwords based on stopword list generated above\n",
    "4. Lemmatize the words \n",
    "5. Removal of punctuation\n",
    "\n",
    "Return the processed text"
   ],
   "cell_type": "markdown",
   "metadata": {}
  },
  {
   "cell_type": "code",
   "execution_count": 148,
   "metadata": {},
   "outputs": [],
   "source": [
    "# Instantiate lemmatizer\n",
    "lemmatizer = WordNetLemmatizer()\n",
    "\n",
    "def preprocess(x):\n",
    "    \n",
    "    # 1. Lower case\n",
    "    tmp = x.lower()\n",
    "    \n",
    "    # 2. Tokenize the sentences\n",
    "    tokens = word_tokenize(tmp)\n",
    "\n",
    "    # 3. Remove stopwords\n",
    "    no_stopwords = [word for word in tokens if word not in stopword_list and word.isalpha()]\n",
    "    \n",
    "    # 4. Lemmatize\n",
    "    lemma_text = ' '.join([lemmatizer.lemmatize(word) for word in no_stopwords])\n",
    "\n",
    "    # 5. Remove punctuations\n",
    "    processed_text = lemma_text.translate(str.maketrans('', '', string.punctuation))\n",
    "        \n",
    "    return processed_text"
   ]
  },
  {
   "cell_type": "code",
   "execution_count": 149,
   "metadata": {},
   "outputs": [],
   "source": [
    "# Apply text preprocessing on the main dataframe\n",
    "df['cleaned_text'] = df['description'].apply(lambda x: preprocess(x))"
   ]
  },
  {
   "cell_type": "code",
   "execution_count": 152,
   "metadata": {},
   "outputs": [
    {
     "output_type": "execute_result",
     "data": {
      "text/plain": [
       "    country  \\\n",
       "0     Italy   \n",
       "1  Portugal   \n",
       "\n",
       "                                                                                                                                                                                                                           description  \\\n",
       "0                                                         Aromas include tropical fruit, broom, brimstone and dried herb. The palate isn't overly expressive, offering unripened apple, citrus and dried sage alongside brisk acidity.   \n",
       "1  This is ripe and fruity, a wine that is smooth while still structured. Firm tannins are filled out with juicy red berry fruits and freshened with acidity. It's  already drinkable, although it will certainly be better from 2016.   \n",
       "\n",
       "    designation  points  price           province region_1 region_2  \\\n",
       "0  Vulkà Bianco      87    NaN  Sicily & Sardinia     Etna      NaN   \n",
       "1      Avidagos      87   15.0              Douro      NaN      NaN   \n",
       "\n",
       "     taster_name taster_twitter_handle  \\\n",
       "0  Kerin O’Keefe          @kerinokeefe   \n",
       "1     Roger Voss            @vossroger   \n",
       "\n",
       "                                           title         variety  \\\n",
       "0              Nicosia 2013 Vulkà Bianco  (Etna)     White Blend   \n",
       "1  Quinta dos Avidagos 2011 Avidagos Red (Douro)  Portuguese Red   \n",
       "\n",
       "                winery ratings ratings_label  \\\n",
       "0              Nicosia    good             2   \n",
       "1  Quinta dos Avidagos    good             2   \n",
       "\n",
       "                                                                                                                                 cleaned_text  \n",
       "0   aroma include tropical fruit broom brimstone dried herb palate overly expressive offering unripened apple citrus dried sage brisk acidity  \n",
       "1  ripe fruity smooth still structured firm tannin filled juicy red berry fruit freshened acidity already drinkable although certainly better  "
      ],
      "text/html": "<div>\n<style scoped>\n    .dataframe tbody tr th:only-of-type {\n        vertical-align: middle;\n    }\n\n    .dataframe tbody tr th {\n        vertical-align: top;\n    }\n\n    .dataframe thead th {\n        text-align: right;\n    }\n</style>\n<table border=\"1\" class=\"dataframe\">\n  <thead>\n    <tr style=\"text-align: right;\">\n      <th></th>\n      <th>country</th>\n      <th>description</th>\n      <th>designation</th>\n      <th>points</th>\n      <th>price</th>\n      <th>province</th>\n      <th>region_1</th>\n      <th>region_2</th>\n      <th>taster_name</th>\n      <th>taster_twitter_handle</th>\n      <th>title</th>\n      <th>variety</th>\n      <th>winery</th>\n      <th>ratings</th>\n      <th>ratings_label</th>\n      <th>cleaned_text</th>\n    </tr>\n  </thead>\n  <tbody>\n    <tr>\n      <th>0</th>\n      <td>Italy</td>\n      <td>Aromas include tropical fruit, broom, brimstone and dried herb. The palate isn't overly expressive, offering unripened apple, citrus and dried sage alongside brisk acidity.</td>\n      <td>Vulkà Bianco</td>\n      <td>87</td>\n      <td>NaN</td>\n      <td>Sicily &amp; Sardinia</td>\n      <td>Etna</td>\n      <td>NaN</td>\n      <td>Kerin O’Keefe</td>\n      <td>@kerinokeefe</td>\n      <td>Nicosia 2013 Vulkà Bianco  (Etna)</td>\n      <td>White Blend</td>\n      <td>Nicosia</td>\n      <td>good</td>\n      <td>2</td>\n      <td>aroma include tropical fruit broom brimstone dried herb palate overly expressive offering unripened apple citrus dried sage brisk acidity</td>\n    </tr>\n    <tr>\n      <th>1</th>\n      <td>Portugal</td>\n      <td>This is ripe and fruity, a wine that is smooth while still structured. Firm tannins are filled out with juicy red berry fruits and freshened with acidity. It's  already drinkable, although it will certainly be better from 2016.</td>\n      <td>Avidagos</td>\n      <td>87</td>\n      <td>15.0</td>\n      <td>Douro</td>\n      <td>NaN</td>\n      <td>NaN</td>\n      <td>Roger Voss</td>\n      <td>@vossroger</td>\n      <td>Quinta dos Avidagos 2011 Avidagos Red (Douro)</td>\n      <td>Portuguese Red</td>\n      <td>Quinta dos Avidagos</td>\n      <td>good</td>\n      <td>2</td>\n      <td>ripe fruity smooth still structured firm tannin filled juicy red berry fruit freshened acidity already drinkable although certainly better</td>\n    </tr>\n  </tbody>\n</table>\n</div>"
     },
     "metadata": {},
     "execution_count": 152
    }
   ],
   "source": [
    "df.head(2)"
   ]
  },
  {
   "source": [
    "## Exporting the preprocessed DF to a CSV file"
   ],
   "cell_type": "markdown",
   "metadata": {}
  },
  {
   "cell_type": "code",
   "execution_count": 153,
   "metadata": {},
   "outputs": [],
   "source": [
    "# df.to_csv(r\"./winemag-data-130k-v2.csv/winemag-data-130k-v2-clean-desc.csv\", index = False, encoding = 'utf-8-sig')"
   ]
  },
  {
   "source": [
    "# N-Gram"
   ],
   "cell_type": "markdown",
   "metadata": {}
  },
  {
   "cell_type": "code",
   "execution_count": 201,
   "metadata": {},
   "outputs": [],
   "source": [
    "reviews_cleaned = df['cleaned_text'].values.tolist()\n",
    "\n",
    "# print(reviews_cleaned[0:2])\n",
    "# ['aroma include tropical fruit broom brimstone dried herb palate overly expressive offering unripened apple citrus dried sage brisk acidity', 'ripe fruity smooth still structured firm tannin filled juicy red berry fruit freshened acidity already drinkable although certainly better']\n",
    "\n",
    "bi = gensim.models.phrases.Phrases([review.split(\" \") for review in reviews_cleaned], min_count=10, threshold=25)\n",
    "df['bigram_cleaned_review'] = df['cleaned_text'].apply(lambda x: \" \".join(bi[x.split(\" \")]))\n",
    "\n",
    "tri = gensim.models.phrases.Phrases(bi[reviews_cleaned], min_count=5, threshold=25)\n",
    "df['trigram_cleaned_review'] = df['cleaned_text'].apply(lambda x: \" \".join(tri[bi[x.split(\" \")]]))"
   ]
  },
  {
   "cell_type": "code",
   "execution_count": 204,
   "metadata": {},
   "outputs": [
    {
     "output_type": "execute_result",
     "data": {
      "text/plain": [
       "      country  \\\n",
       "63546   Italy   \n",
       "\n",
       "                                                                                                                                                                                                                                            description  \\\n",
       "63546  Leafy underbrush, truffle, woodland berry and toast aromas lead the nose. The chewy, solid palate offers ripe black cherry, crushed raspberry, grilled sage and ground aniseed alongside bracing tannins and assertive acidity. Drink 2018–2028.   \n",
       "\n",
       "           designation  points  price  province region_1 region_2  \\\n",
       "63546  Cannubi Boschis      90   70.0  Piedmont   Barolo      NaN   \n",
       "\n",
       "         taster_name taster_twitter_handle  \\\n",
       "63546  Kerin O’Keefe          @kerinokeefe   \n",
       "\n",
       "                                                     title   variety  \\\n",
       "63546  Cantina del Nebbiolo 2011 Cannubi Boschis  (Barolo)  Nebbiolo   \n",
       "\n",
       "                     winery ratings ratings_label  \\\n",
       "63546  Cantina del Nebbiolo    good             2   \n",
       "\n",
       "                                                                                                                                                                                  cleaned_text  \\\n",
       "63546  leafy underbrush truffle woodland berry toast aroma lead nose chewy solid palate offer ripe black cherry crushed raspberry grilled sage ground aniseed bracing tannin assertive acidity   \n",
       "\n",
       "                                                                                                                                                                         bigram_cleaned_review  \\\n",
       "63546  leafy_underbrush truffle woodland_berry toast aroma lead nose chewy solid palate offer ripe black cherry crushed raspberry grilled_sage ground aniseed bracing tannin assertive acidity   \n",
       "\n",
       "                                                                                                                                                                        trigram_cleaned_review  \n",
       "63546  leafy_underbrush truffle woodland_berry toast aroma lead nose chewy solid palate offer ripe black cherry crushed raspberry grilled_sage ground aniseed bracing tannin assertive acidity  "
      ],
      "text/html": "<div>\n<style scoped>\n    .dataframe tbody tr th:only-of-type {\n        vertical-align: middle;\n    }\n\n    .dataframe tbody tr th {\n        vertical-align: top;\n    }\n\n    .dataframe thead th {\n        text-align: right;\n    }\n</style>\n<table border=\"1\" class=\"dataframe\">\n  <thead>\n    <tr style=\"text-align: right;\">\n      <th></th>\n      <th>country</th>\n      <th>description</th>\n      <th>designation</th>\n      <th>points</th>\n      <th>price</th>\n      <th>province</th>\n      <th>region_1</th>\n      <th>region_2</th>\n      <th>taster_name</th>\n      <th>taster_twitter_handle</th>\n      <th>title</th>\n      <th>variety</th>\n      <th>winery</th>\n      <th>ratings</th>\n      <th>ratings_label</th>\n      <th>cleaned_text</th>\n      <th>bigram_cleaned_review</th>\n      <th>trigram_cleaned_review</th>\n    </tr>\n  </thead>\n  <tbody>\n    <tr>\n      <th>63546</th>\n      <td>Italy</td>\n      <td>Leafy underbrush, truffle, woodland berry and toast aromas lead the nose. The chewy, solid palate offers ripe black cherry, crushed raspberry, grilled sage and ground aniseed alongside bracing tannins and assertive acidity. Drink 2018–2028.</td>\n      <td>Cannubi Boschis</td>\n      <td>90</td>\n      <td>70.0</td>\n      <td>Piedmont</td>\n      <td>Barolo</td>\n      <td>NaN</td>\n      <td>Kerin O’Keefe</td>\n      <td>@kerinokeefe</td>\n      <td>Cantina del Nebbiolo 2011 Cannubi Boschis  (Barolo)</td>\n      <td>Nebbiolo</td>\n      <td>Cantina del Nebbiolo</td>\n      <td>good</td>\n      <td>2</td>\n      <td>leafy underbrush truffle woodland berry toast aroma lead nose chewy solid palate offer ripe black cherry crushed raspberry grilled sage ground aniseed bracing tannin assertive acidity</td>\n      <td>leafy_underbrush truffle woodland_berry toast aroma lead nose chewy solid palate offer ripe black cherry crushed raspberry grilled_sage ground aniseed bracing tannin assertive acidity</td>\n      <td>leafy_underbrush truffle woodland_berry toast aroma lead nose chewy solid palate offer ripe black cherry crushed raspberry grilled_sage ground aniseed bracing tannin assertive acidity</td>\n    </tr>\n  </tbody>\n</table>\n</div>"
     },
     "metadata": {},
     "execution_count": 204
    }
   ],
   "source": [
    "df.sample(1)"
   ]
  },
  {
   "source": [
    "# Part of Speech Tag\n",
    "\n",
    "Allowed POS TAGS ==> Nouns and Verbs"
   ],
   "cell_type": "markdown",
   "metadata": {}
  },
  {
   "source": [
    "Testing the effects of N-GRAM and POS"
   ],
   "cell_type": "markdown",
   "metadata": {}
  },
  {
   "cell_type": "code",
   "execution_count": 206,
   "metadata": {},
   "outputs": [
    {
     "output_type": "stream",
     "name": "stdout",
     "text": [
      "UNI-GRAM:  leafy underbrush truffle woodland berry toast aroma lead nose chewy solid palate offer ripe black cherry crushed raspberry grilled sage ground aniseed bracing tannin assertive acidity \n\nBI-GRAM:  leafy_underbrush truffle woodland_berry toast aroma lead nose chewy solid palate offer ripe black cherry crushed raspberry grilled_sage ground aniseed bracing tannin assertive acidity \n\nTRI-GRAM:  leafy_underbrush truffle woodland_berry toast aroma lead nose chewy solid palate offer ripe black cherry crushed raspberry grilled_sage ground aniseed bracing tannin assertive acidity \n\nunigram_test_sent:  [('leafy', 'JJ'), ('underbrush', 'JJ'), ('truffle', 'NN'), ('woodland', 'NN'), ('berry', 'NN'), ('toast', 'NN'), ('aroma', 'JJ'), ('lead', 'NN'), ('nose', 'JJ'), ('chewy', 'JJ'), ('solid', 'JJ'), ('palate', 'NN'), ('offer', 'NN'), ('ripe', 'JJ'), ('black', 'JJ'), ('cherry', 'NN'), ('crushed', 'VBD'), ('raspberry', 'NN'), ('grilled', 'VBN'), ('sage', 'NN'), ('ground', 'NN'), ('aniseed', 'VBD'), ('bracing', 'VBG'), ('tannin', 'NN'), ('assertive', 'JJ'), ('acidity', 'NN')] \n\nbigram_test_sent:  [('leafy_underbrush', 'NN'), ('truffle', 'NN'), ('woodland_berry', 'VBP'), ('toast', 'RB'), ('aroma', 'JJ'), ('lead', 'NN'), ('nose', 'JJ'), ('chewy', 'JJ'), ('solid', 'JJ'), ('palate', 'NN'), ('offer', 'NN'), ('ripe', 'JJ'), ('black', 'JJ'), ('cherry', 'NN'), ('crushed', 'VBD'), ('raspberry', 'JJ'), ('grilled_sage', 'NN'), ('ground', 'NN'), ('aniseed', 'VBD'), ('bracing', 'VBG'), ('tannin', 'NN'), ('assertive', 'JJ'), ('acidity', 'NN')] \n\ntrigram_test_sent:  [('leafy_underbrush', 'NN'), ('truffle', 'NN'), ('woodland_berry', 'VBP'), ('toast', 'RB'), ('aroma', 'JJ'), ('lead', 'NN'), ('nose', 'JJ'), ('chewy', 'JJ'), ('solid', 'JJ'), ('palate', 'NN'), ('offer', 'NN'), ('ripe', 'JJ'), ('black', 'JJ'), ('cherry', 'NN'), ('crushed', 'VBD'), ('raspberry', 'JJ'), ('grilled_sage', 'NN'), ('ground', 'NN'), ('aniseed', 'VBD'), ('bracing', 'VBG'), ('tannin', 'NN'), ('assertive', 'JJ'), ('acidity', 'NN')] \n\n"
     ]
    }
   ],
   "source": [
    "unigram_test = df['cleaned_text'][63546]\n",
    "print(\"UNI-GRAM: \", unigram_test, \"\\n\")\n",
    "\n",
    "bigram_test = df['bigram_cleaned_review'][63546]\n",
    "print(\"BI-GRAM: \", bigram_test, \"\\n\")\n",
    "\n",
    "trigram_test = df['trigram_cleaned_review'][63546]\n",
    "print(\"TRI-GRAM: \", trigram_test, \"\\n\")\n",
    "\n",
    "unigram_test_sent = nltk.pos_tag([text for text in unigram_test.split(\" \")])\n",
    "print(\"unigram_test_sent: \", unigram_test_sent, \"\\n\")\n",
    "\n",
    "bigram_test_sent = nltk.pos_tag([text for text in bigram_test.split(\" \")])\n",
    "print(\"bigram_test_sent: \", bigram_test_sent, \"\\n\")\n",
    "\n",
    "trigram_test_sent = nltk.pos_tag([text for text in trigram_test.split(\" \")])\n",
    "print(\"trigram_test_sent: \", trigram_test_sent, \"\\n\")"
   ]
  },
  {
   "source": [
    "Function to extract only terms whereby POS Tags are Nouns or Verbs"
   ],
   "cell_type": "markdown",
   "metadata": {}
  },
  {
   "cell_type": "code",
   "execution_count": 234,
   "metadata": {},
   "outputs": [],
   "source": [
    "def pos_filter(sentence, allowed_postags=['NN', 'NNS', 'VB', 'VBD', 'VBG', 'VBP', 'VBZ']):\n",
    "    word_list_with_valid_pos_tags = []\n",
    "    word_pos = nltk.pos_tag([text for text in sentence.split(\" \")])\n",
    "    for word, pos in word_pos:\n",
    "        if pos in allowed_postags:\n",
    "            word_list_with_valid_pos_tags.append(word)\n",
    "    return word_list_with_valid_pos_tags\n",
    "\n",
    "# print(pos_filter(df['cleaned_text'][63546], allowed_postags=['NN', 'NNS', 'VB', 'VBD', 'VBG', 'VBP', 'VBZ']))"
   ]
  },
  {
   "cell_type": "code",
   "execution_count": 236,
   "metadata": {},
   "outputs": [],
   "source": [
    "# Apply to df for uni, bi and tri gram\n",
    "\n",
    "# Uni-gram\n",
    "df['unigram_cleaned_review_noun_verbs_only'] = df['cleaned_text'].apply(lambda x: \" \".join(pos_filter(x)))\n",
    "\n",
    "# Uni-gram\n",
    "df['bigram_cleaned_review_noun_verbs_only'] = df['bigram_cleaned_review'].apply(lambda x: \" \".join(pos_filter(x)))\n",
    "\n",
    "# Uni-gram\n",
    "df['trigram_cleaned_review_noun_verbs_only'] = df['trigram_cleaned_review'].apply(lambda x: \" \".join(pos_filter(x)))"
   ]
  },
  {
   "cell_type": "code",
   "execution_count": 247,
   "metadata": {},
   "outputs": [
    {
     "output_type": "execute_result",
     "data": {
      "text/plain": [
       "      country  \\\n",
       "63546   Italy   \n",
       "\n",
       "                                                                                                                                                                                                                                            description  \\\n",
       "63546  Leafy underbrush, truffle, woodland berry and toast aromas lead the nose. The chewy, solid palate offers ripe black cherry, crushed raspberry, grilled sage and ground aniseed alongside bracing tannins and assertive acidity. Drink 2018–2028.   \n",
       "\n",
       "           designation  points  price  province region_1 region_2  \\\n",
       "63546  Cannubi Boschis      90   70.0  Piedmont   Barolo      NaN   \n",
       "\n",
       "         taster_name taster_twitter_handle  ...   variety  \\\n",
       "63546  Kerin O’Keefe          @kerinokeefe  ...  Nebbiolo   \n",
       "\n",
       "                     winery ratings ratings_label  \\\n",
       "63546  Cantina del Nebbiolo    good             2   \n",
       "\n",
       "                                                                                                                                                                                  cleaned_text  \\\n",
       "63546  leafy underbrush truffle woodland berry toast aroma lead nose chewy solid palate offer ripe black cherry crushed raspberry grilled sage ground aniseed bracing tannin assertive acidity   \n",
       "\n",
       "                                                                                                                                                                         bigram_cleaned_review  \\\n",
       "63546  leafy_underbrush truffle woodland_berry toast aroma lead nose chewy solid palate offer ripe black cherry crushed raspberry grilled_sage ground aniseed bracing tannin assertive acidity   \n",
       "\n",
       "                                                                                                                                                                        trigram_cleaned_review  \\\n",
       "63546  leafy_underbrush truffle woodland_berry toast aroma lead nose chewy solid palate offer ripe black cherry crushed raspberry grilled_sage ground aniseed bracing tannin assertive acidity   \n",
       "\n",
       "                                                                                   unigram_cleaned_review_noun_verbs_only  \\\n",
       "63546  truffle woodland berry toast lead palate offer cherry crushed raspberry sage ground aniseed bracing tannin acidity   \n",
       "\n",
       "                                                                                             bigram_cleaned_review_noun_verbs_only  \\\n",
       "63546  leafy_underbrush truffle woodland_berry lead palate offer cherry crushed grilled_sage ground aniseed bracing tannin acidity   \n",
       "\n",
       "                                                                                            trigram_cleaned_review_noun_verbs_only  \n",
       "63546  leafy_underbrush truffle woodland_berry lead palate offer cherry crushed grilled_sage ground aniseed bracing tannin acidity  \n",
       "\n",
       "[1 rows x 21 columns]"
      ],
      "text/html": "<div>\n<style scoped>\n    .dataframe tbody tr th:only-of-type {\n        vertical-align: middle;\n    }\n\n    .dataframe tbody tr th {\n        vertical-align: top;\n    }\n\n    .dataframe thead th {\n        text-align: right;\n    }\n</style>\n<table border=\"1\" class=\"dataframe\">\n  <thead>\n    <tr style=\"text-align: right;\">\n      <th></th>\n      <th>country</th>\n      <th>description</th>\n      <th>designation</th>\n      <th>points</th>\n      <th>price</th>\n      <th>province</th>\n      <th>region_1</th>\n      <th>region_2</th>\n      <th>taster_name</th>\n      <th>taster_twitter_handle</th>\n      <th>...</th>\n      <th>variety</th>\n      <th>winery</th>\n      <th>ratings</th>\n      <th>ratings_label</th>\n      <th>cleaned_text</th>\n      <th>bigram_cleaned_review</th>\n      <th>trigram_cleaned_review</th>\n      <th>unigram_cleaned_review_noun_verbs_only</th>\n      <th>bigram_cleaned_review_noun_verbs_only</th>\n      <th>trigram_cleaned_review_noun_verbs_only</th>\n    </tr>\n  </thead>\n  <tbody>\n    <tr>\n      <th>63546</th>\n      <td>Italy</td>\n      <td>Leafy underbrush, truffle, woodland berry and toast aromas lead the nose. The chewy, solid palate offers ripe black cherry, crushed raspberry, grilled sage and ground aniseed alongside bracing tannins and assertive acidity. Drink 2018–2028.</td>\n      <td>Cannubi Boschis</td>\n      <td>90</td>\n      <td>70.0</td>\n      <td>Piedmont</td>\n      <td>Barolo</td>\n      <td>NaN</td>\n      <td>Kerin O’Keefe</td>\n      <td>@kerinokeefe</td>\n      <td>...</td>\n      <td>Nebbiolo</td>\n      <td>Cantina del Nebbiolo</td>\n      <td>good</td>\n      <td>2</td>\n      <td>leafy underbrush truffle woodland berry toast aroma lead nose chewy solid palate offer ripe black cherry crushed raspberry grilled sage ground aniseed bracing tannin assertive acidity</td>\n      <td>leafy_underbrush truffle woodland_berry toast aroma lead nose chewy solid palate offer ripe black cherry crushed raspberry grilled_sage ground aniseed bracing tannin assertive acidity</td>\n      <td>leafy_underbrush truffle woodland_berry toast aroma lead nose chewy solid palate offer ripe black cherry crushed raspberry grilled_sage ground aniseed bracing tannin assertive acidity</td>\n      <td>truffle woodland berry toast lead palate offer cherry crushed raspberry sage ground aniseed bracing tannin acidity</td>\n      <td>leafy_underbrush truffle woodland_berry lead palate offer cherry crushed grilled_sage ground aniseed bracing tannin acidity</td>\n      <td>leafy_underbrush truffle woodland_berry lead palate offer cherry crushed grilled_sage ground aniseed bracing tannin acidity</td>\n    </tr>\n  </tbody>\n</table>\n<p>1 rows × 21 columns</p>\n</div>"
     },
     "metadata": {},
     "execution_count": 247
    }
   ],
   "source": [
    "df.iloc[63546:63547]"
   ]
  },
  {
   "source": [
    "# Export to CSV"
   ],
   "cell_type": "markdown",
   "metadata": {}
  },
  {
   "cell_type": "code",
   "execution_count": 238,
   "metadata": {},
   "outputs": [],
   "source": [
    "# df.to_csv(r\"./winemag-data-130k-v2.csv/winemag-data-130k-v2-clean-desc-ngram-pos.csv\", index = False, encoding = 'utf-8-sig')"
   ]
  },
  {
   "source": [
    "# Create a small subset to visualize data pre-processing"
   ],
   "cell_type": "markdown",
   "metadata": {}
  },
  {
   "cell_type": "code",
   "execution_count": 288,
   "metadata": {},
   "outputs": [],
   "source": [
    "df_sample_500_records = df.iloc[0:500, :]"
   ]
  },
  {
   "cell_type": "code",
   "execution_count": 289,
   "metadata": {},
   "outputs": [],
   "source": [
    "# storing the processed reviews of the 500 sample records into a list\n",
    "\n",
    "# UNIGRAM\n",
    "sample_500_records_cleaned_text = df_sample_500_records['unigram_cleaned_review_noun_verbs_only'].values.tolist()"
   ]
  },
  {
   "source": [
    "## Create dictionary using the series with the cleaned reviews (Stopwords Removal, POS tag filter etc.)\n",
    "## UNIGRAM"
   ],
   "cell_type": "markdown",
   "metadata": {}
  },
  {
   "cell_type": "code",
   "execution_count": 290,
   "metadata": {},
   "outputs": [],
   "source": [
    "cleaned_unigram_text_list_split = [d.split() for d in sample_500_records_cleaned_text]\n",
    "# print(cleaned_unigram_text_list_split[0:2])\n",
    "\n",
    "dictionary = gensim.corpora.Dictionary(cleaned_unigram_text_list_split)\n",
    "# print(dictionary)\n",
    "\n",
    "bow_corpus = [dictionary.doc2bow(doc) for doc in cleaned_unigram_text_list_split]\n",
    "# bow_corpus[0:2]"
   ]
  },
  {
   "source": [
    "## Choosing Optimal Number of Topics for LDA using BOW (Using 500 Records)\n",
    "## UNIGRAM"
   ],
   "cell_type": "markdown",
   "metadata": {}
  },
  {
   "cell_type": "code",
   "execution_count": 291,
   "metadata": {},
   "outputs": [
    {
     "output_type": "stream",
     "name": "stdout",
     "text": [
      "#Topics: 2 Score: 0.27393038648537765\n",
      "#Topics: 4 Score: 0.25173168449668043\n",
      "#Topics: 6 Score: 0.24883750575750704\n",
      "#Topics: 8 Score: 0.2462113773961394\n",
      "#Topics: 10 Score: 0.27048788418101594\n"
     ]
    }
   ],
   "source": [
    "from gensim.models import CoherenceModel\n",
    "\n",
    "model_topics = []\n",
    "model_list = []\n",
    "coherence_values = []\n",
    "\n",
    "for num_topics in range(2, 12, 2):\n",
    "    lda_bow_model = gensim.models.LdaMulticore(corpus=bow_corpus, num_topics=num_topics, id2word=dictionary, passes=2, workers=2,  random_state=100)\n",
    "    coherencemodel = CoherenceModel(model=lda_bow_model, texts=cleaned_unigram_text_list_split, dictionary=dictionary, coherence='c_v')\n",
    "    model_topics.append(num_topics)\n",
    "    model_list.append(lda_bow_model)\n",
    "    coherence_values.append(coherencemodel.get_coherence())\n",
    "    print(\"#Topics: \" + str(num_topics) + \" Score: \" + str(coherencemodel.get_coherence()))"
   ]
  },
  {
   "source": [
    "## Plotting of Coherence Graph (Using 500 Records)\n",
    "## UNIGRAM"
   ],
   "cell_type": "markdown",
   "metadata": {}
  },
  {
   "cell_type": "code",
   "execution_count": 292,
   "metadata": {},
   "outputs": [
    {
     "output_type": "display_data",
     "data": {
      "text/plain": "<Figure size 432x288 with 1 Axes>",
      "image/svg+xml": "<?xml version=\"1.0\" encoding=\"utf-8\" standalone=\"no\"?>\r\n<!DOCTYPE svg PUBLIC \"-//W3C//DTD SVG 1.1//EN\"\r\n  \"http://www.w3.org/Graphics/SVG/1.1/DTD/svg11.dtd\">\r\n<!-- Created with matplotlib (https://matplotlib.org/) -->\r\n<svg height=\"263.739573pt\" version=\"1.1\" viewBox=\"0 0 398.50625 263.739573\" width=\"398.50625pt\" xmlns=\"http://www.w3.org/2000/svg\" xmlns:xlink=\"http://www.w3.org/1999/xlink\">\r\n <metadata>\r\n  <rdf:RDF xmlns:cc=\"http://creativecommons.org/ns#\" xmlns:dc=\"http://purl.org/dc/elements/1.1/\" xmlns:rdf=\"http://www.w3.org/1999/02/22-rdf-syntax-ns#\">\r\n   <cc:Work>\r\n    <dc:type rdf:resource=\"http://purl.org/dc/dcmitype/StillImage\"/>\r\n    <dc:date>2021-03-26T02:28:47.980810</dc:date>\r\n    <dc:format>image/svg+xml</dc:format>\r\n    <dc:creator>\r\n     <cc:Agent>\r\n      <dc:title>Matplotlib v3.3.1, https://matplotlib.org/</dc:title>\r\n     </cc:Agent>\r\n    </dc:creator>\r\n   </cc:Work>\r\n  </rdf:RDF>\r\n </metadata>\r\n <defs>\r\n  <style type=\"text/css\">*{stroke-linecap:butt;stroke-linejoin:round;}</style>\r\n </defs>\r\n <g id=\"figure_1\">\r\n  <g id=\"patch_1\">\r\n   <path d=\"M 0 263.739573 \r\nL 398.50625 263.739573 \r\nL 398.50625 0 \r\nL 0 0 \r\nz\r\n\" style=\"fill:none;\"/>\r\n  </g>\r\n  <g id=\"axes_1\">\r\n   <g id=\"patch_2\">\r\n    <path d=\"M 56.50625 226.183323 \r\nL 391.30625 226.183323 \r\nL 391.30625 8.743323 \r\nL 56.50625 8.743323 \r\nz\r\n\" style=\"fill:#ffffff;\"/>\r\n   </g>\r\n   <g id=\"matplotlib.axis_1\">\r\n    <g id=\"xtick_1\">\r\n     <g id=\"line2d_1\">\r\n      <defs>\r\n       <path d=\"M 0 0 \r\nL 0 3.5 \r\n\" id=\"mf28f2bd9b8\" style=\"stroke:#000000;stroke-width:0.8;\"/>\r\n      </defs>\r\n      <g>\r\n       <use style=\"stroke:#000000;stroke-width:0.8;\" x=\"71.724432\" xlink:href=\"#mf28f2bd9b8\" y=\"226.183323\"/>\r\n      </g>\r\n     </g>\r\n     <g id=\"text_1\">\r\n      <!-- 2 -->\r\n      <g transform=\"translate(68.543182 240.781761)scale(0.1 -0.1)\">\r\n       <defs>\r\n        <path d=\"M 19.1875 8.296875 \r\nL 53.609375 8.296875 \r\nL 53.609375 0 \r\nL 7.328125 0 \r\nL 7.328125 8.296875 \r\nQ 12.9375 14.109375 22.625 23.890625 \r\nQ 32.328125 33.6875 34.8125 36.53125 \r\nQ 39.546875 41.84375 41.421875 45.53125 \r\nQ 43.3125 49.21875 43.3125 52.78125 \r\nQ 43.3125 58.59375 39.234375 62.25 \r\nQ 35.15625 65.921875 28.609375 65.921875 \r\nQ 23.96875 65.921875 18.8125 64.3125 \r\nQ 13.671875 62.703125 7.8125 59.421875 \r\nL 7.8125 69.390625 \r\nQ 13.765625 71.78125 18.9375 73 \r\nQ 24.125 74.21875 28.421875 74.21875 \r\nQ 39.75 74.21875 46.484375 68.546875 \r\nQ 53.21875 62.890625 53.21875 53.421875 \r\nQ 53.21875 48.921875 51.53125 44.890625 \r\nQ 49.859375 40.875 45.40625 35.40625 \r\nQ 44.1875 33.984375 37.640625 27.21875 \r\nQ 31.109375 20.453125 19.1875 8.296875 \r\nz\r\n\" id=\"DejaVuSans-50\"/>\r\n       </defs>\r\n       <use xlink:href=\"#DejaVuSans-50\"/>\r\n      </g>\r\n     </g>\r\n    </g>\r\n    <g id=\"xtick_2\">\r\n     <g id=\"line2d_2\">\r\n      <g>\r\n       <use style=\"stroke:#000000;stroke-width:0.8;\" x=\"109.769886\" xlink:href=\"#mf28f2bd9b8\" y=\"226.183323\"/>\r\n      </g>\r\n     </g>\r\n     <g id=\"text_2\">\r\n      <!-- 3 -->\r\n      <g transform=\"translate(106.588636 240.781761)scale(0.1 -0.1)\">\r\n       <defs>\r\n        <path d=\"M 40.578125 39.3125 \r\nQ 47.65625 37.796875 51.625 33 \r\nQ 55.609375 28.21875 55.609375 21.1875 \r\nQ 55.609375 10.40625 48.1875 4.484375 \r\nQ 40.765625 -1.421875 27.09375 -1.421875 \r\nQ 22.515625 -1.421875 17.65625 -0.515625 \r\nQ 12.796875 0.390625 7.625 2.203125 \r\nL 7.625 11.71875 \r\nQ 11.71875 9.328125 16.59375 8.109375 \r\nQ 21.484375 6.890625 26.8125 6.890625 \r\nQ 36.078125 6.890625 40.9375 10.546875 \r\nQ 45.796875 14.203125 45.796875 21.1875 \r\nQ 45.796875 27.640625 41.28125 31.265625 \r\nQ 36.765625 34.90625 28.71875 34.90625 \r\nL 20.21875 34.90625 \r\nL 20.21875 43.015625 \r\nL 29.109375 43.015625 \r\nQ 36.375 43.015625 40.234375 45.921875 \r\nQ 44.09375 48.828125 44.09375 54.296875 \r\nQ 44.09375 59.90625 40.109375 62.90625 \r\nQ 36.140625 65.921875 28.71875 65.921875 \r\nQ 24.65625 65.921875 20.015625 65.03125 \r\nQ 15.375 64.15625 9.8125 62.3125 \r\nL 9.8125 71.09375 \r\nQ 15.4375 72.65625 20.34375 73.4375 \r\nQ 25.25 74.21875 29.59375 74.21875 \r\nQ 40.828125 74.21875 47.359375 69.109375 \r\nQ 53.90625 64.015625 53.90625 55.328125 \r\nQ 53.90625 49.265625 50.4375 45.09375 \r\nQ 46.96875 40.921875 40.578125 39.3125 \r\nz\r\n\" id=\"DejaVuSans-51\"/>\r\n       </defs>\r\n       <use xlink:href=\"#DejaVuSans-51\"/>\r\n      </g>\r\n     </g>\r\n    </g>\r\n    <g id=\"xtick_3\">\r\n     <g id=\"line2d_3\">\r\n      <g>\r\n       <use style=\"stroke:#000000;stroke-width:0.8;\" x=\"147.815341\" xlink:href=\"#mf28f2bd9b8\" y=\"226.183323\"/>\r\n      </g>\r\n     </g>\r\n     <g id=\"text_3\">\r\n      <!-- 4 -->\r\n      <g transform=\"translate(144.634091 240.781761)scale(0.1 -0.1)\">\r\n       <defs>\r\n        <path d=\"M 37.796875 64.3125 \r\nL 12.890625 25.390625 \r\nL 37.796875 25.390625 \r\nz\r\nM 35.203125 72.90625 \r\nL 47.609375 72.90625 \r\nL 47.609375 25.390625 \r\nL 58.015625 25.390625 \r\nL 58.015625 17.1875 \r\nL 47.609375 17.1875 \r\nL 47.609375 0 \r\nL 37.796875 0 \r\nL 37.796875 17.1875 \r\nL 4.890625 17.1875 \r\nL 4.890625 26.703125 \r\nz\r\n\" id=\"DejaVuSans-52\"/>\r\n       </defs>\r\n       <use xlink:href=\"#DejaVuSans-52\"/>\r\n      </g>\r\n     </g>\r\n    </g>\r\n    <g id=\"xtick_4\">\r\n     <g id=\"line2d_4\">\r\n      <g>\r\n       <use style=\"stroke:#000000;stroke-width:0.8;\" x=\"185.860795\" xlink:href=\"#mf28f2bd9b8\" y=\"226.183323\"/>\r\n      </g>\r\n     </g>\r\n     <g id=\"text_4\">\r\n      <!-- 5 -->\r\n      <g transform=\"translate(182.679545 240.781761)scale(0.1 -0.1)\">\r\n       <defs>\r\n        <path d=\"M 10.796875 72.90625 \r\nL 49.515625 72.90625 \r\nL 49.515625 64.59375 \r\nL 19.828125 64.59375 \r\nL 19.828125 46.734375 \r\nQ 21.96875 47.46875 24.109375 47.828125 \r\nQ 26.265625 48.1875 28.421875 48.1875 \r\nQ 40.625 48.1875 47.75 41.5 \r\nQ 54.890625 34.8125 54.890625 23.390625 \r\nQ 54.890625 11.625 47.5625 5.09375 \r\nQ 40.234375 -1.421875 26.90625 -1.421875 \r\nQ 22.3125 -1.421875 17.546875 -0.640625 \r\nQ 12.796875 0.140625 7.71875 1.703125 \r\nL 7.71875 11.625 \r\nQ 12.109375 9.234375 16.796875 8.0625 \r\nQ 21.484375 6.890625 26.703125 6.890625 \r\nQ 35.15625 6.890625 40.078125 11.328125 \r\nQ 45.015625 15.765625 45.015625 23.390625 \r\nQ 45.015625 31 40.078125 35.4375 \r\nQ 35.15625 39.890625 26.703125 39.890625 \r\nQ 22.75 39.890625 18.8125 39.015625 \r\nQ 14.890625 38.140625 10.796875 36.28125 \r\nz\r\n\" id=\"DejaVuSans-53\"/>\r\n       </defs>\r\n       <use xlink:href=\"#DejaVuSans-53\"/>\r\n      </g>\r\n     </g>\r\n    </g>\r\n    <g id=\"xtick_5\">\r\n     <g id=\"line2d_5\">\r\n      <g>\r\n       <use style=\"stroke:#000000;stroke-width:0.8;\" x=\"223.90625\" xlink:href=\"#mf28f2bd9b8\" y=\"226.183323\"/>\r\n      </g>\r\n     </g>\r\n     <g id=\"text_5\">\r\n      <!-- 6 -->\r\n      <g transform=\"translate(220.725 240.781761)scale(0.1 -0.1)\">\r\n       <defs>\r\n        <path d=\"M 33.015625 40.375 \r\nQ 26.375 40.375 22.484375 35.828125 \r\nQ 18.609375 31.296875 18.609375 23.390625 \r\nQ 18.609375 15.53125 22.484375 10.953125 \r\nQ 26.375 6.390625 33.015625 6.390625 \r\nQ 39.65625 6.390625 43.53125 10.953125 \r\nQ 47.40625 15.53125 47.40625 23.390625 \r\nQ 47.40625 31.296875 43.53125 35.828125 \r\nQ 39.65625 40.375 33.015625 40.375 \r\nz\r\nM 52.59375 71.296875 \r\nL 52.59375 62.3125 \r\nQ 48.875 64.0625 45.09375 64.984375 \r\nQ 41.3125 65.921875 37.59375 65.921875 \r\nQ 27.828125 65.921875 22.671875 59.328125 \r\nQ 17.53125 52.734375 16.796875 39.40625 \r\nQ 19.671875 43.65625 24.015625 45.921875 \r\nQ 28.375 48.1875 33.59375 48.1875 \r\nQ 44.578125 48.1875 50.953125 41.515625 \r\nQ 57.328125 34.859375 57.328125 23.390625 \r\nQ 57.328125 12.15625 50.6875 5.359375 \r\nQ 44.046875 -1.421875 33.015625 -1.421875 \r\nQ 20.359375 -1.421875 13.671875 8.265625 \r\nQ 6.984375 17.96875 6.984375 36.375 \r\nQ 6.984375 53.65625 15.1875 63.9375 \r\nQ 23.390625 74.21875 37.203125 74.21875 \r\nQ 40.921875 74.21875 44.703125 73.484375 \r\nQ 48.484375 72.75 52.59375 71.296875 \r\nz\r\n\" id=\"DejaVuSans-54\"/>\r\n       </defs>\r\n       <use xlink:href=\"#DejaVuSans-54\"/>\r\n      </g>\r\n     </g>\r\n    </g>\r\n    <g id=\"xtick_6\">\r\n     <g id=\"line2d_6\">\r\n      <g>\r\n       <use style=\"stroke:#000000;stroke-width:0.8;\" x=\"261.951705\" xlink:href=\"#mf28f2bd9b8\" y=\"226.183323\"/>\r\n      </g>\r\n     </g>\r\n     <g id=\"text_6\">\r\n      <!-- 7 -->\r\n      <g transform=\"translate(258.770455 240.781761)scale(0.1 -0.1)\">\r\n       <defs>\r\n        <path d=\"M 8.203125 72.90625 \r\nL 55.078125 72.90625 \r\nL 55.078125 68.703125 \r\nL 28.609375 0 \r\nL 18.3125 0 \r\nL 43.21875 64.59375 \r\nL 8.203125 64.59375 \r\nz\r\n\" id=\"DejaVuSans-55\"/>\r\n       </defs>\r\n       <use xlink:href=\"#DejaVuSans-55\"/>\r\n      </g>\r\n     </g>\r\n    </g>\r\n    <g id=\"xtick_7\">\r\n     <g id=\"line2d_7\">\r\n      <g>\r\n       <use style=\"stroke:#000000;stroke-width:0.8;\" x=\"299.997159\" xlink:href=\"#mf28f2bd9b8\" y=\"226.183323\"/>\r\n      </g>\r\n     </g>\r\n     <g id=\"text_7\">\r\n      <!-- 8 -->\r\n      <g transform=\"translate(296.815909 240.781761)scale(0.1 -0.1)\">\r\n       <defs>\r\n        <path d=\"M 31.78125 34.625 \r\nQ 24.75 34.625 20.71875 30.859375 \r\nQ 16.703125 27.09375 16.703125 20.515625 \r\nQ 16.703125 13.921875 20.71875 10.15625 \r\nQ 24.75 6.390625 31.78125 6.390625 \r\nQ 38.8125 6.390625 42.859375 10.171875 \r\nQ 46.921875 13.96875 46.921875 20.515625 \r\nQ 46.921875 27.09375 42.890625 30.859375 \r\nQ 38.875 34.625 31.78125 34.625 \r\nz\r\nM 21.921875 38.8125 \r\nQ 15.578125 40.375 12.03125 44.71875 \r\nQ 8.5 49.078125 8.5 55.328125 \r\nQ 8.5 64.0625 14.71875 69.140625 \r\nQ 20.953125 74.21875 31.78125 74.21875 \r\nQ 42.671875 74.21875 48.875 69.140625 \r\nQ 55.078125 64.0625 55.078125 55.328125 \r\nQ 55.078125 49.078125 51.53125 44.71875 \r\nQ 48 40.375 41.703125 38.8125 \r\nQ 48.828125 37.15625 52.796875 32.3125 \r\nQ 56.78125 27.484375 56.78125 20.515625 \r\nQ 56.78125 9.90625 50.3125 4.234375 \r\nQ 43.84375 -1.421875 31.78125 -1.421875 \r\nQ 19.734375 -1.421875 13.25 4.234375 \r\nQ 6.78125 9.90625 6.78125 20.515625 \r\nQ 6.78125 27.484375 10.78125 32.3125 \r\nQ 14.796875 37.15625 21.921875 38.8125 \r\nz\r\nM 18.3125 54.390625 \r\nQ 18.3125 48.734375 21.84375 45.5625 \r\nQ 25.390625 42.390625 31.78125 42.390625 \r\nQ 38.140625 42.390625 41.71875 45.5625 \r\nQ 45.3125 48.734375 45.3125 54.390625 \r\nQ 45.3125 60.0625 41.71875 63.234375 \r\nQ 38.140625 66.40625 31.78125 66.40625 \r\nQ 25.390625 66.40625 21.84375 63.234375 \r\nQ 18.3125 60.0625 18.3125 54.390625 \r\nz\r\n\" id=\"DejaVuSans-56\"/>\r\n       </defs>\r\n       <use xlink:href=\"#DejaVuSans-56\"/>\r\n      </g>\r\n     </g>\r\n    </g>\r\n    <g id=\"xtick_8\">\r\n     <g id=\"line2d_8\">\r\n      <g>\r\n       <use style=\"stroke:#000000;stroke-width:0.8;\" x=\"338.042614\" xlink:href=\"#mf28f2bd9b8\" y=\"226.183323\"/>\r\n      </g>\r\n     </g>\r\n     <g id=\"text_8\">\r\n      <!-- 9 -->\r\n      <g transform=\"translate(334.861364 240.781761)scale(0.1 -0.1)\">\r\n       <defs>\r\n        <path d=\"M 10.984375 1.515625 \r\nL 10.984375 10.5 \r\nQ 14.703125 8.734375 18.5 7.8125 \r\nQ 22.3125 6.890625 25.984375 6.890625 \r\nQ 35.75 6.890625 40.890625 13.453125 \r\nQ 46.046875 20.015625 46.78125 33.40625 \r\nQ 43.953125 29.203125 39.59375 26.953125 \r\nQ 35.25 24.703125 29.984375 24.703125 \r\nQ 19.046875 24.703125 12.671875 31.3125 \r\nQ 6.296875 37.9375 6.296875 49.421875 \r\nQ 6.296875 60.640625 12.9375 67.421875 \r\nQ 19.578125 74.21875 30.609375 74.21875 \r\nQ 43.265625 74.21875 49.921875 64.515625 \r\nQ 56.59375 54.828125 56.59375 36.375 \r\nQ 56.59375 19.140625 48.40625 8.859375 \r\nQ 40.234375 -1.421875 26.421875 -1.421875 \r\nQ 22.703125 -1.421875 18.890625 -0.6875 \r\nQ 15.09375 0.046875 10.984375 1.515625 \r\nz\r\nM 30.609375 32.421875 \r\nQ 37.25 32.421875 41.125 36.953125 \r\nQ 45.015625 41.5 45.015625 49.421875 \r\nQ 45.015625 57.28125 41.125 61.84375 \r\nQ 37.25 66.40625 30.609375 66.40625 \r\nQ 23.96875 66.40625 20.09375 61.84375 \r\nQ 16.21875 57.28125 16.21875 49.421875 \r\nQ 16.21875 41.5 20.09375 36.953125 \r\nQ 23.96875 32.421875 30.609375 32.421875 \r\nz\r\n\" id=\"DejaVuSans-57\"/>\r\n       </defs>\r\n       <use xlink:href=\"#DejaVuSans-57\"/>\r\n      </g>\r\n     </g>\r\n    </g>\r\n    <g id=\"xtick_9\">\r\n     <g id=\"line2d_9\">\r\n      <g>\r\n       <use style=\"stroke:#000000;stroke-width:0.8;\" x=\"376.088068\" xlink:href=\"#mf28f2bd9b8\" y=\"226.183323\"/>\r\n      </g>\r\n     </g>\r\n     <g id=\"text_9\">\r\n      <!-- 10 -->\r\n      <g transform=\"translate(369.725568 240.781761)scale(0.1 -0.1)\">\r\n       <defs>\r\n        <path d=\"M 12.40625 8.296875 \r\nL 28.515625 8.296875 \r\nL 28.515625 63.921875 \r\nL 10.984375 60.40625 \r\nL 10.984375 69.390625 \r\nL 28.421875 72.90625 \r\nL 38.28125 72.90625 \r\nL 38.28125 8.296875 \r\nL 54.390625 8.296875 \r\nL 54.390625 0 \r\nL 12.40625 0 \r\nz\r\n\" id=\"DejaVuSans-49\"/>\r\n        <path d=\"M 31.78125 66.40625 \r\nQ 24.171875 66.40625 20.328125 58.90625 \r\nQ 16.5 51.421875 16.5 36.375 \r\nQ 16.5 21.390625 20.328125 13.890625 \r\nQ 24.171875 6.390625 31.78125 6.390625 \r\nQ 39.453125 6.390625 43.28125 13.890625 \r\nQ 47.125 21.390625 47.125 36.375 \r\nQ 47.125 51.421875 43.28125 58.90625 \r\nQ 39.453125 66.40625 31.78125 66.40625 \r\nz\r\nM 31.78125 74.21875 \r\nQ 44.046875 74.21875 50.515625 64.515625 \r\nQ 56.984375 54.828125 56.984375 36.375 \r\nQ 56.984375 17.96875 50.515625 8.265625 \r\nQ 44.046875 -1.421875 31.78125 -1.421875 \r\nQ 19.53125 -1.421875 13.0625 8.265625 \r\nQ 6.59375 17.96875 6.59375 36.375 \r\nQ 6.59375 54.828125 13.0625 64.515625 \r\nQ 19.53125 74.21875 31.78125 74.21875 \r\nz\r\n\" id=\"DejaVuSans-48\"/>\r\n       </defs>\r\n       <use xlink:href=\"#DejaVuSans-49\"/>\r\n       <use x=\"63.623047\" xlink:href=\"#DejaVuSans-48\"/>\r\n      </g>\r\n     </g>\r\n    </g>\r\n    <g id=\"text_10\">\r\n     <!-- Number of Topics -->\r\n     <g transform=\"translate(180.642188 254.459886)scale(0.1 -0.1)\">\r\n      <defs>\r\n       <path d=\"M 9.8125 72.90625 \r\nL 23.09375 72.90625 \r\nL 55.421875 11.921875 \r\nL 55.421875 72.90625 \r\nL 64.984375 72.90625 \r\nL 64.984375 0 \r\nL 51.703125 0 \r\nL 19.390625 60.984375 \r\nL 19.390625 0 \r\nL 9.8125 0 \r\nz\r\n\" id=\"DejaVuSans-78\"/>\r\n       <path d=\"M 8.5 21.578125 \r\nL 8.5 54.6875 \r\nL 17.484375 54.6875 \r\nL 17.484375 21.921875 \r\nQ 17.484375 14.15625 20.5 10.265625 \r\nQ 23.53125 6.390625 29.59375 6.390625 \r\nQ 36.859375 6.390625 41.078125 11.03125 \r\nQ 45.3125 15.671875 45.3125 23.6875 \r\nL 45.3125 54.6875 \r\nL 54.296875 54.6875 \r\nL 54.296875 0 \r\nL 45.3125 0 \r\nL 45.3125 8.40625 \r\nQ 42.046875 3.421875 37.71875 1 \r\nQ 33.40625 -1.421875 27.6875 -1.421875 \r\nQ 18.265625 -1.421875 13.375 4.4375 \r\nQ 8.5 10.296875 8.5 21.578125 \r\nz\r\nM 31.109375 56 \r\nz\r\n\" id=\"DejaVuSans-117\"/>\r\n       <path d=\"M 52 44.1875 \r\nQ 55.375 50.25 60.0625 53.125 \r\nQ 64.75 56 71.09375 56 \r\nQ 79.640625 56 84.28125 50.015625 \r\nQ 88.921875 44.046875 88.921875 33.015625 \r\nL 88.921875 0 \r\nL 79.890625 0 \r\nL 79.890625 32.71875 \r\nQ 79.890625 40.578125 77.09375 44.375 \r\nQ 74.3125 48.1875 68.609375 48.1875 \r\nQ 61.625 48.1875 57.5625 43.546875 \r\nQ 53.515625 38.921875 53.515625 30.90625 \r\nL 53.515625 0 \r\nL 44.484375 0 \r\nL 44.484375 32.71875 \r\nQ 44.484375 40.625 41.703125 44.40625 \r\nQ 38.921875 48.1875 33.109375 48.1875 \r\nQ 26.21875 48.1875 22.15625 43.53125 \r\nQ 18.109375 38.875 18.109375 30.90625 \r\nL 18.109375 0 \r\nL 9.078125 0 \r\nL 9.078125 54.6875 \r\nL 18.109375 54.6875 \r\nL 18.109375 46.1875 \r\nQ 21.1875 51.21875 25.484375 53.609375 \r\nQ 29.78125 56 35.6875 56 \r\nQ 41.65625 56 45.828125 52.96875 \r\nQ 50 49.953125 52 44.1875 \r\nz\r\n\" id=\"DejaVuSans-109\"/>\r\n       <path d=\"M 48.6875 27.296875 \r\nQ 48.6875 37.203125 44.609375 42.84375 \r\nQ 40.53125 48.484375 33.40625 48.484375 \r\nQ 26.265625 48.484375 22.1875 42.84375 \r\nQ 18.109375 37.203125 18.109375 27.296875 \r\nQ 18.109375 17.390625 22.1875 11.75 \r\nQ 26.265625 6.109375 33.40625 6.109375 \r\nQ 40.53125 6.109375 44.609375 11.75 \r\nQ 48.6875 17.390625 48.6875 27.296875 \r\nz\r\nM 18.109375 46.390625 \r\nQ 20.953125 51.265625 25.265625 53.625 \r\nQ 29.59375 56 35.59375 56 \r\nQ 45.5625 56 51.78125 48.09375 \r\nQ 58.015625 40.1875 58.015625 27.296875 \r\nQ 58.015625 14.40625 51.78125 6.484375 \r\nQ 45.5625 -1.421875 35.59375 -1.421875 \r\nQ 29.59375 -1.421875 25.265625 0.953125 \r\nQ 20.953125 3.328125 18.109375 8.203125 \r\nL 18.109375 0 \r\nL 9.078125 0 \r\nL 9.078125 75.984375 \r\nL 18.109375 75.984375 \r\nz\r\n\" id=\"DejaVuSans-98\"/>\r\n       <path d=\"M 56.203125 29.59375 \r\nL 56.203125 25.203125 \r\nL 14.890625 25.203125 \r\nQ 15.484375 15.921875 20.484375 11.0625 \r\nQ 25.484375 6.203125 34.421875 6.203125 \r\nQ 39.59375 6.203125 44.453125 7.46875 \r\nQ 49.3125 8.734375 54.109375 11.28125 \r\nL 54.109375 2.78125 \r\nQ 49.265625 0.734375 44.1875 -0.34375 \r\nQ 39.109375 -1.421875 33.890625 -1.421875 \r\nQ 20.796875 -1.421875 13.15625 6.1875 \r\nQ 5.515625 13.8125 5.515625 26.8125 \r\nQ 5.515625 40.234375 12.765625 48.109375 \r\nQ 20.015625 56 32.328125 56 \r\nQ 43.359375 56 49.78125 48.890625 \r\nQ 56.203125 41.796875 56.203125 29.59375 \r\nz\r\nM 47.21875 32.234375 \r\nQ 47.125 39.59375 43.09375 43.984375 \r\nQ 39.0625 48.390625 32.421875 48.390625 \r\nQ 24.90625 48.390625 20.390625 44.140625 \r\nQ 15.875 39.890625 15.1875 32.171875 \r\nz\r\n\" id=\"DejaVuSans-101\"/>\r\n       <path d=\"M 41.109375 46.296875 \r\nQ 39.59375 47.171875 37.8125 47.578125 \r\nQ 36.03125 48 33.890625 48 \r\nQ 26.265625 48 22.1875 43.046875 \r\nQ 18.109375 38.09375 18.109375 28.8125 \r\nL 18.109375 0 \r\nL 9.078125 0 \r\nL 9.078125 54.6875 \r\nL 18.109375 54.6875 \r\nL 18.109375 46.1875 \r\nQ 20.953125 51.171875 25.484375 53.578125 \r\nQ 30.03125 56 36.53125 56 \r\nQ 37.453125 56 38.578125 55.875 \r\nQ 39.703125 55.765625 41.0625 55.515625 \r\nz\r\n\" id=\"DejaVuSans-114\"/>\r\n       <path id=\"DejaVuSans-32\"/>\r\n       <path d=\"M 30.609375 48.390625 \r\nQ 23.390625 48.390625 19.1875 42.75 \r\nQ 14.984375 37.109375 14.984375 27.296875 \r\nQ 14.984375 17.484375 19.15625 11.84375 \r\nQ 23.34375 6.203125 30.609375 6.203125 \r\nQ 37.796875 6.203125 41.984375 11.859375 \r\nQ 46.1875 17.53125 46.1875 27.296875 \r\nQ 46.1875 37.015625 41.984375 42.703125 \r\nQ 37.796875 48.390625 30.609375 48.390625 \r\nz\r\nM 30.609375 56 \r\nQ 42.328125 56 49.015625 48.375 \r\nQ 55.71875 40.765625 55.71875 27.296875 \r\nQ 55.71875 13.875 49.015625 6.21875 \r\nQ 42.328125 -1.421875 30.609375 -1.421875 \r\nQ 18.84375 -1.421875 12.171875 6.21875 \r\nQ 5.515625 13.875 5.515625 27.296875 \r\nQ 5.515625 40.765625 12.171875 48.375 \r\nQ 18.84375 56 30.609375 56 \r\nz\r\n\" id=\"DejaVuSans-111\"/>\r\n       <path d=\"M 37.109375 75.984375 \r\nL 37.109375 68.5 \r\nL 28.515625 68.5 \r\nQ 23.6875 68.5 21.796875 66.546875 \r\nQ 19.921875 64.59375 19.921875 59.515625 \r\nL 19.921875 54.6875 \r\nL 34.71875 54.6875 \r\nL 34.71875 47.703125 \r\nL 19.921875 47.703125 \r\nL 19.921875 0 \r\nL 10.890625 0 \r\nL 10.890625 47.703125 \r\nL 2.296875 47.703125 \r\nL 2.296875 54.6875 \r\nL 10.890625 54.6875 \r\nL 10.890625 58.5 \r\nQ 10.890625 67.625 15.140625 71.796875 \r\nQ 19.390625 75.984375 28.609375 75.984375 \r\nz\r\n\" id=\"DejaVuSans-102\"/>\r\n       <path d=\"M -0.296875 72.90625 \r\nL 61.375 72.90625 \r\nL 61.375 64.59375 \r\nL 35.5 64.59375 \r\nL 35.5 0 \r\nL 25.59375 0 \r\nL 25.59375 64.59375 \r\nL -0.296875 64.59375 \r\nz\r\n\" id=\"DejaVuSans-84\"/>\r\n       <path d=\"M 18.109375 8.203125 \r\nL 18.109375 -20.796875 \r\nL 9.078125 -20.796875 \r\nL 9.078125 54.6875 \r\nL 18.109375 54.6875 \r\nL 18.109375 46.390625 \r\nQ 20.953125 51.265625 25.265625 53.625 \r\nQ 29.59375 56 35.59375 56 \r\nQ 45.5625 56 51.78125 48.09375 \r\nQ 58.015625 40.1875 58.015625 27.296875 \r\nQ 58.015625 14.40625 51.78125 6.484375 \r\nQ 45.5625 -1.421875 35.59375 -1.421875 \r\nQ 29.59375 -1.421875 25.265625 0.953125 \r\nQ 20.953125 3.328125 18.109375 8.203125 \r\nz\r\nM 48.6875 27.296875 \r\nQ 48.6875 37.203125 44.609375 42.84375 \r\nQ 40.53125 48.484375 33.40625 48.484375 \r\nQ 26.265625 48.484375 22.1875 42.84375 \r\nQ 18.109375 37.203125 18.109375 27.296875 \r\nQ 18.109375 17.390625 22.1875 11.75 \r\nQ 26.265625 6.109375 33.40625 6.109375 \r\nQ 40.53125 6.109375 44.609375 11.75 \r\nQ 48.6875 17.390625 48.6875 27.296875 \r\nz\r\n\" id=\"DejaVuSans-112\"/>\r\n       <path d=\"M 9.421875 54.6875 \r\nL 18.40625 54.6875 \r\nL 18.40625 0 \r\nL 9.421875 0 \r\nz\r\nM 9.421875 75.984375 \r\nL 18.40625 75.984375 \r\nL 18.40625 64.59375 \r\nL 9.421875 64.59375 \r\nz\r\n\" id=\"DejaVuSans-105\"/>\r\n       <path d=\"M 48.78125 52.59375 \r\nL 48.78125 44.1875 \r\nQ 44.96875 46.296875 41.140625 47.34375 \r\nQ 37.3125 48.390625 33.40625 48.390625 \r\nQ 24.65625 48.390625 19.8125 42.84375 \r\nQ 14.984375 37.3125 14.984375 27.296875 \r\nQ 14.984375 17.28125 19.8125 11.734375 \r\nQ 24.65625 6.203125 33.40625 6.203125 \r\nQ 37.3125 6.203125 41.140625 7.25 \r\nQ 44.96875 8.296875 48.78125 10.40625 \r\nL 48.78125 2.09375 \r\nQ 45.015625 0.34375 40.984375 -0.53125 \r\nQ 36.96875 -1.421875 32.421875 -1.421875 \r\nQ 20.0625 -1.421875 12.78125 6.34375 \r\nQ 5.515625 14.109375 5.515625 27.296875 \r\nQ 5.515625 40.671875 12.859375 48.328125 \r\nQ 20.21875 56 33.015625 56 \r\nQ 37.15625 56 41.109375 55.140625 \r\nQ 45.0625 54.296875 48.78125 52.59375 \r\nz\r\n\" id=\"DejaVuSans-99\"/>\r\n       <path d=\"M 44.28125 53.078125 \r\nL 44.28125 44.578125 \r\nQ 40.484375 46.53125 36.375 47.5 \r\nQ 32.28125 48.484375 27.875 48.484375 \r\nQ 21.1875 48.484375 17.84375 46.4375 \r\nQ 14.5 44.390625 14.5 40.28125 \r\nQ 14.5 37.15625 16.890625 35.375 \r\nQ 19.28125 33.59375 26.515625 31.984375 \r\nL 29.59375 31.296875 \r\nQ 39.15625 29.25 43.1875 25.515625 \r\nQ 47.21875 21.78125 47.21875 15.09375 \r\nQ 47.21875 7.46875 41.1875 3.015625 \r\nQ 35.15625 -1.421875 24.609375 -1.421875 \r\nQ 20.21875 -1.421875 15.453125 -0.5625 \r\nQ 10.6875 0.296875 5.421875 2 \r\nL 5.421875 11.28125 \r\nQ 10.40625 8.6875 15.234375 7.390625 \r\nQ 20.0625 6.109375 24.8125 6.109375 \r\nQ 31.15625 6.109375 34.5625 8.28125 \r\nQ 37.984375 10.453125 37.984375 14.40625 \r\nQ 37.984375 18.0625 35.515625 20.015625 \r\nQ 33.0625 21.96875 24.703125 23.78125 \r\nL 21.578125 24.515625 \r\nQ 13.234375 26.265625 9.515625 29.90625 \r\nQ 5.8125 33.546875 5.8125 39.890625 \r\nQ 5.8125 47.609375 11.28125 51.796875 \r\nQ 16.75 56 26.8125 56 \r\nQ 31.78125 56 36.171875 55.265625 \r\nQ 40.578125 54.546875 44.28125 53.078125 \r\nz\r\n\" id=\"DejaVuSans-115\"/>\r\n      </defs>\r\n      <use xlink:href=\"#DejaVuSans-78\"/>\r\n      <use x=\"74.804688\" xlink:href=\"#DejaVuSans-117\"/>\r\n      <use x=\"138.183594\" xlink:href=\"#DejaVuSans-109\"/>\r\n      <use x=\"235.595703\" xlink:href=\"#DejaVuSans-98\"/>\r\n      <use x=\"299.072266\" xlink:href=\"#DejaVuSans-101\"/>\r\n      <use x=\"360.595703\" xlink:href=\"#DejaVuSans-114\"/>\r\n      <use x=\"401.708984\" xlink:href=\"#DejaVuSans-32\"/>\r\n      <use x=\"433.496094\" xlink:href=\"#DejaVuSans-111\"/>\r\n      <use x=\"494.677734\" xlink:href=\"#DejaVuSans-102\"/>\r\n      <use x=\"529.882812\" xlink:href=\"#DejaVuSans-32\"/>\r\n      <use x=\"561.669922\" xlink:href=\"#DejaVuSans-84\"/>\r\n      <use x=\"605.753906\" xlink:href=\"#DejaVuSans-111\"/>\r\n      <use x=\"666.935547\" xlink:href=\"#DejaVuSans-112\"/>\r\n      <use x=\"730.412109\" xlink:href=\"#DejaVuSans-105\"/>\r\n      <use x=\"758.195312\" xlink:href=\"#DejaVuSans-99\"/>\r\n      <use x=\"813.175781\" xlink:href=\"#DejaVuSans-115\"/>\r\n     </g>\r\n    </g>\r\n   </g>\r\n   <g id=\"matplotlib.axis_2\">\r\n    <g id=\"ytick_1\">\r\n     <g id=\"line2d_10\">\r\n      <defs>\r\n       <path d=\"M 0 0 \r\nL -3.5 0 \r\n\" id=\"m8fa9ae6190\" style=\"stroke:#000000;stroke-width:0.8;\"/>\r\n      </defs>\r\n      <g>\r\n       <use style=\"stroke:#000000;stroke-width:0.8;\" x=\"56.50625\" xlink:href=\"#m8fa9ae6190\" y=\"224.938389\"/>\r\n      </g>\r\n     </g>\r\n     <g id=\"text_11\">\r\n      <!-- 0.245 -->\r\n      <g transform=\"translate(20.878125 228.737608)scale(0.1 -0.1)\">\r\n       <defs>\r\n        <path d=\"M 10.6875 12.40625 \r\nL 21 12.40625 \r\nL 21 0 \r\nL 10.6875 0 \r\nz\r\n\" id=\"DejaVuSans-46\"/>\r\n       </defs>\r\n       <use xlink:href=\"#DejaVuSans-48\"/>\r\n       <use x=\"63.623047\" xlink:href=\"#DejaVuSans-46\"/>\r\n       <use x=\"95.410156\" xlink:href=\"#DejaVuSans-50\"/>\r\n       <use x=\"159.033203\" xlink:href=\"#DejaVuSans-52\"/>\r\n       <use x=\"222.65625\" xlink:href=\"#DejaVuSans-53\"/>\r\n      </g>\r\n     </g>\r\n    </g>\r\n    <g id=\"ytick_2\">\r\n     <g id=\"line2d_11\">\r\n      <g>\r\n       <use style=\"stroke:#000000;stroke-width:0.8;\" x=\"56.50625\" xlink:href=\"#m8fa9ae6190\" y=\"189.281861\"/>\r\n      </g>\r\n     </g>\r\n     <g id=\"text_12\">\r\n      <!-- 0.250 -->\r\n      <g transform=\"translate(20.878125 193.08108)scale(0.1 -0.1)\">\r\n       <use xlink:href=\"#DejaVuSans-48\"/>\r\n       <use x=\"63.623047\" xlink:href=\"#DejaVuSans-46\"/>\r\n       <use x=\"95.410156\" xlink:href=\"#DejaVuSans-50\"/>\r\n       <use x=\"159.033203\" xlink:href=\"#DejaVuSans-53\"/>\r\n       <use x=\"222.65625\" xlink:href=\"#DejaVuSans-48\"/>\r\n      </g>\r\n     </g>\r\n    </g>\r\n    <g id=\"ytick_3\">\r\n     <g id=\"line2d_12\">\r\n      <g>\r\n       <use style=\"stroke:#000000;stroke-width:0.8;\" x=\"56.50625\" xlink:href=\"#m8fa9ae6190\" y=\"153.625333\"/>\r\n      </g>\r\n     </g>\r\n     <g id=\"text_13\">\r\n      <!-- 0.255 -->\r\n      <g transform=\"translate(20.878125 157.424551)scale(0.1 -0.1)\">\r\n       <use xlink:href=\"#DejaVuSans-48\"/>\r\n       <use x=\"63.623047\" xlink:href=\"#DejaVuSans-46\"/>\r\n       <use x=\"95.410156\" xlink:href=\"#DejaVuSans-50\"/>\r\n       <use x=\"159.033203\" xlink:href=\"#DejaVuSans-53\"/>\r\n       <use x=\"222.65625\" xlink:href=\"#DejaVuSans-53\"/>\r\n      </g>\r\n     </g>\r\n    </g>\r\n    <g id=\"ytick_4\">\r\n     <g id=\"line2d_13\">\r\n      <g>\r\n       <use style=\"stroke:#000000;stroke-width:0.8;\" x=\"56.50625\" xlink:href=\"#m8fa9ae6190\" y=\"117.968804\"/>\r\n      </g>\r\n     </g>\r\n     <g id=\"text_14\">\r\n      <!-- 0.260 -->\r\n      <g transform=\"translate(20.878125 121.768023)scale(0.1 -0.1)\">\r\n       <use xlink:href=\"#DejaVuSans-48\"/>\r\n       <use x=\"63.623047\" xlink:href=\"#DejaVuSans-46\"/>\r\n       <use x=\"95.410156\" xlink:href=\"#DejaVuSans-50\"/>\r\n       <use x=\"159.033203\" xlink:href=\"#DejaVuSans-54\"/>\r\n       <use x=\"222.65625\" xlink:href=\"#DejaVuSans-48\"/>\r\n      </g>\r\n     </g>\r\n    </g>\r\n    <g id=\"ytick_5\">\r\n     <g id=\"line2d_14\">\r\n      <g>\r\n       <use style=\"stroke:#000000;stroke-width:0.8;\" x=\"56.50625\" xlink:href=\"#m8fa9ae6190\" y=\"82.312276\"/>\r\n      </g>\r\n     </g>\r\n     <g id=\"text_15\">\r\n      <!-- 0.265 -->\r\n      <g transform=\"translate(20.878125 86.111494)scale(0.1 -0.1)\">\r\n       <use xlink:href=\"#DejaVuSans-48\"/>\r\n       <use x=\"63.623047\" xlink:href=\"#DejaVuSans-46\"/>\r\n       <use x=\"95.410156\" xlink:href=\"#DejaVuSans-50\"/>\r\n       <use x=\"159.033203\" xlink:href=\"#DejaVuSans-54\"/>\r\n       <use x=\"222.65625\" xlink:href=\"#DejaVuSans-53\"/>\r\n      </g>\r\n     </g>\r\n    </g>\r\n    <g id=\"ytick_6\">\r\n     <g id=\"line2d_15\">\r\n      <g>\r\n       <use style=\"stroke:#000000;stroke-width:0.8;\" x=\"56.50625\" xlink:href=\"#m8fa9ae6190\" y=\"46.655747\"/>\r\n      </g>\r\n     </g>\r\n     <g id=\"text_16\">\r\n      <!-- 0.270 -->\r\n      <g transform=\"translate(20.878125 50.454966)scale(0.1 -0.1)\">\r\n       <use xlink:href=\"#DejaVuSans-48\"/>\r\n       <use x=\"63.623047\" xlink:href=\"#DejaVuSans-46\"/>\r\n       <use x=\"95.410156\" xlink:href=\"#DejaVuSans-50\"/>\r\n       <use x=\"159.033203\" xlink:href=\"#DejaVuSans-55\"/>\r\n       <use x=\"222.65625\" xlink:href=\"#DejaVuSans-48\"/>\r\n      </g>\r\n     </g>\r\n    </g>\r\n    <g id=\"ytick_7\">\r\n     <g id=\"line2d_16\">\r\n      <g>\r\n       <use style=\"stroke:#000000;stroke-width:0.8;\" x=\"56.50625\" xlink:href=\"#m8fa9ae6190\" y=\"10.999219\"/>\r\n      </g>\r\n     </g>\r\n     <g id=\"text_17\">\r\n      <!-- 0.275 -->\r\n      <g transform=\"translate(20.878125 14.798437)scale(0.1 -0.1)\">\r\n       <use xlink:href=\"#DejaVuSans-48\"/>\r\n       <use x=\"63.623047\" xlink:href=\"#DejaVuSans-46\"/>\r\n       <use x=\"95.410156\" xlink:href=\"#DejaVuSans-50\"/>\r\n       <use x=\"159.033203\" xlink:href=\"#DejaVuSans-55\"/>\r\n       <use x=\"222.65625\" xlink:href=\"#DejaVuSans-53\"/>\r\n      </g>\r\n     </g>\r\n    </g>\r\n    <g id=\"text_18\">\r\n     <!-- Coherence score -->\r\n     <g transform=\"translate(14.798437 159.295355)rotate(-90)scale(0.1 -0.1)\">\r\n      <defs>\r\n       <path d=\"M 64.40625 67.28125 \r\nL 64.40625 56.890625 \r\nQ 59.421875 61.53125 53.78125 63.8125 \r\nQ 48.140625 66.109375 41.796875 66.109375 \r\nQ 29.296875 66.109375 22.65625 58.46875 \r\nQ 16.015625 50.828125 16.015625 36.375 \r\nQ 16.015625 21.96875 22.65625 14.328125 \r\nQ 29.296875 6.6875 41.796875 6.6875 \r\nQ 48.140625 6.6875 53.78125 8.984375 \r\nQ 59.421875 11.28125 64.40625 15.921875 \r\nL 64.40625 5.609375 \r\nQ 59.234375 2.09375 53.4375 0.328125 \r\nQ 47.65625 -1.421875 41.21875 -1.421875 \r\nQ 24.65625 -1.421875 15.125 8.703125 \r\nQ 5.609375 18.84375 5.609375 36.375 \r\nQ 5.609375 53.953125 15.125 64.078125 \r\nQ 24.65625 74.21875 41.21875 74.21875 \r\nQ 47.75 74.21875 53.53125 72.484375 \r\nQ 59.328125 70.75 64.40625 67.28125 \r\nz\r\n\" id=\"DejaVuSans-67\"/>\r\n       <path d=\"M 54.890625 33.015625 \r\nL 54.890625 0 \r\nL 45.90625 0 \r\nL 45.90625 32.71875 \r\nQ 45.90625 40.484375 42.875 44.328125 \r\nQ 39.84375 48.1875 33.796875 48.1875 \r\nQ 26.515625 48.1875 22.3125 43.546875 \r\nQ 18.109375 38.921875 18.109375 30.90625 \r\nL 18.109375 0 \r\nL 9.078125 0 \r\nL 9.078125 75.984375 \r\nL 18.109375 75.984375 \r\nL 18.109375 46.1875 \r\nQ 21.34375 51.125 25.703125 53.5625 \r\nQ 30.078125 56 35.796875 56 \r\nQ 45.21875 56 50.046875 50.171875 \r\nQ 54.890625 44.34375 54.890625 33.015625 \r\nz\r\n\" id=\"DejaVuSans-104\"/>\r\n       <path d=\"M 54.890625 33.015625 \r\nL 54.890625 0 \r\nL 45.90625 0 \r\nL 45.90625 32.71875 \r\nQ 45.90625 40.484375 42.875 44.328125 \r\nQ 39.84375 48.1875 33.796875 48.1875 \r\nQ 26.515625 48.1875 22.3125 43.546875 \r\nQ 18.109375 38.921875 18.109375 30.90625 \r\nL 18.109375 0 \r\nL 9.078125 0 \r\nL 9.078125 54.6875 \r\nL 18.109375 54.6875 \r\nL 18.109375 46.1875 \r\nQ 21.34375 51.125 25.703125 53.5625 \r\nQ 30.078125 56 35.796875 56 \r\nQ 45.21875 56 50.046875 50.171875 \r\nQ 54.890625 44.34375 54.890625 33.015625 \r\nz\r\n\" id=\"DejaVuSans-110\"/>\r\n      </defs>\r\n      <use xlink:href=\"#DejaVuSans-67\"/>\r\n      <use x=\"69.824219\" xlink:href=\"#DejaVuSans-111\"/>\r\n      <use x=\"131.005859\" xlink:href=\"#DejaVuSans-104\"/>\r\n      <use x=\"194.384766\" xlink:href=\"#DejaVuSans-101\"/>\r\n      <use x=\"255.908203\" xlink:href=\"#DejaVuSans-114\"/>\r\n      <use x=\"294.771484\" xlink:href=\"#DejaVuSans-101\"/>\r\n      <use x=\"356.294922\" xlink:href=\"#DejaVuSans-110\"/>\r\n      <use x=\"419.673828\" xlink:href=\"#DejaVuSans-99\"/>\r\n      <use x=\"474.654297\" xlink:href=\"#DejaVuSans-101\"/>\r\n      <use x=\"536.177734\" xlink:href=\"#DejaVuSans-32\"/>\r\n      <use x=\"567.964844\" xlink:href=\"#DejaVuSans-115\"/>\r\n      <use x=\"620.064453\" xlink:href=\"#DejaVuSans-99\"/>\r\n      <use x=\"675.044922\" xlink:href=\"#DejaVuSans-111\"/>\r\n      <use x=\"736.226562\" xlink:href=\"#DejaVuSans-114\"/>\r\n      <use x=\"775.089844\" xlink:href=\"#DejaVuSans-101\"/>\r\n     </g>\r\n    </g>\r\n   </g>\r\n   <g id=\"line2d_17\">\r\n    <path clip-path=\"url(#pa279a5f618)\" d=\"M 71.724432 18.62696 \r\nL 147.815341 176.93269 \r\nL 223.90625 197.571963 \r\nL 299.997159 216.299687 \r\nL 376.088068 43.176496 \r\n\" style=\"fill:none;stroke:#1f77b4;stroke-linecap:square;stroke-width:1.5;\"/>\r\n   </g>\r\n   <g id=\"patch_3\">\r\n    <path d=\"M 56.50625 226.183323 \r\nL 56.50625 8.743323 \r\n\" style=\"fill:none;stroke:#000000;stroke-linecap:square;stroke-linejoin:miter;stroke-width:0.8;\"/>\r\n   </g>\r\n   <g id=\"patch_4\">\r\n    <path d=\"M 391.30625 226.183323 \r\nL 391.30625 8.743323 \r\n\" style=\"fill:none;stroke:#000000;stroke-linecap:square;stroke-linejoin:miter;stroke-width:0.8;\"/>\r\n   </g>\r\n   <g id=\"patch_5\">\r\n    <path d=\"M 56.50625 226.183323 \r\nL 391.30625 226.183323 \r\n\" style=\"fill:none;stroke:#000000;stroke-linecap:square;stroke-linejoin:miter;stroke-width:0.8;\"/>\r\n   </g>\r\n   <g id=\"patch_6\">\r\n    <path d=\"M 56.50625 8.743323 \r\nL 391.30625 8.743323 \r\n\" style=\"fill:none;stroke:#000000;stroke-linecap:square;stroke-linejoin:miter;stroke-width:0.8;\"/>\r\n   </g>\r\n   <g id=\"legend_1\">\r\n    <g id=\"patch_7\">\r\n     <path d=\"M 346.807813 31.421448 \r\nL 384.30625 31.421448 \r\nQ 386.30625 31.421448 386.30625 29.421448 \r\nL 386.30625 15.743323 \r\nQ 386.30625 13.743323 384.30625 13.743323 \r\nL 346.807813 13.743323 \r\nQ 344.807813 13.743323 344.807813 15.743323 \r\nL 344.807813 29.421448 \r\nQ 344.807813 31.421448 346.807813 31.421448 \r\nz\r\n\" style=\"fill:#ffffff;opacity:0.8;stroke:#cccccc;stroke-linejoin:miter;\"/>\r\n    </g>\r\n    <g id=\"line2d_18\">\r\n     <path d=\"M 348.807813 21.841761 \r\nL 368.807813 21.841761 \r\n\" style=\"fill:none;stroke:#1f77b4;stroke-linecap:square;stroke-width:1.5;\"/>\r\n    </g>\r\n    <g id=\"line2d_19\"/>\r\n    <g id=\"text_19\">\r\n     <!-- c -->\r\n     <g transform=\"translate(376.807813 25.341761)scale(0.1 -0.1)\">\r\n      <use xlink:href=\"#DejaVuSans-99\"/>\r\n     </g>\r\n    </g>\r\n   </g>\r\n  </g>\r\n </g>\r\n <defs>\r\n  <clipPath id=\"pa279a5f618\">\r\n   <rect height=\"217.44\" width=\"334.8\" x=\"56.50625\" y=\"8.743323\"/>\r\n  </clipPath>\r\n </defs>\r\n</svg>\r\n",
      "image/png": "[encoded data removed]"
     },
     "metadata": {
      "needs_background": "light"
     }
    }
   ],
   "source": [
    "# Show graph\n",
    "limit=12; start=2; step=2;\n",
    "x = range(start, limit, step)\n",
    "plt.plot(x, coherence_values)\n",
    "plt.xlabel(\"Number of Topics\")\n",
    "plt.ylabel(\"Coherence score\")\n",
    "plt.legend((\"coherence_values\"), loc='best')\n",
    "plt.show()"
   ]
  },
  {
   "source": [
    "## Generating LDA Model with BoW implementation (Using Optimal number of topics (500 Records)) and saving the Model\n",
    "## UNIGRAM"
   ],
   "cell_type": "markdown",
   "metadata": {}
  },
  {
   "cell_type": "code",
   "execution_count": 293,
   "metadata": {},
   "outputs": [
    {
     "output_type": "stream",
     "name": "stdout",
     "text": [
      "Topic: 1 \nWords: 0.027*\"flavor\" + 0.024*\"aroma\" + 0.022*\"fruit\" + 0.016*\"palate\" + 0.013*\"tannin\" + 0.013*\"cherry\" + 0.011*\"spice\" + 0.010*\"note\" + 0.009*\"finish\" + 0.008*\"acidity\"\n\nTopic: 2 \nWords: 0.030*\"flavor\" + 0.024*\"fruit\" + 0.019*\"acidity\" + 0.017*\"palate\" + 0.013*\"note\" + 0.011*\"cherry\" + 0.010*\"offer\" + 0.010*\"finish\" + 0.009*\"apple\" + 0.009*\"ripe\"\n\n"
     ]
    }
   ],
   "source": [
    "# Train our lda model using gensim.models.LdaMulticore and save it to ‘lda_model’\n",
    "lda_bow_unigram_500_model = gensim.models.LdaMulticore(corpus=bow_corpus, num_topics=2, id2word=dictionary, passes=2, workers=2, random_state=100)\n",
    "\n",
    "# save model to disk\n",
    "import pickle\n",
    "\n",
    "with open(\"lda_bow_unigram_500_model.pk\", \"wb\") as file:\n",
    "   pickle.dump(lda_bow_unigram_500_model, file)\n",
    "\n",
    "# For each topic, we will explore the words occuring in that topic and its relative weight.\n",
    "\n",
    "# Parameters\n",
    "# num_topics (int, optional) – The number of topics to be selected, if -1 - all topics will be in result (ordered by significance).\n",
    "\n",
    "for idx, topic in lda_bow_unigram_500_model.print_topics(-1):\n",
    "    print('Topic: {} \\nWords: {}\\n'.format(idx + 1, topic))"
   ]
  },
  {
   "source": [
    "## Assign topic back to documents (BOW LDA MODEL) - 500 RECORDS UNIGRAM"
   ],
   "cell_type": "markdown",
   "metadata": {}
  },
  {
   "cell_type": "code",
   "execution_count": 294,
   "metadata": {},
   "outputs": [],
   "source": [
    "df_sample_500_records['topics'] = [lda_bow_unigram_500_model.get_document_topics(dictionary.doc2bow(doc)) for doc in cleaned_unigram_text_list_split]"
   ]
  },
  {
   "cell_type": "code",
   "execution_count": 295,
   "metadata": {},
   "outputs": [
    {
     "output_type": "execute_result",
     "data": {
      "text/plain": [
       "  country  \\\n",
       "0   Italy   \n",
       "\n",
       "                                                                                                                                                                    description  \\\n",
       "0  Aromas include tropical fruit, broom, brimstone and dried herb. The palate isn't overly expressive, offering unripened apple, citrus and dried sage alongside brisk acidity.   \n",
       "\n",
       "    designation  points  price           province region_1 region_2  \\\n",
       "0  Vulkà Bianco      87    NaN  Sicily & Sardinia     Etna      NaN   \n",
       "\n",
       "     taster_name taster_twitter_handle  ...   winery ratings ratings_label  \\\n",
       "0  Kerin O’Keefe          @kerinokeefe  ...  Nicosia    good             2   \n",
       "\n",
       "                                                                                                                                cleaned_text  \\\n",
       "0  aroma include tropical fruit broom brimstone dried herb palate overly expressive offering unripened apple citrus dried sage brisk acidity   \n",
       "\n",
       "                                                                                                                       bigram_cleaned_review  \\\n",
       "0  aroma include tropical fruit broom brimstone dried herb palate overly expressive offering unripened apple citrus dried sage brisk acidity   \n",
       "\n",
       "                                                                                                                      trigram_cleaned_review  \\\n",
       "0  aroma include tropical fruit broom brimstone dried herb palate overly expressive offering unripened apple citrus dried sage brisk acidity   \n",
       "\n",
       "                                                            unigram_cleaned_review_noun_verbs_only  \\\n",
       "0  aroma include fruit broom brimstone dried palate offering apple citrus dried sage brisk acidity   \n",
       "\n",
       "                                                             bigram_cleaned_review_noun_verbs_only  \\\n",
       "0  aroma include fruit broom brimstone dried palate offering apple citrus dried sage brisk acidity   \n",
       "\n",
       "                                                            trigram_cleaned_review_noun_verbs_only  \\\n",
       "0  aroma include fruit broom brimstone dried palate offering apple citrus dried sage brisk acidity   \n",
       "\n",
       "                               topics  \n",
       "0  [(0, 0.9415033), (1, 0.058496695)]  \n",
       "\n",
       "[1 rows x 22 columns]"
      ],
      "text/html": "<div>\n<style scoped>\n    .dataframe tbody tr th:only-of-type {\n        vertical-align: middle;\n    }\n\n    .dataframe tbody tr th {\n        vertical-align: top;\n    }\n\n    .dataframe thead th {\n        text-align: right;\n    }\n</style>\n<table border=\"1\" class=\"dataframe\">\n  <thead>\n    <tr style=\"text-align: right;\">\n      <th></th>\n      <th>country</th>\n      <th>description</th>\n      <th>designation</th>\n      <th>points</th>\n      <th>price</th>\n      <th>province</th>\n      <th>region_1</th>\n      <th>region_2</th>\n      <th>taster_name</th>\n      <th>taster_twitter_handle</th>\n      <th>...</th>\n      <th>winery</th>\n      <th>ratings</th>\n      <th>ratings_label</th>\n      <th>cleaned_text</th>\n      <th>bigram_cleaned_review</th>\n      <th>trigram_cleaned_review</th>\n      <th>unigram_cleaned_review_noun_verbs_only</th>\n      <th>bigram_cleaned_review_noun_verbs_only</th>\n      <th>trigram_cleaned_review_noun_verbs_only</th>\n      <th>topics</th>\n    </tr>\n  </thead>\n  <tbody>\n    <tr>\n      <th>0</th>\n      <td>Italy</td>\n      <td>Aromas include tropical fruit, broom, brimstone and dried herb. The palate isn't overly expressive, offering unripened apple, citrus and dried sage alongside brisk acidity.</td>\n      <td>Vulkà Bianco</td>\n      <td>87</td>\n      <td>NaN</td>\n      <td>Sicily &amp; Sardinia</td>\n      <td>Etna</td>\n      <td>NaN</td>\n      <td>Kerin O’Keefe</td>\n      <td>@kerinokeefe</td>\n      <td>...</td>\n      <td>Nicosia</td>\n      <td>good</td>\n      <td>2</td>\n      <td>aroma include tropical fruit broom brimstone dried herb palate overly expressive offering unripened apple citrus dried sage brisk acidity</td>\n      <td>aroma include tropical fruit broom brimstone dried herb palate overly expressive offering unripened apple citrus dried sage brisk acidity</td>\n      <td>aroma include tropical fruit broom brimstone dried herb palate overly expressive offering unripened apple citrus dried sage brisk acidity</td>\n      <td>aroma include fruit broom brimstone dried palate offering apple citrus dried sage brisk acidity</td>\n      <td>aroma include fruit broom brimstone dried palate offering apple citrus dried sage brisk acidity</td>\n      <td>aroma include fruit broom brimstone dried palate offering apple citrus dried sage brisk acidity</td>\n      <td>[(0, 0.9415033), (1, 0.058496695)]</td>\n    </tr>\n  </tbody>\n</table>\n<p>1 rows × 22 columns</p>\n</div>"
     },
     "metadata": {},
     "execution_count": 295
    }
   ],
   "source": [
    "df_sample_500_records.head(1)"
   ]
  },
  {
   "source": [
    "# TF-IDF Implementation\n",
    "\n",
    "## Create TF-IDF model object on bow_corpus and name it corpus_tfidf"
   ],
   "cell_type": "markdown",
   "metadata": {}
  },
  {
   "cell_type": "code",
   "execution_count": 296,
   "metadata": {},
   "outputs": [
    {
     "output_type": "stream",
     "name": "stdout",
     "text": [
      "[(0, 0.09462006626302034),\n (1, 0.14525132853822625),\n (2, 0.08838625392344406),\n (3, 0.4290846571513522),\n (4, 0.3532314947701073),\n (5, 0.4290846571513522),\n (6, 0.1549577423826127),\n (7, 0.43133020543717104),\n (8, 0.06608339247721966),\n (9, 0.30537347772129264),\n (10, 0.2701037657512966),\n (11, 0.08358956702080839),\n (12, 0.2855106060049084)]\n"
     ]
    }
   ],
   "source": [
    "tfidf = models.TfidfModel(bow_corpus)\n",
    "corpus_tfidf = tfidf[bow_corpus]\n",
    "\n",
    "for doc in corpus_tfidf:\n",
    "    pprint(doc)\n",
    "    break"
   ]
  },
  {
   "source": [
    "## Choosing Optimal Number of Topics for LDA using TF-IDF\n",
    "## UNIGRAM - 500 Records"
   ],
   "cell_type": "markdown",
   "metadata": {}
  },
  {
   "cell_type": "code",
   "execution_count": 297,
   "metadata": {},
   "outputs": [
    {
     "output_type": "stream",
     "name": "stdout",
     "text": [
      "#Topics: 2 Score: 0.23616653755798916\n",
      "#Topics: 4 Score: 0.23894855155221956\n",
      "#Topics: 6 Score: 0.245879230407441\n",
      "#Topics: 8 Score: 0.2611776422600284\n",
      "#Topics: 10 Score: 0.30105764703737947\n"
     ]
    }
   ],
   "source": [
    "from gensim.models import CoherenceModel\n",
    "\n",
    "model_topics = []\n",
    "model_list = []\n",
    "coherence_values = []\n",
    "\n",
    "for num_topics in range(2, 12, 2):\n",
    "    lda_tfidf_model= gensim.models.LdaMulticore(corpus=corpus_tfidf, num_topics=num_topics, id2word=dictionary, passes=2, workers=2,  random_state=100)\n",
    "    coherencemodel = CoherenceModel(model=lda_tfidf_model, texts=cleaned_unigram_text_list_split, dictionary=dictionary, coherence='c_v')\n",
    "    model_topics.append(num_topics)\n",
    "    model_list.append(lda_tfidf_model)\n",
    "    coherence_values.append(coherencemodel.get_coherence())\n",
    "    print(\"#Topics: \" + str(num_topics) + \" Score: \" + str(coherencemodel.get_coherence()))"
   ]
  },
  {
   "source": [
    "## Plotting of Coherence Graph (TF-IDF BoW Implementation)\n",
    "\n",
    "## UNIGRAM - 500 Records"
   ],
   "cell_type": "markdown",
   "metadata": {}
  },
  {
   "cell_type": "code",
   "execution_count": 298,
   "metadata": {},
   "outputs": [
    {
     "output_type": "display_data",
     "data": {
      "text/plain": "<Figure size 432x288 with 1 Axes>",
      "image/svg+xml": "<?xml version=\"1.0\" encoding=\"utf-8\" standalone=\"no\"?>\r\n<!DOCTYPE svg PUBLIC \"-//W3C//DTD SVG 1.1//EN\"\r\n  \"http://www.w3.org/Graphics/SVG/1.1/DTD/svg11.dtd\">\r\n<!-- Created with matplotlib (https://matplotlib.org/) -->\r\n<svg height=\"262.19625pt\" version=\"1.1\" viewBox=\"0 0 392.14375 262.19625\" width=\"392.14375pt\" xmlns=\"http://www.w3.org/2000/svg\" xmlns:xlink=\"http://www.w3.org/1999/xlink\">\r\n <metadata>\r\n  <rdf:RDF xmlns:cc=\"http://creativecommons.org/ns#\" xmlns:dc=\"http://purl.org/dc/elements/1.1/\" xmlns:rdf=\"http://www.w3.org/1999/02/22-rdf-syntax-ns#\">\r\n   <cc:Work>\r\n    <dc:type rdf:resource=\"http://purl.org/dc/dcmitype/StillImage\"/>\r\n    <dc:date>2021-03-26T02:29:29.652955</dc:date>\r\n    <dc:format>image/svg+xml</dc:format>\r\n    <dc:creator>\r\n     <cc:Agent>\r\n      <dc:title>Matplotlib v3.3.1, https://matplotlib.org/</dc:title>\r\n     </cc:Agent>\r\n    </dc:creator>\r\n   </cc:Work>\r\n  </rdf:RDF>\r\n </metadata>\r\n <defs>\r\n  <style type=\"text/css\">*{stroke-linecap:butt;stroke-linejoin:round;}</style>\r\n </defs>\r\n <g id=\"figure_1\">\r\n  <g id=\"patch_1\">\r\n   <path d=\"M 0 262.19625 \r\nL 392.14375 262.19625 \r\nL 392.14375 0 \r\nL 0 0 \r\nz\r\n\" style=\"fill:none;\"/>\r\n  </g>\r\n  <g id=\"axes_1\">\r\n   <g id=\"patch_2\">\r\n    <path d=\"M 50.14375 224.64 \r\nL 384.94375 224.64 \r\nL 384.94375 7.2 \r\nL 50.14375 7.2 \r\nz\r\n\" style=\"fill:#ffffff;\"/>\r\n   </g>\r\n   <g id=\"matplotlib.axis_1\">\r\n    <g id=\"xtick_1\">\r\n     <g id=\"line2d_1\">\r\n      <defs>\r\n       <path d=\"M 0 0 \r\nL 0 3.5 \r\n\" id=\"mefb0254c34\" style=\"stroke:#000000;stroke-width:0.8;\"/>\r\n      </defs>\r\n      <g>\r\n       <use style=\"stroke:#000000;stroke-width:0.8;\" x=\"65.361932\" xlink:href=\"#mefb0254c34\" y=\"224.64\"/>\r\n      </g>\r\n     </g>\r\n     <g id=\"text_1\">\r\n      <!-- 2 -->\r\n      <g transform=\"translate(62.180682 239.238437)scale(0.1 -0.1)\">\r\n       <defs>\r\n        <path d=\"M 19.1875 8.296875 \r\nL 53.609375 8.296875 \r\nL 53.609375 0 \r\nL 7.328125 0 \r\nL 7.328125 8.296875 \r\nQ 12.9375 14.109375 22.625 23.890625 \r\nQ 32.328125 33.6875 34.8125 36.53125 \r\nQ 39.546875 41.84375 41.421875 45.53125 \r\nQ 43.3125 49.21875 43.3125 52.78125 \r\nQ 43.3125 58.59375 39.234375 62.25 \r\nQ 35.15625 65.921875 28.609375 65.921875 \r\nQ 23.96875 65.921875 18.8125 64.3125 \r\nQ 13.671875 62.703125 7.8125 59.421875 \r\nL 7.8125 69.390625 \r\nQ 13.765625 71.78125 18.9375 73 \r\nQ 24.125 74.21875 28.421875 74.21875 \r\nQ 39.75 74.21875 46.484375 68.546875 \r\nQ 53.21875 62.890625 53.21875 53.421875 \r\nQ 53.21875 48.921875 51.53125 44.890625 \r\nQ 49.859375 40.875 45.40625 35.40625 \r\nQ 44.1875 33.984375 37.640625 27.21875 \r\nQ 31.109375 20.453125 19.1875 8.296875 \r\nz\r\n\" id=\"DejaVuSans-50\"/>\r\n       </defs>\r\n       <use xlink:href=\"#DejaVuSans-50\"/>\r\n      </g>\r\n     </g>\r\n    </g>\r\n    <g id=\"xtick_2\">\r\n     <g id=\"line2d_2\">\r\n      <g>\r\n       <use style=\"stroke:#000000;stroke-width:0.8;\" x=\"103.407386\" xlink:href=\"#mefb0254c34\" y=\"224.64\"/>\r\n      </g>\r\n     </g>\r\n     <g id=\"text_2\">\r\n      <!-- 3 -->\r\n      <g transform=\"translate(100.226136 239.238437)scale(0.1 -0.1)\">\r\n       <defs>\r\n        <path d=\"M 40.578125 39.3125 \r\nQ 47.65625 37.796875 51.625 33 \r\nQ 55.609375 28.21875 55.609375 21.1875 \r\nQ 55.609375 10.40625 48.1875 4.484375 \r\nQ 40.765625 -1.421875 27.09375 -1.421875 \r\nQ 22.515625 -1.421875 17.65625 -0.515625 \r\nQ 12.796875 0.390625 7.625 2.203125 \r\nL 7.625 11.71875 \r\nQ 11.71875 9.328125 16.59375 8.109375 \r\nQ 21.484375 6.890625 26.8125 6.890625 \r\nQ 36.078125 6.890625 40.9375 10.546875 \r\nQ 45.796875 14.203125 45.796875 21.1875 \r\nQ 45.796875 27.640625 41.28125 31.265625 \r\nQ 36.765625 34.90625 28.71875 34.90625 \r\nL 20.21875 34.90625 \r\nL 20.21875 43.015625 \r\nL 29.109375 43.015625 \r\nQ 36.375 43.015625 40.234375 45.921875 \r\nQ 44.09375 48.828125 44.09375 54.296875 \r\nQ 44.09375 59.90625 40.109375 62.90625 \r\nQ 36.140625 65.921875 28.71875 65.921875 \r\nQ 24.65625 65.921875 20.015625 65.03125 \r\nQ 15.375 64.15625 9.8125 62.3125 \r\nL 9.8125 71.09375 \r\nQ 15.4375 72.65625 20.34375 73.4375 \r\nQ 25.25 74.21875 29.59375 74.21875 \r\nQ 40.828125 74.21875 47.359375 69.109375 \r\nQ 53.90625 64.015625 53.90625 55.328125 \r\nQ 53.90625 49.265625 50.4375 45.09375 \r\nQ 46.96875 40.921875 40.578125 39.3125 \r\nz\r\n\" id=\"DejaVuSans-51\"/>\r\n       </defs>\r\n       <use xlink:href=\"#DejaVuSans-51\"/>\r\n      </g>\r\n     </g>\r\n    </g>\r\n    <g id=\"xtick_3\">\r\n     <g id=\"line2d_3\">\r\n      <g>\r\n       <use style=\"stroke:#000000;stroke-width:0.8;\" x=\"141.452841\" xlink:href=\"#mefb0254c34\" y=\"224.64\"/>\r\n      </g>\r\n     </g>\r\n     <g id=\"text_3\">\r\n      <!-- 4 -->\r\n      <g transform=\"translate(138.271591 239.238437)scale(0.1 -0.1)\">\r\n       <defs>\r\n        <path d=\"M 37.796875 64.3125 \r\nL 12.890625 25.390625 \r\nL 37.796875 25.390625 \r\nz\r\nM 35.203125 72.90625 \r\nL 47.609375 72.90625 \r\nL 47.609375 25.390625 \r\nL 58.015625 25.390625 \r\nL 58.015625 17.1875 \r\nL 47.609375 17.1875 \r\nL 47.609375 0 \r\nL 37.796875 0 \r\nL 37.796875 17.1875 \r\nL 4.890625 17.1875 \r\nL 4.890625 26.703125 \r\nz\r\n\" id=\"DejaVuSans-52\"/>\r\n       </defs>\r\n       <use xlink:href=\"#DejaVuSans-52\"/>\r\n      </g>\r\n     </g>\r\n    </g>\r\n    <g id=\"xtick_4\">\r\n     <g id=\"line2d_4\">\r\n      <g>\r\n       <use style=\"stroke:#000000;stroke-width:0.8;\" x=\"179.498295\" xlink:href=\"#mefb0254c34\" y=\"224.64\"/>\r\n      </g>\r\n     </g>\r\n     <g id=\"text_4\">\r\n      <!-- 5 -->\r\n      <g transform=\"translate(176.317045 239.238437)scale(0.1 -0.1)\">\r\n       <defs>\r\n        <path d=\"M 10.796875 72.90625 \r\nL 49.515625 72.90625 \r\nL 49.515625 64.59375 \r\nL 19.828125 64.59375 \r\nL 19.828125 46.734375 \r\nQ 21.96875 47.46875 24.109375 47.828125 \r\nQ 26.265625 48.1875 28.421875 48.1875 \r\nQ 40.625 48.1875 47.75 41.5 \r\nQ 54.890625 34.8125 54.890625 23.390625 \r\nQ 54.890625 11.625 47.5625 5.09375 \r\nQ 40.234375 -1.421875 26.90625 -1.421875 \r\nQ 22.3125 -1.421875 17.546875 -0.640625 \r\nQ 12.796875 0.140625 7.71875 1.703125 \r\nL 7.71875 11.625 \r\nQ 12.109375 9.234375 16.796875 8.0625 \r\nQ 21.484375 6.890625 26.703125 6.890625 \r\nQ 35.15625 6.890625 40.078125 11.328125 \r\nQ 45.015625 15.765625 45.015625 23.390625 \r\nQ 45.015625 31 40.078125 35.4375 \r\nQ 35.15625 39.890625 26.703125 39.890625 \r\nQ 22.75 39.890625 18.8125 39.015625 \r\nQ 14.890625 38.140625 10.796875 36.28125 \r\nz\r\n\" id=\"DejaVuSans-53\"/>\r\n       </defs>\r\n       <use xlink:href=\"#DejaVuSans-53\"/>\r\n      </g>\r\n     </g>\r\n    </g>\r\n    <g id=\"xtick_5\">\r\n     <g id=\"line2d_5\">\r\n      <g>\r\n       <use style=\"stroke:#000000;stroke-width:0.8;\" x=\"217.54375\" xlink:href=\"#mefb0254c34\" y=\"224.64\"/>\r\n      </g>\r\n     </g>\r\n     <g id=\"text_5\">\r\n      <!-- 6 -->\r\n      <g transform=\"translate(214.3625 239.238437)scale(0.1 -0.1)\">\r\n       <defs>\r\n        <path d=\"M 33.015625 40.375 \r\nQ 26.375 40.375 22.484375 35.828125 \r\nQ 18.609375 31.296875 18.609375 23.390625 \r\nQ 18.609375 15.53125 22.484375 10.953125 \r\nQ 26.375 6.390625 33.015625 6.390625 \r\nQ 39.65625 6.390625 43.53125 10.953125 \r\nQ 47.40625 15.53125 47.40625 23.390625 \r\nQ 47.40625 31.296875 43.53125 35.828125 \r\nQ 39.65625 40.375 33.015625 40.375 \r\nz\r\nM 52.59375 71.296875 \r\nL 52.59375 62.3125 \r\nQ 48.875 64.0625 45.09375 64.984375 \r\nQ 41.3125 65.921875 37.59375 65.921875 \r\nQ 27.828125 65.921875 22.671875 59.328125 \r\nQ 17.53125 52.734375 16.796875 39.40625 \r\nQ 19.671875 43.65625 24.015625 45.921875 \r\nQ 28.375 48.1875 33.59375 48.1875 \r\nQ 44.578125 48.1875 50.953125 41.515625 \r\nQ 57.328125 34.859375 57.328125 23.390625 \r\nQ 57.328125 12.15625 50.6875 5.359375 \r\nQ 44.046875 -1.421875 33.015625 -1.421875 \r\nQ 20.359375 -1.421875 13.671875 8.265625 \r\nQ 6.984375 17.96875 6.984375 36.375 \r\nQ 6.984375 53.65625 15.1875 63.9375 \r\nQ 23.390625 74.21875 37.203125 74.21875 \r\nQ 40.921875 74.21875 44.703125 73.484375 \r\nQ 48.484375 72.75 52.59375 71.296875 \r\nz\r\n\" id=\"DejaVuSans-54\"/>\r\n       </defs>\r\n       <use xlink:href=\"#DejaVuSans-54\"/>\r\n      </g>\r\n     </g>\r\n    </g>\r\n    <g id=\"xtick_6\">\r\n     <g id=\"line2d_6\">\r\n      <g>\r\n       <use style=\"stroke:#000000;stroke-width:0.8;\" x=\"255.589205\" xlink:href=\"#mefb0254c34\" y=\"224.64\"/>\r\n      </g>\r\n     </g>\r\n     <g id=\"text_6\">\r\n      <!-- 7 -->\r\n      <g transform=\"translate(252.407955 239.238437)scale(0.1 -0.1)\">\r\n       <defs>\r\n        <path d=\"M 8.203125 72.90625 \r\nL 55.078125 72.90625 \r\nL 55.078125 68.703125 \r\nL 28.609375 0 \r\nL 18.3125 0 \r\nL 43.21875 64.59375 \r\nL 8.203125 64.59375 \r\nz\r\n\" id=\"DejaVuSans-55\"/>\r\n       </defs>\r\n       <use xlink:href=\"#DejaVuSans-55\"/>\r\n      </g>\r\n     </g>\r\n    </g>\r\n    <g id=\"xtick_7\">\r\n     <g id=\"line2d_7\">\r\n      <g>\r\n       <use style=\"stroke:#000000;stroke-width:0.8;\" x=\"293.634659\" xlink:href=\"#mefb0254c34\" y=\"224.64\"/>\r\n      </g>\r\n     </g>\r\n     <g id=\"text_7\">\r\n      <!-- 8 -->\r\n      <g transform=\"translate(290.453409 239.238437)scale(0.1 -0.1)\">\r\n       <defs>\r\n        <path d=\"M 31.78125 34.625 \r\nQ 24.75 34.625 20.71875 30.859375 \r\nQ 16.703125 27.09375 16.703125 20.515625 \r\nQ 16.703125 13.921875 20.71875 10.15625 \r\nQ 24.75 6.390625 31.78125 6.390625 \r\nQ 38.8125 6.390625 42.859375 10.171875 \r\nQ 46.921875 13.96875 46.921875 20.515625 \r\nQ 46.921875 27.09375 42.890625 30.859375 \r\nQ 38.875 34.625 31.78125 34.625 \r\nz\r\nM 21.921875 38.8125 \r\nQ 15.578125 40.375 12.03125 44.71875 \r\nQ 8.5 49.078125 8.5 55.328125 \r\nQ 8.5 64.0625 14.71875 69.140625 \r\nQ 20.953125 74.21875 31.78125 74.21875 \r\nQ 42.671875 74.21875 48.875 69.140625 \r\nQ 55.078125 64.0625 55.078125 55.328125 \r\nQ 55.078125 49.078125 51.53125 44.71875 \r\nQ 48 40.375 41.703125 38.8125 \r\nQ 48.828125 37.15625 52.796875 32.3125 \r\nQ 56.78125 27.484375 56.78125 20.515625 \r\nQ 56.78125 9.90625 50.3125 4.234375 \r\nQ 43.84375 -1.421875 31.78125 -1.421875 \r\nQ 19.734375 -1.421875 13.25 4.234375 \r\nQ 6.78125 9.90625 6.78125 20.515625 \r\nQ 6.78125 27.484375 10.78125 32.3125 \r\nQ 14.796875 37.15625 21.921875 38.8125 \r\nz\r\nM 18.3125 54.390625 \r\nQ 18.3125 48.734375 21.84375 45.5625 \r\nQ 25.390625 42.390625 31.78125 42.390625 \r\nQ 38.140625 42.390625 41.71875 45.5625 \r\nQ 45.3125 48.734375 45.3125 54.390625 \r\nQ 45.3125 60.0625 41.71875 63.234375 \r\nQ 38.140625 66.40625 31.78125 66.40625 \r\nQ 25.390625 66.40625 21.84375 63.234375 \r\nQ 18.3125 60.0625 18.3125 54.390625 \r\nz\r\n\" id=\"DejaVuSans-56\"/>\r\n       </defs>\r\n       <use xlink:href=\"#DejaVuSans-56\"/>\r\n      </g>\r\n     </g>\r\n    </g>\r\n    <g id=\"xtick_8\">\r\n     <g id=\"line2d_8\">\r\n      <g>\r\n       <use style=\"stroke:#000000;stroke-width:0.8;\" x=\"331.680114\" xlink:href=\"#mefb0254c34\" y=\"224.64\"/>\r\n      </g>\r\n     </g>\r\n     <g id=\"text_8\">\r\n      <!-- 9 -->\r\n      <g transform=\"translate(328.498864 239.238437)scale(0.1 -0.1)\">\r\n       <defs>\r\n        <path d=\"M 10.984375 1.515625 \r\nL 10.984375 10.5 \r\nQ 14.703125 8.734375 18.5 7.8125 \r\nQ 22.3125 6.890625 25.984375 6.890625 \r\nQ 35.75 6.890625 40.890625 13.453125 \r\nQ 46.046875 20.015625 46.78125 33.40625 \r\nQ 43.953125 29.203125 39.59375 26.953125 \r\nQ 35.25 24.703125 29.984375 24.703125 \r\nQ 19.046875 24.703125 12.671875 31.3125 \r\nQ 6.296875 37.9375 6.296875 49.421875 \r\nQ 6.296875 60.640625 12.9375 67.421875 \r\nQ 19.578125 74.21875 30.609375 74.21875 \r\nQ 43.265625 74.21875 49.921875 64.515625 \r\nQ 56.59375 54.828125 56.59375 36.375 \r\nQ 56.59375 19.140625 48.40625 8.859375 \r\nQ 40.234375 -1.421875 26.421875 -1.421875 \r\nQ 22.703125 -1.421875 18.890625 -0.6875 \r\nQ 15.09375 0.046875 10.984375 1.515625 \r\nz\r\nM 30.609375 32.421875 \r\nQ 37.25 32.421875 41.125 36.953125 \r\nQ 45.015625 41.5 45.015625 49.421875 \r\nQ 45.015625 57.28125 41.125 61.84375 \r\nQ 37.25 66.40625 30.609375 66.40625 \r\nQ 23.96875 66.40625 20.09375 61.84375 \r\nQ 16.21875 57.28125 16.21875 49.421875 \r\nQ 16.21875 41.5 20.09375 36.953125 \r\nQ 23.96875 32.421875 30.609375 32.421875 \r\nz\r\n\" id=\"DejaVuSans-57\"/>\r\n       </defs>\r\n       <use xlink:href=\"#DejaVuSans-57\"/>\r\n      </g>\r\n     </g>\r\n    </g>\r\n    <g id=\"xtick_9\">\r\n     <g id=\"line2d_9\">\r\n      <g>\r\n       <use style=\"stroke:#000000;stroke-width:0.8;\" x=\"369.725568\" xlink:href=\"#mefb0254c34\" y=\"224.64\"/>\r\n      </g>\r\n     </g>\r\n     <g id=\"text_9\">\r\n      <!-- 10 -->\r\n      <g transform=\"translate(363.363068 239.238437)scale(0.1 -0.1)\">\r\n       <defs>\r\n        <path d=\"M 12.40625 8.296875 \r\nL 28.515625 8.296875 \r\nL 28.515625 63.921875 \r\nL 10.984375 60.40625 \r\nL 10.984375 69.390625 \r\nL 28.421875 72.90625 \r\nL 38.28125 72.90625 \r\nL 38.28125 8.296875 \r\nL 54.390625 8.296875 \r\nL 54.390625 0 \r\nL 12.40625 0 \r\nz\r\n\" id=\"DejaVuSans-49\"/>\r\n        <path d=\"M 31.78125 66.40625 \r\nQ 24.171875 66.40625 20.328125 58.90625 \r\nQ 16.5 51.421875 16.5 36.375 \r\nQ 16.5 21.390625 20.328125 13.890625 \r\nQ 24.171875 6.390625 31.78125 6.390625 \r\nQ 39.453125 6.390625 43.28125 13.890625 \r\nQ 47.125 21.390625 47.125 36.375 \r\nQ 47.125 51.421875 43.28125 58.90625 \r\nQ 39.453125 66.40625 31.78125 66.40625 \r\nz\r\nM 31.78125 74.21875 \r\nQ 44.046875 74.21875 50.515625 64.515625 \r\nQ 56.984375 54.828125 56.984375 36.375 \r\nQ 56.984375 17.96875 50.515625 8.265625 \r\nQ 44.046875 -1.421875 31.78125 -1.421875 \r\nQ 19.53125 -1.421875 13.0625 8.265625 \r\nQ 6.59375 17.96875 6.59375 36.375 \r\nQ 6.59375 54.828125 13.0625 64.515625 \r\nQ 19.53125 74.21875 31.78125 74.21875 \r\nz\r\n\" id=\"DejaVuSans-48\"/>\r\n       </defs>\r\n       <use xlink:href=\"#DejaVuSans-49\"/>\r\n       <use x=\"63.623047\" xlink:href=\"#DejaVuSans-48\"/>\r\n      </g>\r\n     </g>\r\n    </g>\r\n    <g id=\"text_10\">\r\n     <!-- Number of Topics -->\r\n     <g transform=\"translate(174.279688 252.916562)scale(0.1 -0.1)\">\r\n      <defs>\r\n       <path d=\"M 9.8125 72.90625 \r\nL 23.09375 72.90625 \r\nL 55.421875 11.921875 \r\nL 55.421875 72.90625 \r\nL 64.984375 72.90625 \r\nL 64.984375 0 \r\nL 51.703125 0 \r\nL 19.390625 60.984375 \r\nL 19.390625 0 \r\nL 9.8125 0 \r\nz\r\n\" id=\"DejaVuSans-78\"/>\r\n       <path d=\"M 8.5 21.578125 \r\nL 8.5 54.6875 \r\nL 17.484375 54.6875 \r\nL 17.484375 21.921875 \r\nQ 17.484375 14.15625 20.5 10.265625 \r\nQ 23.53125 6.390625 29.59375 6.390625 \r\nQ 36.859375 6.390625 41.078125 11.03125 \r\nQ 45.3125 15.671875 45.3125 23.6875 \r\nL 45.3125 54.6875 \r\nL 54.296875 54.6875 \r\nL 54.296875 0 \r\nL 45.3125 0 \r\nL 45.3125 8.40625 \r\nQ 42.046875 3.421875 37.71875 1 \r\nQ 33.40625 -1.421875 27.6875 -1.421875 \r\nQ 18.265625 -1.421875 13.375 4.4375 \r\nQ 8.5 10.296875 8.5 21.578125 \r\nz\r\nM 31.109375 56 \r\nz\r\n\" id=\"DejaVuSans-117\"/>\r\n       <path d=\"M 52 44.1875 \r\nQ 55.375 50.25 60.0625 53.125 \r\nQ 64.75 56 71.09375 56 \r\nQ 79.640625 56 84.28125 50.015625 \r\nQ 88.921875 44.046875 88.921875 33.015625 \r\nL 88.921875 0 \r\nL 79.890625 0 \r\nL 79.890625 32.71875 \r\nQ 79.890625 40.578125 77.09375 44.375 \r\nQ 74.3125 48.1875 68.609375 48.1875 \r\nQ 61.625 48.1875 57.5625 43.546875 \r\nQ 53.515625 38.921875 53.515625 30.90625 \r\nL 53.515625 0 \r\nL 44.484375 0 \r\nL 44.484375 32.71875 \r\nQ 44.484375 40.625 41.703125 44.40625 \r\nQ 38.921875 48.1875 33.109375 48.1875 \r\nQ 26.21875 48.1875 22.15625 43.53125 \r\nQ 18.109375 38.875 18.109375 30.90625 \r\nL 18.109375 0 \r\nL 9.078125 0 \r\nL 9.078125 54.6875 \r\nL 18.109375 54.6875 \r\nL 18.109375 46.1875 \r\nQ 21.1875 51.21875 25.484375 53.609375 \r\nQ 29.78125 56 35.6875 56 \r\nQ 41.65625 56 45.828125 52.96875 \r\nQ 50 49.953125 52 44.1875 \r\nz\r\n\" id=\"DejaVuSans-109\"/>\r\n       <path d=\"M 48.6875 27.296875 \r\nQ 48.6875 37.203125 44.609375 42.84375 \r\nQ 40.53125 48.484375 33.40625 48.484375 \r\nQ 26.265625 48.484375 22.1875 42.84375 \r\nQ 18.109375 37.203125 18.109375 27.296875 \r\nQ 18.109375 17.390625 22.1875 11.75 \r\nQ 26.265625 6.109375 33.40625 6.109375 \r\nQ 40.53125 6.109375 44.609375 11.75 \r\nQ 48.6875 17.390625 48.6875 27.296875 \r\nz\r\nM 18.109375 46.390625 \r\nQ 20.953125 51.265625 25.265625 53.625 \r\nQ 29.59375 56 35.59375 56 \r\nQ 45.5625 56 51.78125 48.09375 \r\nQ 58.015625 40.1875 58.015625 27.296875 \r\nQ 58.015625 14.40625 51.78125 6.484375 \r\nQ 45.5625 -1.421875 35.59375 -1.421875 \r\nQ 29.59375 -1.421875 25.265625 0.953125 \r\nQ 20.953125 3.328125 18.109375 8.203125 \r\nL 18.109375 0 \r\nL 9.078125 0 \r\nL 9.078125 75.984375 \r\nL 18.109375 75.984375 \r\nz\r\n\" id=\"DejaVuSans-98\"/>\r\n       <path d=\"M 56.203125 29.59375 \r\nL 56.203125 25.203125 \r\nL 14.890625 25.203125 \r\nQ 15.484375 15.921875 20.484375 11.0625 \r\nQ 25.484375 6.203125 34.421875 6.203125 \r\nQ 39.59375 6.203125 44.453125 7.46875 \r\nQ 49.3125 8.734375 54.109375 11.28125 \r\nL 54.109375 2.78125 \r\nQ 49.265625 0.734375 44.1875 -0.34375 \r\nQ 39.109375 -1.421875 33.890625 -1.421875 \r\nQ 20.796875 -1.421875 13.15625 6.1875 \r\nQ 5.515625 13.8125 5.515625 26.8125 \r\nQ 5.515625 40.234375 12.765625 48.109375 \r\nQ 20.015625 56 32.328125 56 \r\nQ 43.359375 56 49.78125 48.890625 \r\nQ 56.203125 41.796875 56.203125 29.59375 \r\nz\r\nM 47.21875 32.234375 \r\nQ 47.125 39.59375 43.09375 43.984375 \r\nQ 39.0625 48.390625 32.421875 48.390625 \r\nQ 24.90625 48.390625 20.390625 44.140625 \r\nQ 15.875 39.890625 15.1875 32.171875 \r\nz\r\n\" id=\"DejaVuSans-101\"/>\r\n       <path d=\"M 41.109375 46.296875 \r\nQ 39.59375 47.171875 37.8125 47.578125 \r\nQ 36.03125 48 33.890625 48 \r\nQ 26.265625 48 22.1875 43.046875 \r\nQ 18.109375 38.09375 18.109375 28.8125 \r\nL 18.109375 0 \r\nL 9.078125 0 \r\nL 9.078125 54.6875 \r\nL 18.109375 54.6875 \r\nL 18.109375 46.1875 \r\nQ 20.953125 51.171875 25.484375 53.578125 \r\nQ 30.03125 56 36.53125 56 \r\nQ 37.453125 56 38.578125 55.875 \r\nQ 39.703125 55.765625 41.0625 55.515625 \r\nz\r\n\" id=\"DejaVuSans-114\"/>\r\n       <path id=\"DejaVuSans-32\"/>\r\n       <path d=\"M 30.609375 48.390625 \r\nQ 23.390625 48.390625 19.1875 42.75 \r\nQ 14.984375 37.109375 14.984375 27.296875 \r\nQ 14.984375 17.484375 19.15625 11.84375 \r\nQ 23.34375 6.203125 30.609375 6.203125 \r\nQ 37.796875 6.203125 41.984375 11.859375 \r\nQ 46.1875 17.53125 46.1875 27.296875 \r\nQ 46.1875 37.015625 41.984375 42.703125 \r\nQ 37.796875 48.390625 30.609375 48.390625 \r\nz\r\nM 30.609375 56 \r\nQ 42.328125 56 49.015625 48.375 \r\nQ 55.71875 40.765625 55.71875 27.296875 \r\nQ 55.71875 13.875 49.015625 6.21875 \r\nQ 42.328125 -1.421875 30.609375 -1.421875 \r\nQ 18.84375 -1.421875 12.171875 6.21875 \r\nQ 5.515625 13.875 5.515625 27.296875 \r\nQ 5.515625 40.765625 12.171875 48.375 \r\nQ 18.84375 56 30.609375 56 \r\nz\r\n\" id=\"DejaVuSans-111\"/>\r\n       <path d=\"M 37.109375 75.984375 \r\nL 37.109375 68.5 \r\nL 28.515625 68.5 \r\nQ 23.6875 68.5 21.796875 66.546875 \r\nQ 19.921875 64.59375 19.921875 59.515625 \r\nL 19.921875 54.6875 \r\nL 34.71875 54.6875 \r\nL 34.71875 47.703125 \r\nL 19.921875 47.703125 \r\nL 19.921875 0 \r\nL 10.890625 0 \r\nL 10.890625 47.703125 \r\nL 2.296875 47.703125 \r\nL 2.296875 54.6875 \r\nL 10.890625 54.6875 \r\nL 10.890625 58.5 \r\nQ 10.890625 67.625 15.140625 71.796875 \r\nQ 19.390625 75.984375 28.609375 75.984375 \r\nz\r\n\" id=\"DejaVuSans-102\"/>\r\n       <path d=\"M -0.296875 72.90625 \r\nL 61.375 72.90625 \r\nL 61.375 64.59375 \r\nL 35.5 64.59375 \r\nL 35.5 0 \r\nL 25.59375 0 \r\nL 25.59375 64.59375 \r\nL -0.296875 64.59375 \r\nz\r\n\" id=\"DejaVuSans-84\"/>\r\n       <path d=\"M 18.109375 8.203125 \r\nL 18.109375 -20.796875 \r\nL 9.078125 -20.796875 \r\nL 9.078125 54.6875 \r\nL 18.109375 54.6875 \r\nL 18.109375 46.390625 \r\nQ 20.953125 51.265625 25.265625 53.625 \r\nQ 29.59375 56 35.59375 56 \r\nQ 45.5625 56 51.78125 48.09375 \r\nQ 58.015625 40.1875 58.015625 27.296875 \r\nQ 58.015625 14.40625 51.78125 6.484375 \r\nQ 45.5625 -1.421875 35.59375 -1.421875 \r\nQ 29.59375 -1.421875 25.265625 0.953125 \r\nQ 20.953125 3.328125 18.109375 8.203125 \r\nz\r\nM 48.6875 27.296875 \r\nQ 48.6875 37.203125 44.609375 42.84375 \r\nQ 40.53125 48.484375 33.40625 48.484375 \r\nQ 26.265625 48.484375 22.1875 42.84375 \r\nQ 18.109375 37.203125 18.109375 27.296875 \r\nQ 18.109375 17.390625 22.1875 11.75 \r\nQ 26.265625 6.109375 33.40625 6.109375 \r\nQ 40.53125 6.109375 44.609375 11.75 \r\nQ 48.6875 17.390625 48.6875 27.296875 \r\nz\r\n\" id=\"DejaVuSans-112\"/>\r\n       <path d=\"M 9.421875 54.6875 \r\nL 18.40625 54.6875 \r\nL 18.40625 0 \r\nL 9.421875 0 \r\nz\r\nM 9.421875 75.984375 \r\nL 18.40625 75.984375 \r\nL 18.40625 64.59375 \r\nL 9.421875 64.59375 \r\nz\r\n\" id=\"DejaVuSans-105\"/>\r\n       <path d=\"M 48.78125 52.59375 \r\nL 48.78125 44.1875 \r\nQ 44.96875 46.296875 41.140625 47.34375 \r\nQ 37.3125 48.390625 33.40625 48.390625 \r\nQ 24.65625 48.390625 19.8125 42.84375 \r\nQ 14.984375 37.3125 14.984375 27.296875 \r\nQ 14.984375 17.28125 19.8125 11.734375 \r\nQ 24.65625 6.203125 33.40625 6.203125 \r\nQ 37.3125 6.203125 41.140625 7.25 \r\nQ 44.96875 8.296875 48.78125 10.40625 \r\nL 48.78125 2.09375 \r\nQ 45.015625 0.34375 40.984375 -0.53125 \r\nQ 36.96875 -1.421875 32.421875 -1.421875 \r\nQ 20.0625 -1.421875 12.78125 6.34375 \r\nQ 5.515625 14.109375 5.515625 27.296875 \r\nQ 5.515625 40.671875 12.859375 48.328125 \r\nQ 20.21875 56 33.015625 56 \r\nQ 37.15625 56 41.109375 55.140625 \r\nQ 45.0625 54.296875 48.78125 52.59375 \r\nz\r\n\" id=\"DejaVuSans-99\"/>\r\n       <path d=\"M 44.28125 53.078125 \r\nL 44.28125 44.578125 \r\nQ 40.484375 46.53125 36.375 47.5 \r\nQ 32.28125 48.484375 27.875 48.484375 \r\nQ 21.1875 48.484375 17.84375 46.4375 \r\nQ 14.5 44.390625 14.5 40.28125 \r\nQ 14.5 37.15625 16.890625 35.375 \r\nQ 19.28125 33.59375 26.515625 31.984375 \r\nL 29.59375 31.296875 \r\nQ 39.15625 29.25 43.1875 25.515625 \r\nQ 47.21875 21.78125 47.21875 15.09375 \r\nQ 47.21875 7.46875 41.1875 3.015625 \r\nQ 35.15625 -1.421875 24.609375 -1.421875 \r\nQ 20.21875 -1.421875 15.453125 -0.5625 \r\nQ 10.6875 0.296875 5.421875 2 \r\nL 5.421875 11.28125 \r\nQ 10.40625 8.6875 15.234375 7.390625 \r\nQ 20.0625 6.109375 24.8125 6.109375 \r\nQ 31.15625 6.109375 34.5625 8.28125 \r\nQ 37.984375 10.453125 37.984375 14.40625 \r\nQ 37.984375 18.0625 35.515625 20.015625 \r\nQ 33.0625 21.96875 24.703125 23.78125 \r\nL 21.578125 24.515625 \r\nQ 13.234375 26.265625 9.515625 29.90625 \r\nQ 5.8125 33.546875 5.8125 39.890625 \r\nQ 5.8125 47.609375 11.28125 51.796875 \r\nQ 16.75 56 26.8125 56 \r\nQ 31.78125 56 36.171875 55.265625 \r\nQ 40.578125 54.546875 44.28125 53.078125 \r\nz\r\n\" id=\"DejaVuSans-115\"/>\r\n      </defs>\r\n      <use xlink:href=\"#DejaVuSans-78\"/>\r\n      <use x=\"74.804688\" xlink:href=\"#DejaVuSans-117\"/>\r\n      <use x=\"138.183594\" xlink:href=\"#DejaVuSans-109\"/>\r\n      <use x=\"235.595703\" xlink:href=\"#DejaVuSans-98\"/>\r\n      <use x=\"299.072266\" xlink:href=\"#DejaVuSans-101\"/>\r\n      <use x=\"360.595703\" xlink:href=\"#DejaVuSans-114\"/>\r\n      <use x=\"401.708984\" xlink:href=\"#DejaVuSans-32\"/>\r\n      <use x=\"433.496094\" xlink:href=\"#DejaVuSans-111\"/>\r\n      <use x=\"494.677734\" xlink:href=\"#DejaVuSans-102\"/>\r\n      <use x=\"529.882812\" xlink:href=\"#DejaVuSans-32\"/>\r\n      <use x=\"561.669922\" xlink:href=\"#DejaVuSans-84\"/>\r\n      <use x=\"605.753906\" xlink:href=\"#DejaVuSans-111\"/>\r\n      <use x=\"666.935547\" xlink:href=\"#DejaVuSans-112\"/>\r\n      <use x=\"730.412109\" xlink:href=\"#DejaVuSans-105\"/>\r\n      <use x=\"758.195312\" xlink:href=\"#DejaVuSans-99\"/>\r\n      <use x=\"813.175781\" xlink:href=\"#DejaVuSans-115\"/>\r\n     </g>\r\n    </g>\r\n   </g>\r\n   <g id=\"matplotlib.axis_2\">\r\n    <g id=\"ytick_1\">\r\n     <g id=\"line2d_10\">\r\n      <defs>\r\n       <path d=\"M 0 0 \r\nL -3.5 0 \r\n\" id=\"me1fe2ba815\" style=\"stroke:#000000;stroke-width:0.8;\"/>\r\n      </defs>\r\n      <g>\r\n       <use style=\"stroke:#000000;stroke-width:0.8;\" x=\"50.14375\" xlink:href=\"#me1fe2ba815\" y=\"203.078786\"/>\r\n      </g>\r\n     </g>\r\n     <g id=\"text_11\">\r\n      <!-- 0.24 -->\r\n      <g transform=\"translate(20.878125 206.878005)scale(0.1 -0.1)\">\r\n       <defs>\r\n        <path d=\"M 10.6875 12.40625 \r\nL 21 12.40625 \r\nL 21 0 \r\nL 10.6875 0 \r\nz\r\n\" id=\"DejaVuSans-46\"/>\r\n       </defs>\r\n       <use xlink:href=\"#DejaVuSans-48\"/>\r\n       <use x=\"63.623047\" xlink:href=\"#DejaVuSans-46\"/>\r\n       <use x=\"95.410156\" xlink:href=\"#DejaVuSans-50\"/>\r\n       <use x=\"159.033203\" xlink:href=\"#DejaVuSans-52\"/>\r\n      </g>\r\n     </g>\r\n    </g>\r\n    <g id=\"ytick_2\">\r\n     <g id=\"line2d_11\">\r\n      <g>\r\n       <use style=\"stroke:#000000;stroke-width:0.8;\" x=\"50.14375\" xlink:href=\"#me1fe2ba815\" y=\"172.616566\"/>\r\n      </g>\r\n     </g>\r\n     <g id=\"text_12\">\r\n      <!-- 0.25 -->\r\n      <g transform=\"translate(20.878125 176.415784)scale(0.1 -0.1)\">\r\n       <use xlink:href=\"#DejaVuSans-48\"/>\r\n       <use x=\"63.623047\" xlink:href=\"#DejaVuSans-46\"/>\r\n       <use x=\"95.410156\" xlink:href=\"#DejaVuSans-50\"/>\r\n       <use x=\"159.033203\" xlink:href=\"#DejaVuSans-53\"/>\r\n      </g>\r\n     </g>\r\n    </g>\r\n    <g id=\"ytick_3\">\r\n     <g id=\"line2d_12\">\r\n      <g>\r\n       <use style=\"stroke:#000000;stroke-width:0.8;\" x=\"50.14375\" xlink:href=\"#me1fe2ba815\" y=\"142.154345\"/>\r\n      </g>\r\n     </g>\r\n     <g id=\"text_13\">\r\n      <!-- 0.26 -->\r\n      <g transform=\"translate(20.878125 145.953564)scale(0.1 -0.1)\">\r\n       <use xlink:href=\"#DejaVuSans-48\"/>\r\n       <use x=\"63.623047\" xlink:href=\"#DejaVuSans-46\"/>\r\n       <use x=\"95.410156\" xlink:href=\"#DejaVuSans-50\"/>\r\n       <use x=\"159.033203\" xlink:href=\"#DejaVuSans-54\"/>\r\n      </g>\r\n     </g>\r\n    </g>\r\n    <g id=\"ytick_4\">\r\n     <g id=\"line2d_13\">\r\n      <g>\r\n       <use style=\"stroke:#000000;stroke-width:0.8;\" x=\"50.14375\" xlink:href=\"#me1fe2ba815\" y=\"111.692125\"/>\r\n      </g>\r\n     </g>\r\n     <g id=\"text_14\">\r\n      <!-- 0.27 -->\r\n      <g transform=\"translate(20.878125 115.491344)scale(0.1 -0.1)\">\r\n       <use xlink:href=\"#DejaVuSans-48\"/>\r\n       <use x=\"63.623047\" xlink:href=\"#DejaVuSans-46\"/>\r\n       <use x=\"95.410156\" xlink:href=\"#DejaVuSans-50\"/>\r\n       <use x=\"159.033203\" xlink:href=\"#DejaVuSans-55\"/>\r\n      </g>\r\n     </g>\r\n    </g>\r\n    <g id=\"ytick_5\">\r\n     <g id=\"line2d_14\">\r\n      <g>\r\n       <use style=\"stroke:#000000;stroke-width:0.8;\" x=\"50.14375\" xlink:href=\"#me1fe2ba815\" y=\"81.229905\"/>\r\n      </g>\r\n     </g>\r\n     <g id=\"text_15\">\r\n      <!-- 0.28 -->\r\n      <g transform=\"translate(20.878125 85.029123)scale(0.1 -0.1)\">\r\n       <use xlink:href=\"#DejaVuSans-48\"/>\r\n       <use x=\"63.623047\" xlink:href=\"#DejaVuSans-46\"/>\r\n       <use x=\"95.410156\" xlink:href=\"#DejaVuSans-50\"/>\r\n       <use x=\"159.033203\" xlink:href=\"#DejaVuSans-56\"/>\r\n      </g>\r\n     </g>\r\n    </g>\r\n    <g id=\"ytick_6\">\r\n     <g id=\"line2d_15\">\r\n      <g>\r\n       <use style=\"stroke:#000000;stroke-width:0.8;\" x=\"50.14375\" xlink:href=\"#me1fe2ba815\" y=\"50.767684\"/>\r\n      </g>\r\n     </g>\r\n     <g id=\"text_16\">\r\n      <!-- 0.29 -->\r\n      <g transform=\"translate(20.878125 54.566903)scale(0.1 -0.1)\">\r\n       <use xlink:href=\"#DejaVuSans-48\"/>\r\n       <use x=\"63.623047\" xlink:href=\"#DejaVuSans-46\"/>\r\n       <use x=\"95.410156\" xlink:href=\"#DejaVuSans-50\"/>\r\n       <use x=\"159.033203\" xlink:href=\"#DejaVuSans-57\"/>\r\n      </g>\r\n     </g>\r\n    </g>\r\n    <g id=\"ytick_7\">\r\n     <g id=\"line2d_16\">\r\n      <g>\r\n       <use style=\"stroke:#000000;stroke-width:0.8;\" x=\"50.14375\" xlink:href=\"#me1fe2ba815\" y=\"20.305464\"/>\r\n      </g>\r\n     </g>\r\n     <g id=\"text_17\">\r\n      <!-- 0.30 -->\r\n      <g transform=\"translate(20.878125 24.104683)scale(0.1 -0.1)\">\r\n       <use xlink:href=\"#DejaVuSans-48\"/>\r\n       <use x=\"63.623047\" xlink:href=\"#DejaVuSans-46\"/>\r\n       <use x=\"95.410156\" xlink:href=\"#DejaVuSans-51\"/>\r\n       <use x=\"159.033203\" xlink:href=\"#DejaVuSans-48\"/>\r\n      </g>\r\n     </g>\r\n    </g>\r\n    <g id=\"text_18\">\r\n     <!-- Coherence score -->\r\n     <g transform=\"translate(14.798438 157.752031)rotate(-90)scale(0.1 -0.1)\">\r\n      <defs>\r\n       <path d=\"M 64.40625 67.28125 \r\nL 64.40625 56.890625 \r\nQ 59.421875 61.53125 53.78125 63.8125 \r\nQ 48.140625 66.109375 41.796875 66.109375 \r\nQ 29.296875 66.109375 22.65625 58.46875 \r\nQ 16.015625 50.828125 16.015625 36.375 \r\nQ 16.015625 21.96875 22.65625 14.328125 \r\nQ 29.296875 6.6875 41.796875 6.6875 \r\nQ 48.140625 6.6875 53.78125 8.984375 \r\nQ 59.421875 11.28125 64.40625 15.921875 \r\nL 64.40625 5.609375 \r\nQ 59.234375 2.09375 53.4375 0.328125 \r\nQ 47.65625 -1.421875 41.21875 -1.421875 \r\nQ 24.65625 -1.421875 15.125 8.703125 \r\nQ 5.609375 18.84375 5.609375 36.375 \r\nQ 5.609375 53.953125 15.125 64.078125 \r\nQ 24.65625 74.21875 41.21875 74.21875 \r\nQ 47.75 74.21875 53.53125 72.484375 \r\nQ 59.328125 70.75 64.40625 67.28125 \r\nz\r\n\" id=\"DejaVuSans-67\"/>\r\n       <path d=\"M 54.890625 33.015625 \r\nL 54.890625 0 \r\nL 45.90625 0 \r\nL 45.90625 32.71875 \r\nQ 45.90625 40.484375 42.875 44.328125 \r\nQ 39.84375 48.1875 33.796875 48.1875 \r\nQ 26.515625 48.1875 22.3125 43.546875 \r\nQ 18.109375 38.921875 18.109375 30.90625 \r\nL 18.109375 0 \r\nL 9.078125 0 \r\nL 9.078125 75.984375 \r\nL 18.109375 75.984375 \r\nL 18.109375 46.1875 \r\nQ 21.34375 51.125 25.703125 53.5625 \r\nQ 30.078125 56 35.796875 56 \r\nQ 45.21875 56 50.046875 50.171875 \r\nQ 54.890625 44.34375 54.890625 33.015625 \r\nz\r\n\" id=\"DejaVuSans-104\"/>\r\n       <path d=\"M 54.890625 33.015625 \r\nL 54.890625 0 \r\nL 45.90625 0 \r\nL 45.90625 32.71875 \r\nQ 45.90625 40.484375 42.875 44.328125 \r\nQ 39.84375 48.1875 33.796875 48.1875 \r\nQ 26.515625 48.1875 22.3125 43.546875 \r\nQ 18.109375 38.921875 18.109375 30.90625 \r\nL 18.109375 0 \r\nL 9.078125 0 \r\nL 9.078125 54.6875 \r\nL 18.109375 54.6875 \r\nL 18.109375 46.1875 \r\nQ 21.34375 51.125 25.703125 53.5625 \r\nQ 30.078125 56 35.796875 56 \r\nQ 45.21875 56 50.046875 50.171875 \r\nQ 54.890625 44.34375 54.890625 33.015625 \r\nz\r\n\" id=\"DejaVuSans-110\"/>\r\n      </defs>\r\n      <use xlink:href=\"#DejaVuSans-67\"/>\r\n      <use x=\"69.824219\" xlink:href=\"#DejaVuSans-111\"/>\r\n      <use x=\"131.005859\" xlink:href=\"#DejaVuSans-104\"/>\r\n      <use x=\"194.384766\" xlink:href=\"#DejaVuSans-101\"/>\r\n      <use x=\"255.908203\" xlink:href=\"#DejaVuSans-114\"/>\r\n      <use x=\"294.771484\" xlink:href=\"#DejaVuSans-101\"/>\r\n      <use x=\"356.294922\" xlink:href=\"#DejaVuSans-110\"/>\r\n      <use x=\"419.673828\" xlink:href=\"#DejaVuSans-99\"/>\r\n      <use x=\"474.654297\" xlink:href=\"#DejaVuSans-101\"/>\r\n      <use x=\"536.177734\" xlink:href=\"#DejaVuSans-32\"/>\r\n      <use x=\"567.964844\" xlink:href=\"#DejaVuSans-115\"/>\r\n      <use x=\"620.064453\" xlink:href=\"#DejaVuSans-99\"/>\r\n      <use x=\"675.044922\" xlink:href=\"#DejaVuSans-111\"/>\r\n      <use x=\"736.226562\" xlink:href=\"#DejaVuSans-114\"/>\r\n      <use x=\"775.089844\" xlink:href=\"#DejaVuSans-101\"/>\r\n     </g>\r\n    </g>\r\n   </g>\r\n   <g id=\"line2d_17\">\r\n    <path clip-path=\"url(#p7a29f7887e)\" d=\"M 65.361932 214.756364 \r\nL 141.452841 206.281731 \r\nL 217.54375 185.169345 \r\nL 293.634659 138.566985 \r\nL 369.725568 17.083636 \r\n\" style=\"fill:none;stroke:#1f77b4;stroke-linecap:square;stroke-width:1.5;\"/>\r\n   </g>\r\n   <g id=\"patch_3\">\r\n    <path d=\"M 50.14375 224.64 \r\nL 50.14375 7.2 \r\n\" style=\"fill:none;stroke:#000000;stroke-linecap:square;stroke-linejoin:miter;stroke-width:0.8;\"/>\r\n   </g>\r\n   <g id=\"patch_4\">\r\n    <path d=\"M 384.94375 224.64 \r\nL 384.94375 7.2 \r\n\" style=\"fill:none;stroke:#000000;stroke-linecap:square;stroke-linejoin:miter;stroke-width:0.8;\"/>\r\n   </g>\r\n   <g id=\"patch_5\">\r\n    <path d=\"M 50.14375 224.64 \r\nL 384.94375 224.64 \r\n\" style=\"fill:none;stroke:#000000;stroke-linecap:square;stroke-linejoin:miter;stroke-width:0.8;\"/>\r\n   </g>\r\n   <g id=\"patch_6\">\r\n    <path d=\"M 50.14375 7.2 \r\nL 384.94375 7.2 \r\n\" style=\"fill:none;stroke:#000000;stroke-linecap:square;stroke-linejoin:miter;stroke-width:0.8;\"/>\r\n   </g>\r\n   <g id=\"legend_1\">\r\n    <g id=\"patch_7\">\r\n     <path d=\"M 57.14375 29.878125 \r\nL 94.642188 29.878125 \r\nQ 96.642188 29.878125 96.642188 27.878125 \r\nL 96.642188 14.2 \r\nQ 96.642188 12.2 94.642188 12.2 \r\nL 57.14375 12.2 \r\nQ 55.14375 12.2 55.14375 14.2 \r\nL 55.14375 27.878125 \r\nQ 55.14375 29.878125 57.14375 29.878125 \r\nz\r\n\" style=\"fill:#ffffff;opacity:0.8;stroke:#cccccc;stroke-linejoin:miter;\"/>\r\n    </g>\r\n    <g id=\"line2d_18\">\r\n     <path d=\"M 59.14375 20.298437 \r\nL 79.14375 20.298437 \r\n\" style=\"fill:none;stroke:#1f77b4;stroke-linecap:square;stroke-width:1.5;\"/>\r\n    </g>\r\n    <g id=\"line2d_19\"/>\r\n    <g id=\"text_19\">\r\n     <!-- c -->\r\n     <g transform=\"translate(87.14375 23.798437)scale(0.1 -0.1)\">\r\n      <use xlink:href=\"#DejaVuSans-99\"/>\r\n     </g>\r\n    </g>\r\n   </g>\r\n  </g>\r\n </g>\r\n <defs>\r\n  <clipPath id=\"p7a29f7887e\">\r\n   <rect height=\"217.44\" width=\"334.8\" x=\"50.14375\" y=\"7.2\"/>\r\n  </clipPath>\r\n </defs>\r\n</svg>\r\n",
      "image/png": "[encoded data removed]"
     },
     "metadata": {
      "needs_background": "light"
     }
    }
   ],
   "source": [
    "# Show graph\n",
    "limit=12; start=2; step=2;\n",
    "x = range(start, limit, step)\n",
    "plt.plot(x, coherence_values)\n",
    "plt.xlabel(\"Number of Topics\")\n",
    "plt.ylabel(\"Coherence score\")\n",
    "plt.legend((\"coherence_values\"), loc='best')\n",
    "plt.show()"
   ]
  },
  {
   "source": [
    "## LDA using TF-IDF\n",
    "\n",
    "## UNIGRAM - 500 Records (Optimal Number of topics --> 10)"
   ],
   "cell_type": "markdown",
   "metadata": {}
  },
  {
   "cell_type": "code",
   "execution_count": 299,
   "metadata": {},
   "outputs": [
    {
     "output_type": "stream",
     "name": "stdout",
     "text": [
      "Topic: 1\nWord: 0.006*\"cherry\" + 0.005*\"cabernet\" + 0.005*\"spice\" + 0.005*\"blend\" + 0.005*\"berry\" + 0.004*\"franc\" + 0.004*\"note\" + 0.004*\"flavor\" + 0.004*\"aroma\" + 0.004*\"merlot\"\n\nTopic: 2\nWord: 0.006*\"cherry\" + 0.005*\"cabernet\" + 0.005*\"raspberry\" + 0.005*\"fruit\" + 0.005*\"flavor\" + 0.004*\"berry\" + 0.004*\"hint\" + 0.004*\"spice\" + 0.004*\"palate\" + 0.004*\"offer\"\n\nTopic: 3\nWord: 0.006*\"ripe\" + 0.006*\"spice\" + 0.005*\"apple\" + 0.005*\"fruit\" + 0.005*\"acidity\" + 0.005*\"offer\" + 0.005*\"note\" + 0.005*\"balance\" + 0.004*\"palate\" + 0.004*\"finish\"\n\nTopic: 4\nWord: 0.006*\"flavor\" + 0.005*\"oak\" + 0.004*\"melon\" + 0.004*\"palate\" + 0.004*\"acidity\" + 0.004*\"finish\" + 0.004*\"fruit\" + 0.004*\"spicy\" + 0.004*\"pear\" + 0.004*\"cherry\"\n\nTopic: 5\nWord: 0.005*\"dried\" + 0.005*\"offer\" + 0.004*\"plum\" + 0.004*\"tannin\" + 0.004*\"aroma\" + 0.004*\"acidity\" + 0.004*\"make\" + 0.004*\"texture\" + 0.004*\"berry\" + 0.004*\"ripe\"\n\nTopic: 6\nWord: 0.005*\"structure\" + 0.005*\"fruit\" + 0.004*\"accent\" + 0.004*\"cinnamon\" + 0.004*\"palate\" + 0.004*\"acidity\" + 0.004*\"mocha\" + 0.004*\"flavor\" + 0.004*\"year\" + 0.003*\"candied\"\n\nTopic: 7\nWord: 0.005*\"blackberry\" + 0.005*\"fruit\" + 0.005*\"fruity\" + 0.005*\"chocolate\" + 0.005*\"savory\" + 0.004*\"flavor\" + 0.004*\"anise\" + 0.004*\"finish\" + 0.004*\"spice\" + 0.004*\"aroma\"\n\nTopic: 8\nWord: 0.005*\"tannin\" + 0.004*\"ripe\" + 0.004*\"cherry\" + 0.004*\"note\" + 0.004*\"palate\" + 0.004*\"fruit\" + 0.004*\"sauvignon\" + 0.004*\"dried\" + 0.004*\"spicy\" + 0.004*\"cabernet\"\n\nTopic: 9\nWord: 0.006*\"flavor\" + 0.006*\"finish\" + 0.006*\"acidity\" + 0.005*\"ripe\" + 0.005*\"tart\" + 0.004*\"fruit\" + 0.004*\"berry\" + 0.004*\"honey\" + 0.004*\"blackberry\" + 0.004*\"take\"\n\nTopic: 10\nWord: 0.008*\"citrus\" + 0.007*\"fruit\" + 0.005*\"spice\" + 0.005*\"apple\" + 0.005*\"stone\" + 0.005*\"aroma\" + 0.005*\"acidity\" + 0.005*\"palate\" + 0.004*\"hint\" + 0.004*\"offer\"\n\n"
     ]
    }
   ],
   "source": [
    "lda_tfidf_unigram_500_model = gensim.models.LdaMulticore(corpus=corpus_tfidf, num_topics=10, id2word=dictionary, passes=2, workers=2, random_state=100)\n",
    "\n",
    "# save model to disk\n",
    "with open(\"lda_tfidf_unigram_500_model.pk\", \"wb\") as file:\n",
    "   pickle.dump(lda_tfidf_unigram_500_model, file)\n",
    "\n",
    "for idx, topic in lda_tfidf_unigram_500_model.print_topics(-1):\n",
    "    print('Topic: {}\\nWord: {}\\n'.format(idx+1, topic))"
   ]
  },
  {
   "source": [
    "# Visualize Topics with pyLDAvis\n",
    "\n",
    "## Unigram TF-IDF LDA Implementation"
   ],
   "cell_type": "markdown",
   "metadata": {}
  },
  {
   "cell_type": "code",
   "execution_count": null,
   "metadata": {},
   "outputs": [],
   "source": [
    "import pyLDAvis.gensim\n",
    "import pyLDAvis\n",
    "\n",
    "# Reload LDA BOW Model (UNIGRAM - 500 Records)\n",
    "with open('lda_bow_unigram_500_model.pk', 'rb') as file_1:\n",
    "    lda_bow_unigram_500_model_obj = pickle.load(file_1)\n",
    "\n",
    "# Visualize the topics\n",
    "pyLDAvis.enable_notebook()\n",
    "LDAvis_prepared = pyLDAvis.gensim.prepare(lda_bow_unigram_500_model_obj, corpus_tfidf, dictionary)\n",
    "LDAvis_prepared"
   ]
  },
  {
   "source": [
    "# Testing the saved Model (BoW Implementation) - UNIGRAM 500 Records"
   ],
   "cell_type": "markdown",
   "metadata": {}
  },
  {
   "cell_type": "code",
   "execution_count": 344,
   "metadata": {},
   "outputs": [
    {
     "output_type": "stream",
     "name": "stdout",
     "text": [
      "Score: 0.9323858618736267\nTopic Number: 0\nTopic Keywords: 0.027*\"flavor\" + 0.024*\"aroma\" + 0.022*\"fruit\" + 0.016*\"palate\" + 0.013*\"tannin\" + 0.013*\"cherry\" + 0.011*\"spice\" + 0.010*\"note\" + 0.009*\"finish\" + 0.008*\"acidity\" \n\nScore: 0.0676141083240509\nTopic Number: 1\nTopic Keywords: 0.030*\"flavor\" + 0.024*\"fruit\" + 0.019*\"acidity\" + 0.017*\"palate\" + 0.013*\"note\" + 0.011*\"cherry\" + 0.010*\"offer\" + 0.010*\"finish\" + 0.009*\"apple\" + 0.009*\"ripe\" \n\n"
     ]
    }
   ],
   "source": [
    "# Reload LDA BOW Model (UNIGRAM - 500 Records)\n",
    "with open('lda_bow_unigram_500_model.pk', 'rb') as file_1:\n",
    "    lda_bow_unigram_500_model_obj = pickle.load(file_1)\n",
    "\n",
    "unseen_document = \"Delivering profound notes of black and red currants, blackberry fruit, blood orange citrus, and dried raspberries underscored by baking spices and dried red florals, this pinot noir is also a textural masterpiece with mouthwatering acidity and grippy cedar-like tannins\"\n",
    "\n",
    "unseen_document_list = [x for x in unseen_document.lower().split()]\n",
    "bow_vector_test_doc = dictionary.doc2bow((unseen_document_list))\n",
    "\n",
    "for index, score in sorted(lda_bow_unigram_500_model_obj[bow_vector_test_doc], key = lambda x: -1 * x[1]):\n",
    "    print(\"Score: {}\\nTopic Number: {}\\nTopic Keywords: {}\".format(score, lda_bow_unigram_500_model_obj.show_topics()[index][0],lda_bow_unigram_500_model_obj.print_topic(index, 10)), \"\\n\")"
   ]
  },
  {
   "cell_type": "code",
   "execution_count": 314,
   "metadata": {},
   "outputs": [
    {
     "output_type": "stream",
     "name": "stdout",
     "text": [
      "Number of topic present in the saved model:  2 \n\nTOPICS: \n"
     ]
    },
    {
     "output_type": "execute_result",
     "data": {
      "text/plain": [
       "[(0,\n",
       "  '0.027*\"flavor\" + 0.024*\"aroma\" + 0.022*\"fruit\" + 0.016*\"palate\" + 0.013*\"tannin\" + 0.013*\"cherry\" + 0.011*\"spice\" + 0.010*\"note\" + 0.009*\"finish\" + 0.008*\"acidity\"'),\n",
       " (1,\n",
       "  '0.030*\"flavor\" + 0.024*\"fruit\" + 0.019*\"acidity\" + 0.017*\"palate\" + 0.013*\"note\" + 0.011*\"cherry\" + 0.010*\"offer\" + 0.010*\"finish\" + 0.009*\"apple\" + 0.009*\"ripe\"')]"
      ]
     },
     "metadata": {},
     "execution_count": 314
    }
   ],
   "source": [
    "# Print Number of topics \n",
    "print(\"Number of topic present in the saved model: \", lda_bow_unigram_500_model_obj.num_topics, \"\\n\")\n",
    "\n",
    "# print all topics\n",
    "print(\"TOPICS: \")\n",
    "lda_bow_unigram_500_model_obj.show_topics()"
   ]
  },
  {
   "source": [
    "## Testing the saved Model (TF-IDF Implementation) - UNIGRAM 500 Records"
   ],
   "cell_type": "markdown",
   "metadata": {}
  },
  {
   "cell_type": "code",
   "execution_count": 345,
   "metadata": {},
   "outputs": [
    {
     "output_type": "stream",
     "name": "stdout",
     "text": [
      "Score: 0.3211032748222351\nTopic Number: 4\nTopic Keywords: 0.005*\"dried\" + 0.005*\"offer\" + 0.004*\"plum\" + 0.004*\"tannin\" + 0.004*\"aroma\" + 0.004*\"acidity\" + 0.004*\"make\" + 0.004*\"texture\" + 0.004*\"berry\" + 0.004*\"ripe\" \n\nScore: 0.2571210265159607\nTopic Number: 9\nTopic Keywords: 0.008*\"citrus\" + 0.007*\"fruit\" + 0.005*\"spice\" + 0.005*\"apple\" + 0.005*\"stone\" + 0.005*\"aroma\" + 0.005*\"acidity\" + 0.005*\"palate\" + 0.004*\"hint\" + 0.004*\"offer\" \n\nScore: 0.22114259004592896\nTopic Number: 1\nTopic Keywords: 0.006*\"cherry\" + 0.005*\"cabernet\" + 0.005*\"raspberry\" + 0.005*\"fruit\" + 0.005*\"flavor\" + 0.004*\"berry\" + 0.004*\"hint\" + 0.004*\"spice\" + 0.004*\"palate\" + 0.004*\"offer\" \n\nScore: 0.1505971997976303\nTopic Number: 2\nTopic Keywords: 0.006*\"ripe\" + 0.006*\"spice\" + 0.005*\"apple\" + 0.005*\"fruit\" + 0.005*\"acidity\" + 0.005*\"offer\" + 0.005*\"note\" + 0.005*\"balance\" + 0.004*\"palate\" + 0.004*\"finish\" \n\n"
     ]
    }
   ],
   "source": [
    "# Reload LDA TFIDF Model (UNIGRAM - 500 Records)\n",
    "with open('lda_tfidf_unigram_500_model.pk', 'rb') as file_2:\n",
    "    lda_tfidf_unigram_500_model_obj = pickle.load(file_2)\n",
    "\n",
    "for index, score in sorted(lda_tfidf_unigram_500_model_obj[bow_vector_test_doc], key = lambda x: -1 * x[1]):\n",
    "    print(\"Score: {}\\nTopic Number: {}\\nTopic Keywords: {}\".format(score, lda_tfidf_unigram_500_model_obj.show_topics()[index][0],lda_tfidf_unigram_500_model_obj.print_topic(index, 10)), \"\\n\")"
   ]
  },
  {
   "source": [
    "# Implementation on Full dataset (Bags of Words Implementation)\n",
    "\n",
    "## UNIGRAM"
   ],
   "cell_type": "markdown",
   "metadata": {}
  },
  {
   "source": [
    "# UNIGRAM\n",
    "full_records_cleaned_text = df['unigram_cleaned_review_noun_verbs_only'].values.tolist()\n",
    "\n",
    "full_cleaned_unigram_text_list_split = [d.split() for d in full_records_cleaned_text]\n",
    "# print(cleaned_unigram_text_list_split[0:2])\n",
    "\n",
    "dictionary_full_unigram = gensim.corpora.Dictionary(full_cleaned_unigram_text_list_split)\n",
    "# print(dictionary)\n",
    "\n",
    "full_unigram_bow_corpus = [dictionary_full_unigram.doc2bow(doc) for doc in full_cleaned_unigram_text_list_split]\n",
    "# bow_corpus[0:2]"
   ],
   "cell_type": "code",
   "metadata": {},
   "execution_count": null,
   "outputs": []
  },
  {
   "cell_type": "code",
   "execution_count": null,
   "metadata": {},
   "outputs": [],
   "source": [
    "from gensim.models import CoherenceModel\n",
    "\n",
    "model_topics = []\n",
    "model_list = []\n",
    "coherence_values = []\n",
    "\n",
    "for num_topics in range(2, 12, 2):\n",
    "    full_unigram_lda_bow_model = gensim.models.LdaMulticore(corpus=full_unigram_bow_corpus, num_topics=num_topics, id2word=dictionary_full_unigram, passes=2, workers=2,  random_state=100)\n",
    "    coherencemodel = CoherenceModel(model=full_unigram_lda_bow_model, texts=full_cleaned_unigram_text_list_split, dictionary=dictionary_full_unigram, coherence='c_v')\n",
    "    model_topics.append(num_topics)\n",
    "    model_list.append(full_unigram_lda_bow_model)\n",
    "    coherence_values.append(coherencemodel.get_coherence())\n",
    "    print(\"#Topics: \" + str(num_topics) + \" Score: \" + str(coherencemodel.get_coherence()))\n",
    "\n",
    "# Show graph\n",
    "limit=12; start=2; step=2;\n",
    "x = range(start, limit, step)\n",
    "plt.plot(x, coherence_values)\n",
    "plt.xlabel(\"Number of Topics\")\n",
    "plt.ylabel(\"Coherence score\")\n",
    "plt.legend((\"coherence_values\"), loc='best')\n",
    "plt.show()"
   ]
  },
  {
   "cell_type": "code",
   "execution_count": null,
   "metadata": {},
   "outputs": [],
   "source": [
    "# Train our lda model using gensim.models.LdaMulticore and save it to ‘lda_model’\n",
    "\n",
    "# Change the num_topics based on results obtained above\n",
    "lda_bow_unigram_full_model = gensim.models.LdaMulticore(corpus=bow_corpus, num_topics=2, id2word=dictionary, passes=2, workers=2, random_state=100)\n",
    "\n",
    "# save model to disk\n",
    "import pickle\n",
    "\n",
    "with open(\"lda_bow_unigram_full_model.pk\", \"wb\") as file:\n",
    "   pickle.dump(lda_bow_unigram_full_model, file)\n",
    "\n",
    "# For each topic, we will explore the words occuring in that topic and its relative weight.\n",
    "for idx, topic in lda_bow_unigram_full_model.print_topics(-1):\n",
    "    print('Topic: {} \\nWords: {}\\n'.format(idx + 1, topic))"
   ]
  },
  {
   "source": [
    "## BIGRAM "
   ],
   "cell_type": "markdown",
   "metadata": {}
  },
  {
   "cell_type": "code",
   "execution_count": null,
   "metadata": {},
   "outputs": [],
   "source": [
    "full_records_cleaned_text_bigram = df['bigram_cleaned_review_noun_verbs_only'].values.tolist()\n",
    "\n",
    "full_cleaned_bigram_text_list_split = [d.split() for d in full_records_cleaned_text_bigram]\n",
    "\n",
    "dictionary_full_bigram = gensim.corpora.Dictionary(full_cleaned_bigram_text_list_split)\n",
    "\n",
    "full_bigram_bow_corpus = [dictionary_full_bigram.doc2bow(doc) for doc in full_cleaned_bigram_text_list_split]"
   ]
  },
  {
   "cell_type": "code",
   "execution_count": null,
   "metadata": {},
   "outputs": [],
   "source": [
    "model_topics = []\n",
    "model_list = []\n",
    "coherence_values = []\n",
    "\n",
    "for num_topics in range(2, 12, 2):\n",
    "    full_bigram_lda_bow_model = gensim.models.LdaMulticore(corpus=full_bigram_bow_corpus, num_topics=num_topics, id2word=dictionary_full_bigram, passes=2, workers=2,  random_state=100)\n",
    "    coherencemodel = CoherenceModel(model=full_bigram_lda_bow_model, texts=full_cleaned_bigram_text_list_split, dictionary=dictionary_full_bigram, coherence='c_v')\n",
    "    model_topics.append(num_topics)\n",
    "    model_list.append(full_bigram_lda_bow_model)\n",
    "    coherence_values.append(coherencemodel.get_coherence())\n",
    "    print(\"#Topics: \" + str(num_topics) + \" Score: \" + str(coherencemodel.get_coherence()))\n",
    "\n",
    "# Show graph\n",
    "limit=12; start=2; step=2;\n",
    "x = range(start, limit, step)\n",
    "plt.plot(x, coherence_values)\n",
    "plt.xlabel(\"Number of Topics\")\n",
    "plt.ylabel(\"Coherence score\")\n",
    "plt.legend((\"coherence_values\"), loc='best')\n",
    "plt.show()"
   ]
  },
  {
   "cell_type": "code",
   "execution_count": null,
   "metadata": {},
   "outputs": [],
   "source": [
    "# Change the num_topics based on results obtained above\n",
    "lda_bow_bigram_full_model = gensim.models.LdaMulticore(corpus=full_bigram_bow_corpus, num_topics=2, id2word=dictionary_full_bigram, passes=2, workers=2, random_state=100)\n",
    "\n",
    "# save model to disk\n",
    "with open(\"lda_bow_bigram_full_model.pk\", \"wb\") as file:\n",
    "   pickle.dump(lda_bow_bigram_full_model, file)\n",
    "\n",
    "# For each topic, we will explore the words occuring in that topic and its relative weight.\n",
    "for idx, topic in lda_bow_bigram_full_model.print_topics(-1):\n",
    "    print('Topic: {} \\nWords: {}\\n'.format(idx + 1, topic))"
   ]
  },
  {
   "source": [
    "## TRIGRAM "
   ],
   "cell_type": "markdown",
   "metadata": {}
  },
  {
   "cell_type": "code",
   "execution_count": null,
   "metadata": {},
   "outputs": [],
   "source": [
    "full_records_cleaned_text_trigram = df['trigram_cleaned_review_noun_verbs_only'].values.tolist()\n",
    "\n",
    "full_cleaned_trigram_text_list_split = [d.split() for d in full_records_cleaned_text_trigram]\n",
    "\n",
    "dictionary_full_trigram = gensim.corpora.Dictionary(full_cleaned_trigram_text_list_split)\n",
    "\n",
    "full_trigram_bow_corpus = [dictionary_full_trigram.doc2bow(doc) for doc in full_cleaned_trigram_text_list_split]"
   ]
  },
  {
   "cell_type": "code",
   "execution_count": null,
   "metadata": {},
   "outputs": [],
   "source": [
    "model_topics = []\n",
    "model_list = []\n",
    "coherence_values = []\n",
    "\n",
    "for num_topics in range(2, 12, 2):\n",
    "    full_trigram_lda_bow_model = gensim.models.LdaMulticore(corpus=full_trigram_bow_corpus, num_topics=num_topics, id2word=dictionary_full_trigram, passes=2, workers=2,  random_state=100)\n",
    "    coherencemodel = CoherenceModel(model=full_trigram_lda_bow_model, texts=full_cleaned_trigram_text_list_split, dictionary=dictionary_full_trigram, coherence='c_v')\n",
    "    model_topics.append(num_topics)\n",
    "    model_list.append(full_trigram_lda_bow_model)\n",
    "    coherence_values.append(coherencemodel.get_coherence())\n",
    "    print(\"#Topics: \" + str(num_topics) + \" Score: \" + str(coherencemodel.get_coherence()))\n",
    "\n",
    "# Show graph\n",
    "limit=12; start=2; step=2;\n",
    "x = range(start, limit, step)\n",
    "plt.plot(x, coherence_values)\n",
    "plt.xlabel(\"Number of Topics\")\n",
    "plt.ylabel(\"Coherence score\")\n",
    "plt.legend((\"coherence_values\"), loc='best')\n",
    "plt.show()"
   ]
  },
  {
   "cell_type": "code",
   "execution_count": null,
   "metadata": {},
   "outputs": [],
   "source": [
    "# Change the num_topics based on results obtained above\n",
    "lda_bow_trigram_full_model = gensim.models.LdaMulticore(corpus=full_trigram_bow_corpus, num_topics=2, id2word=dictionary_full_trigram, passes=2, workers=2, random_state=100)\n",
    "\n",
    "# save model to disk\n",
    "with open(\"lda_bow_trigram_full_model.pk\", \"wb\") as file:\n",
    "   pickle.dump(lda_bow_trigram_full_model, file)\n",
    "\n",
    "# For each topic, we will explore the words occuring in that topic and its relative weight.\n",
    "for idx, topic in lda_bow_trigram_full_model.print_topics(-1):\n",
    "    print('Topic: {} \\nWords: {}\\n'.format(idx + 1, topic))"
   ]
  },
  {
   "source": [
    "# Implementation on Full dataset (TF-IDF Implementation)\n",
    "\n",
    " "
   ],
   "cell_type": "markdown",
   "metadata": {}
  },
  {
   "source": [
    "## Create TF-IDF model object on bow_corpus and name it corpus_tfidf (Unigram)"
   ],
   "cell_type": "markdown",
   "metadata": {}
  },
  {
   "source": [
    "tfidf_unigram_model = models.TfidfModel(full_unigram_bow_corpus)\n",
    "corpus_tfidf_unigram = tfidf_unigram_model[full_unigram_bow_corpus]"
   ],
   "cell_type": "code",
   "metadata": {},
   "execution_count": null,
   "outputs": []
  },
  {
   "cell_type": "code",
   "execution_count": null,
   "metadata": {},
   "outputs": [],
   "source": [
    "model_topics = []\n",
    "model_list = []\n",
    "coherence_values = []\n",
    "\n",
    "for num_topics in range(2, 12, 2):\n",
    "    unigram_lda_tfidf_model= gensim.models.LdaMulticore(corpus=corpus_tfidf_unigram, num_topics=num_topics, id2word=dictionary_full_bigram, passes=2, workers=2,  random_state=100)\n",
    "    coherencemodel = CoherenceModel(model=unigram_lda_tfidf_model, texts=full_cleaned_unigram_text_list_split, dictionary=dictionary_full_bigram, coherence='c_v')\n",
    "    model_topics.append(num_topics)\n",
    "    model_list.append(unigram_lda_tfidf_model)\n",
    "    coherence_values.append(coherencemodel.get_coherence())\n",
    "    print(\"#Topics: \" + str(num_topics) + \" Score: \" + str(coherencemodel.get_coherence()))"
   ]
  },
  {
   "cell_type": "code",
   "execution_count": null,
   "metadata": {},
   "outputs": [],
   "source": [
    "# Show graph\n",
    "limit=12; start=2; step=2;\n",
    "x = range(start, limit, step)\n",
    "plt.plot(x, coherence_values)\n",
    "plt.xlabel(\"Number of Topics\")\n",
    "plt.ylabel(\"Coherence score\")\n",
    "plt.legend((\"coherence_values\"), loc='best')\n",
    "plt.show()"
   ]
  },
  {
   "cell_type": "code",
   "execution_count": null,
   "metadata": {},
   "outputs": [],
   "source": [
    "lda_tfidf_unigram_full_model = gensim.models.LdaMulticore(corpus=corpus_tfidf_unigram, num_topics=10, id2word=dictionary_full_unigram, passes=2, workers=2, random_state=100)\n",
    "\n",
    "# save model to disk\n",
    "with open(\"lda_tfidf_unigram_full_model.pk\", \"wb\") as file:\n",
    "   pickle.dump(lda_tfidf_unigram_full_model, file)\n",
    "\n",
    "for idx, topic in lda_tfidf_unigram_full_model.print_topics(-1):\n",
    "    print('Topic: {}\\nWord: {}\\n'.format(idx+1, topic))"
   ]
  },
  {
   "source": [
    "## BIGRAM"
   ],
   "cell_type": "markdown",
   "metadata": {}
  },
  {
   "cell_type": "code",
   "execution_count": null,
   "metadata": {},
   "outputs": [],
   "source": [
    "tfidf_bigram_model = models.TfidfModel(full_bigram_bow_corpus)\n",
    "corpus_tfidf_bigram = tfidf_bigram_model[full_bigram_bow_corpus]"
   ]
  },
  {
   "cell_type": "code",
   "execution_count": null,
   "metadata": {},
   "outputs": [],
   "source": [
    "model_topics = []\n",
    "model_list = []\n",
    "coherence_values = []\n",
    "\n",
    "for num_topics in range(2, 12, 2):\n",
    "    bigram_lda_tfidf_model= gensim.models.LdaMulticore(corpus=corpus_tfidf_bigram, num_topics=num_topics, id2word=dictionary_full_bigram, passes=2, workers=2,  random_state=100)\n",
    "    coherencemodel = CoherenceModel(model=bigram_lda_tfidf_model, texts=full_cleaned_bigram_text_list_split, dictionary=dictionary_full_bigram, coherence='c_v')\n",
    "    model_topics.append(num_topics)\n",
    "    model_list.append(bigram_lda_tfidf_model)\n",
    "    coherence_values.append(coherencemodel.get_coherence())\n",
    "    print(\"#Topics: \" + str(num_topics) + \" Score: \" + str(coherencemodel.get_coherence()))"
   ]
  },
  {
   "cell_type": "code",
   "execution_count": null,
   "metadata": {},
   "outputs": [],
   "source": [
    "# Show graph\n",
    "limit=12; start=2; step=2;\n",
    "x = range(start, limit, step)\n",
    "plt.plot(x, coherence_values)\n",
    "plt.xlabel(\"Number of Topics\")\n",
    "plt.ylabel(\"Coherence score\")\n",
    "plt.legend((\"coherence_values\"), loc='best')\n",
    "plt.show()"
   ]
  },
  {
   "cell_type": "code",
   "execution_count": null,
   "metadata": {},
   "outputs": [],
   "source": [
    "lda_tfidf_bigram_full_model = gensim.models.LdaMulticore(corpus=corpus_tfidf_bigram, num_topics=10, id2word=dictionary_full_bigram, passes=2, workers=2, random_state=100)\n",
    "\n",
    "# save model to disk\n",
    "with open(\"lda_tfidf_bigram_full_model.pk\", \"wb\") as file:\n",
    "   pickle.dump(lda_tfidf_bigram_full_model, file)\n",
    "\n",
    "for idx, topic in lda_tfidf_bigram_full_model.print_topics(-1):\n",
    "    print('Topic: {}\\nWord: {}\\n'.format(idx+1, topic))"
   ]
  },
  {
   "source": [
    "## TRIGRAM"
   ],
   "cell_type": "markdown",
   "metadata": {}
  },
  {
   "cell_type": "code",
   "execution_count": null,
   "metadata": {},
   "outputs": [],
   "source": [
    "tfidf_trigram_model = models.TfidfModel(full_trigram_bow_corpus)\n",
    "corpus_tfidf_trigram = tfidf_trigram_model[full_trigram_bow_corpus]"
   ]
  },
  {
   "cell_type": "code",
   "execution_count": null,
   "metadata": {},
   "outputs": [],
   "source": [
    "model_topics = []\n",
    "model_list = []\n",
    "coherence_values = []\n",
    "\n",
    "for num_topics in range(2, 12, 2):\n",
    "    trigram_lda_tfidf_model= gensim.models.LdaMulticore(corpus=corpus_tfidf_trigram, num_topics=num_topics, id2word=dictionary_full_trigram, passes=2, workers=2,  random_state=100)\n",
    "    coherencemodel = CoherenceModel(model=trigram_lda_tfidf_model, texts=full_cleaned_trigram_text_list_split, dictionary=dictionary_full_trigram, coherence='c_v')\n",
    "    model_topics.append(num_topics)\n",
    "    model_list.append(trigram_lda_tfidf_model)\n",
    "    coherence_values.append(coherencemodel.get_coherence())\n",
    "    print(\"#Topics: \" + str(num_topics) + \" Score: \" + str(coherencemodel.get_coherence()))"
   ]
  },
  {
   "cell_type": "code",
   "execution_count": null,
   "metadata": {},
   "outputs": [],
   "source": [
    "# Show graph\n",
    "limit=12; start=2; step=2;\n",
    "x = range(start, limit, step)\n",
    "plt.plot(x, coherence_values)\n",
    "plt.xlabel(\"Number of Topics\")\n",
    "plt.ylabel(\"Coherence score\")\n",
    "plt.legend((\"coherence_values\"), loc='best')\n",
    "plt.show()"
   ]
  },
  {
   "cell_type": "code",
   "execution_count": null,
   "metadata": {},
   "outputs": [],
   "source": [
    "lda_tfidf_trigram_full_model = gensim.models.LdaMulticore(corpus=corpus_tfidf_trigram, num_topics=10, id2word=dictionary_full_trigram, passes=2, workers=2, random_state=100)\n",
    "\n",
    "# save model to disk\n",
    "with open(\"lda_tfidf_trigram_full_model.pk\", \"wb\") as file:\n",
    "   pickle.dump(lda_tfidf_trigram_full_model, file)\n",
    "\n",
    "for idx, topic in lda_tfidf_trigram_full_model.print_topics(-1):\n",
    "    print('Topic: {}\\nWord: {}\\n'.format(idx+1, topic))"
   ]
  }
 ],
 "metadata": {
  "kernelspec": {
   "name": "python3",
   "display_name": "Python 3.8.0 64-bit",
   "metadata": {
    "interpreter": {
     "hash": "f9cac72f8db9d53486d51e31d7e36e00a08f55c8619e7596bc2174d6ad80fb38"
    }
   }
  }
 },
 "nbformat": 4,
 "nbformat_minor": 2
}