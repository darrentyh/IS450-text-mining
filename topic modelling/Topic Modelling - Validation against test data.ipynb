{
 "metadata": {
  "language_info": {
   "codemirror_mode": {
    "name": "ipython",
    "version": 3
   },
   "file_extension": ".py",
   "mimetype": "text/x-python",
   "name": "python",
   "nbconvert_exporter": "python",
   "pygments_lexer": "ipython3",
   "version": "3.9.2-final"
  },
  "orig_nbformat": 2,
  "kernelspec": {
   "name": "python3",
   "display_name": "Python 3.9.2 64-bit",
   "metadata": {
    "interpreter": {
     "hash": "bda49558a1d677dcfb1c56a3f8151a85c0a835beaf40a3cdd645f97c5cdef1d8"
    }
   }
  }
 },
 "nbformat": 4,
 "nbformat_minor": 2,
 "cells": [
  {
   "cell_type": "code",
   "execution_count": 1,
   "metadata": {},
   "outputs": [],
   "source": [
    "import pandas as pd\n",
    "import numpy as np\n",
    "import re\n",
    "import matplotlib.pyplot as plt\n",
    "%matplotlib inline\n",
    "import seaborn as sns\n",
    "import gensim\n",
    "import string \n",
    "import nltk\n",
    "import pickle\n",
    "\n",
    "from sklearn.feature_extraction.text import CountVectorizer,TfidfVectorizer\n",
    "from nltk.stem import WordNetLemmatizer\n",
    "from nltk.tokenize import sent_tokenize, word_tokenize\n",
    "from nltk.corpus import stopwords\n",
    "from gensim import corpora, models  "
   ]
  },
  {
   "cell_type": "code",
   "execution_count": 2,
   "metadata": {},
   "outputs": [],
   "source": [
    "# Building up the dictionary\n",
    "\n",
    "text_data = []\n",
    "\n",
    "with open('dictionary_bigram_cleaned_reviews_nverbs_only.txt', 'r') as f:\n",
    "    for line in f:\n",
    "        tokens = word_tokenize(line)\n",
    "        text_data.append(tokens)\n",
    "\n",
    "dictionary = gensim.corpora.Dictionary(text_data)"
   ]
  },
  {
   "cell_type": "code",
   "execution_count": 3,
   "metadata": {},
   "outputs": [],
   "source": [
    "# Instantiate lemmatizer\n",
    "lemmatizer = WordNetLemmatizer()\n",
    "\n",
    "def preprocess(x):\n",
    "    \n",
    "    # 1. Lower case\n",
    "    tmp = x.lower()\n",
    "    \n",
    "    # 2. Tokenize the sentences\n",
    "    tokens = word_tokenize(tmp)\n",
    "\n",
    "    # Stopword List\n",
    "    stopword_list = ['i', 'me', 'my', 'myself', 'we', 'our', 'ours', 'ourselves', 'you', \"you're\", \"you've\", \"you'll\", \"you'd\", 'your', 'yours', 'yourself', 'yourselves', 'he', 'him', 'his', 'himself', 'she', \"she's\", 'her', 'hers', 'herself', 'it', \"it's\", 'its', 'itself', 'they', 'them', 'their', 'theirs', 'themselves', 'what', 'which', 'who', 'whom', 'this', 'that', \"that'll\", 'these', 'those', 'am', 'is', 'are', 'was', 'were', 'be', 'been', 'being', 'have', 'has', 'had', 'having', 'do', 'does', 'did', 'doing', 'a', 'an', 'the', 'and', 'but', 'if', 'or', 'because', 'as', 'until', 'while', 'of', 'at', 'by', 'for', 'with', 'about', 'against', 'between', 'into', 'through', 'during', 'before', 'after', 'above', 'below', 'to', 'from', 'up', 'down', 'in', 'out', 'on', 'off', 'over', 'under', 'again', 'further', 'then', 'once', 'here', 'there', 'when', 'where', 'why', 'how', 'all', 'any', 'both', 'each', 'few', 'more', 'most', 'other', 'some', 'such', 'no', 'nor', 'not', 'only', 'own', 'same', 'so', 'than', 'too', 'very', 's', 't', 'can', 'will', 'just', 'don', \"don't\", 'should', \"should've\", 'now', 'd', 'll', 'm', 'o', 're', 've', 'y', 'ain', 'aren', \"aren't\", 'couldn', \"couldn't\", 'didn', \"didn't\", 'doesn', \"doesn't\", 'hadn', \"hadn't\", 'hasn', \"hasn't\", 'haven', \"haven't\", 'isn', \"isn't\", 'ma', 'mightn', \"mightn't\", 'mustn', \"mustn't\", 'needn', \"needn't\", 'shan', \"shan't\", 'shouldn', \"shouldn't\", 'wasn', \"wasn't\", 'weren', \"weren't\", 'won', \"won't\", 'wouldn', \"wouldn't\", 'wine', 'drink', 'shows', 'also', 'made', 'like', 'bit', 'give', 'opens', 'alongside', 'along', 'ready', 'yet', 'one', 'feels', 'almost']\n",
    "\n",
    "    # 3. Remove stopwords\n",
    "    no_stopwords = [word for word in tokens if word not in stopword_list and word.isalpha()]\n",
    "    \n",
    "    # 4. Lemmatize\n",
    "    lemma_text = ' '.join([lemmatizer.lemmatize(word) for word in no_stopwords])\n",
    "\n",
    "    # 5. Remove punctuations\n",
    "    processed_text = lemma_text.translate(str.maketrans('', '', string.punctuation))\n",
    "        \n",
    "    return processed_text"
   ]
  },
  {
   "cell_type": "code",
   "execution_count": 4,
   "metadata": {},
   "outputs": [],
   "source": [
    "test_data = \"Delivering profound notes of black and red currants, blackberry fruit, blood orange citrus, and dried raspberries underscored by baking spices and dried red florals, this pinot noir is also a textural masterpiece with mouthwatering acidity and grippy cedar-like tannins\""
   ]
  },
  {
   "cell_type": "code",
   "execution_count": 5,
   "metadata": {},
   "outputs": [],
   "source": [
    "test_data_cleaned = preprocess(test_data)\n",
    "test_data_cleaned_tokens = word_tokenize(test_data_cleaned)\n",
    "test_data_cleaned_tokens_bow = [dictionary.doc2bow(test_data_cleaned_tokens)]"
   ]
  },
  {
   "cell_type": "code",
   "execution_count": 6,
   "metadata": {},
   "outputs": [],
   "source": [
    "# Reload LDA BIGRAM TF-IDF Model\n",
    "with open('./LDA Gensim (Initial Model)/lda_tfidf_bigram_full_model.pk', 'rb') as file:\n",
    "    lda_model = pickle.load(file)"
   ]
  },
  {
   "cell_type": "code",
   "execution_count": 7,
   "metadata": {},
   "outputs": [
    {
     "output_type": "stream",
     "name": "stdout",
     "text": [
      "Score: 0.38397103548049927\n\nTopic Number: 0\nTopic Keywords: 0.010*\"cherry\" + 0.009*\"blackberry\" + 0.008*\"merlot\" + 0.008*\"cabernet_sauvignon\" + 0.008*\"blend\" + 0.008*\"tannin\" + 0.007*\"flavor\" + 0.006*\"fruit\" + 0.006*\"oak\" + 0.006*\"herb\" \n\nScore: 0.21869176626205444\n\nTopic Number: 4\nTopic Keywords: 0.018*\"fruit\" + 0.016*\"acidity\" + 0.014*\"tannin\" + 0.014*\"character\" + 0.013*\"ripe\" + 0.013*\"structure\" + 0.011*\"fruity\" + 0.011*\"texture\" + 0.011*\"wood\" + 0.011*\"age\" \n\nScore: 0.19740286469459534\n\nTopic Number: 5\nTopic Keywords: 0.015*\"apple\" + 0.013*\"peach\" + 0.012*\"citrus\" + 0.010*\"palate\" + 0.009*\"note\" + 0.009*\"acidity\" + 0.008*\"flavor\" + 0.008*\"finish\" + 0.008*\"aroma\" + 0.008*\"melon\" \n\nScore: 0.10652409493923187\n\nTopic Number: 3\nTopic Keywords: 0.011*\"cherry\" + 0.007*\"spice\" + 0.007*\"cola\" + 0.006*\"raspberry\" + 0.006*\"flavor\" + 0.006*\"blackberry\" + 0.006*\"tannin\" + 0.006*\"oak\" + 0.006*\"fruit\" + 0.005*\"note\" \n\nScore: 0.08715669065713882\n\nTopic Number: 2\nTopic Keywords: 0.012*\"crisp\" + 0.011*\"acidity\" + 0.010*\"fruity\" + 0.008*\"fruit\" + 0.008*\"texture\" + 0.008*\"aftertaste\" + 0.007*\"apple\" + 0.007*\"citrus\" + 0.007*\"character\" + 0.006*\"refreshing\" \n\n"
     ]
    }
   ],
   "source": [
    "# Sorted in descending order by coherence score\n",
    "# for index, score in sorted(lda_model[test_data_cleaned_tokens_bow], key = lambda x: -1 * x[1]):\n",
    "for index, score in sorted(lda_model[test_data_cleaned_tokens_bow][0], key = lambda x: -1 * x[1]):\n",
    "\n",
    "    print(\"Score: {}\\n\\nTopic Number: {}\\nTopic Keywords: {}\".format(score, lda_model.show_topics()[index][0],lda_model.print_topic(index, 10)), \"\\n\")"
   ]
  },
  {
   "cell_type": "code",
   "execution_count": 8,
   "metadata": {},
   "outputs": [
    {
     "output_type": "execute_result",
     "data": {
      "text/plain": [
       "[(0,\n",
       "  '0.010*\"cherry\" + 0.009*\"blackberry\" + 0.008*\"merlot\" + 0.008*\"cabernet_sauvignon\" + 0.008*\"blend\" + 0.008*\"tannin\" + 0.007*\"flavor\" + 0.006*\"fruit\" + 0.006*\"oak\" + 0.006*\"herb\"'),\n",
       " (1,\n",
       "  '0.014*\"aroma\" + 0.013*\"palate\" + 0.013*\"berry\" + 0.012*\"cherry\" + 0.012*\"plum\" + 0.010*\"tannin\" + 0.010*\"note\" + 0.008*\"offer\" + 0.007*\"finish\" + 0.007*\"flavor\"'),\n",
       " (2,\n",
       "  '0.012*\"crisp\" + 0.011*\"acidity\" + 0.010*\"fruity\" + 0.008*\"fruit\" + 0.008*\"texture\" + 0.008*\"aftertaste\" + 0.007*\"apple\" + 0.007*\"citrus\" + 0.007*\"character\" + 0.006*\"refreshing\"'),\n",
       " (3,\n",
       "  '0.011*\"cherry\" + 0.007*\"spice\" + 0.007*\"cola\" + 0.006*\"raspberry\" + 0.006*\"flavor\" + 0.006*\"blackberry\" + 0.006*\"tannin\" + 0.006*\"oak\" + 0.006*\"fruit\" + 0.005*\"note\"'),\n",
       " (4,\n",
       "  '0.018*\"fruit\" + 0.016*\"acidity\" + 0.014*\"tannin\" + 0.014*\"character\" + 0.013*\"ripe\" + 0.013*\"structure\" + 0.011*\"fruity\" + 0.011*\"texture\" + 0.011*\"wood\" + 0.011*\"age\"'),\n",
       " (5,\n",
       "  '0.015*\"apple\" + 0.013*\"peach\" + 0.012*\"citrus\" + 0.010*\"palate\" + 0.009*\"note\" + 0.009*\"acidity\" + 0.008*\"flavor\" + 0.008*\"finish\" + 0.008*\"aroma\" + 0.008*\"melon\"')]"
      ]
     },
     "metadata": {},
     "execution_count": 8
    }
   ],
   "source": [
    "lda_model.show_topics()"
   ]
  },
  {
   "cell_type": "code",
   "execution_count": 9,
   "metadata": {},
   "outputs": [],
   "source": [
    "# Create Function to obtain Topic Number\n",
    "\n",
    "def assign_topic(x):\n",
    "    if x == 0:\n",
    "        return \"Red Wine\"\n",
    "    elif x == 1:\n",
    "        return \"Cherry Plum Wine\"\n",
    "    elif x == 2:\n",
    "        return \"Champagne\"\n",
    "    elif x == 3:\n",
    "        return \"Berries Wine\"\n",
    "    elif x == 4:\n",
    "        return \"White Wine\"\n",
    "    elif x == 5:\n",
    "        return \"Peach Wine\""
   ]
  },
  {
   "cell_type": "code",
   "execution_count": 10,
   "metadata": {},
   "outputs": [
    {
     "output_type": "stream",
     "name": "stdout",
     "text": [
      "Red Wine\n"
     ]
    }
   ],
   "source": [
    "topics = lda_model.get_document_topics(test_data_cleaned_tokens_bow)[0]\n",
    "sorted_topics = sorted(topics, key=lambda x:x[1],reverse=True)\n",
    "sorted_topic_top = sorted_topics[0][0]\n",
    "\n",
    "print(assign_topic(sorted_topic_top))"
   ]
  }
 ]
}